{
  "nbformat": 4,
  "nbformat_minor": 0,
  "metadata": {
    "colab": {
      "provenance": []
    },
    "kernelspec": {
      "name": "python3",
      "display_name": "Python 3"
    },
    "language_info": {
      "name": "python"
    }
  },
  "cells": [
    {
      "cell_type": "markdown",
      "source": [
        "# ***1. Foundational Knowledge:***\n",
        "Understand the principles of Recurrent Neural Networks (RNNs), Long Short-Term Memory (LSTM), and Gated Recurrent Unit (GRU) networks.\n"
      ],
      "metadata": {
        "id": "5MrIz0R63OkW"
      }
    },
    {
      "cell_type": "markdown",
      "source": [
        "![image.png](data:image/png;base64,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)"
      ],
      "metadata": {
        "id": "gYNU7WXUMwXS"
      }
    },
    {
      "cell_type": "markdown",
      "source": [
        "# ***Intuition with a Real-Life Analogy:***\n",
        "**Vanilla RNN:**\n",
        "Imagine you’re reading a book one word at a time. After reading a few pages, you try to recall a fact from the very first chapter. It’s hard because your short-term memory fades quickly. This is like an RNN — it remembers recent inputs better but struggles with information far back.\n",
        "\n",
        "**LSTM:**\n",
        "Now, imagine you have a notebook where you **write down important facts as you read**. You decide what to write down, what to erase, and what to recall later. This notebook is like the cell state of LSTM — controlled by gates **(write, forget, read)**. You can remember important facts even if they appeared long ago.\n",
        "\n",
        "**GRU**:\n",
        "Similar to LSTM but simpler — you have **a smaller notebook with fewer rules** about what to** keep or forget**, making it easier and quicker to use but still pretty effective.\n",
        "\n"
      ],
      "metadata": {
        "id": "MchKpDPNI5_Y"
      }
    },
    {
      "cell_type": "markdown",
      "source": [
        "# **1. Recurrent Neural Networks (RNNs)**\n",
        "**What is an RNN?**\n",
        "RNNs are a class of neural networks designed to work with sequential data like time series, text, or speech.\n",
        "\n",
        "Unlike traditional feedforward neural networks, RNNs have a loop inside their architecture that lets information persist.\n",
        "\n",
        "This means RNNs have a sort of \"memory\" of previous inputs in the sequence, enabling them to capture temporal dependencies.\n",
        "\n",
        "**How RNNs work?**\n",
        "At each time step t, the RNN takes the current input 𝑥𝑡 and the previous hidden state ht−1 , and computes a new hidden state ℎ𝑡\n",
        "This hidden state is meant to capture information about all previous inputs up to time t.\n",
        "\n",
        "The output 𝑦𝑡 depends on the hidden state ℎ𝑡.\n",
        "\n",
        "*Mathematically:*\n",
        "\n",
        "ℎ𝑡 = tanh(𝑊𝑥ℎ 𝑥𝑡+𝑊ℎℎ ℎ𝑡−1 + 𝑏ℎ)\n",
        "\n",
        "𝑦𝑡 = 𝑊ℎ𝑦 ℎ𝑡 + 𝑏𝑦\n",
        "\n",
        "Where:\n",
        "\n",
        "𝑊𝑥ℎ ,𝑊ℎℎ,𝑊ℎ𝑦 are weight matrices\n",
        "\n",
        "𝑏ℎ,𝑏𝑦 are biases\n",
        "\n",
        "tanh is the activation function\n",
        "\n",
        "**Challenges of RNNs**\n",
        "Vanishing and exploding gradients: When training RNNs with backpropagation through time (BPTT), gradients can become very small (vanish) or very large (explode), making it hard to learn long-term dependencies.\n",
        "\n",
        "This means vanilla RNNs often fail to remember information from far earlier in the sequence.\n",
        "\n",
        "# **2. Long Short-Term Memory Networks (LSTMs)**\n",
        "**Why LSTMs?**\n",
        "LSTMs were designed to solve the vanishing gradient problem of RNNs and capture long-term dependencies in sequences.\n",
        "\n",
        "They introduce a more complex unit called an LSTM cell that can decide what to remember and what to forget.\n",
        "\n",
        "Structure of LSTM\n",
        "An LSTM cell has:\n",
        "\n",
        "Cell state (𝐶𝑡): Acts as a conveyor belt carrying information straight down the sequence with minor linear interactions, helping preserve long-term information.\n",
        "\n",
        "Gates: These are sigmoid-activated layers that control the flow of information. Specifically:\n",
        "\n",
        "Forget gate 𝑓𝑡 : Decides what information to discard from the cell state.\n",
        "\n",
        "Input gate 𝑖𝑡 : Decides which new information to add to the cell state.\n",
        "\n",
        "Output gate 𝑜𝑡 : Controls the output at the current step.\n",
        "\n",
        "LSTM Equations\n",
        "\n",
        "𝑓𝑡 = 𝜎(𝑊𝑓⋅[ℎ𝑡−1,𝑥𝑡]+𝑏𝑓)\n",
        "\n",
        "𝑖𝑡 = 𝜎(𝑊𝑖⋅[ℎ𝑡−1,𝑥𝑡]+𝑏𝑖)\n",
        "\n",
        "𝐶~𝑡=tanh⁡(𝑊𝐶⋅[ℎ𝑡−1,𝑥𝑡]+𝑏𝐶)\n",
        "\n",
        "𝐶𝑡=𝑓𝑡∗𝐶𝑡−1+𝑖𝑡∗𝐶~𝑡\n",
        "\n",
        "𝑜𝑡=𝜎(𝑊𝑜⋅[ℎ𝑡−1,𝑥𝑡]+𝑏𝑜)\n",
        "\n",
        "ℎ𝑡=𝑜𝑡∗tanh⁡(𝐶𝑡)\n",
        "\n",
        "\n",
        "Where:\n",
        "\n",
        "σ is the sigmoid function (outputs between 0 and 1, acting like a gate).\n",
        "\n",
        "∗ is element-wise multiplication.\n",
        "\n",
        "Intuition\n",
        "The forget gate allows the cell to forget irrelevant parts of previous memory.\n",
        "\n",
        "The input gate controls how much new information to add.\n",
        "\n",
        "The output gate controls the output based on the updated cell state.\n",
        "\n",
        "This gating mechanism allows LSTMs to retain information over long sequences much better than vanilla RNNs.\n",
        "\n",
        "# **3. Gated Recurrent Unit (GRU)**\n",
        "**What is GRU?**\n",
        "GRU is a simplified version of LSTM introduced to reduce complexity while maintaining performance.\n",
        "\n",
        "It combines the forget and input gates into a single update gate, and merges the cell state and hidden state.\n",
        "\n",
        "GRU Components\n",
        "Update gate 𝑧𝑡 : Decides how much of the previous memory to keep.\n",
        "\n",
        "Reset gate 𝑟𝑡 : Decides how to combine new input with previous memory.\n",
        "\n",
        "GRU Equations\n",
        "𝑧𝑡=𝜎(𝑊𝑧⋅[ℎ𝑡−1,𝑥𝑡])\n",
        "\n",
        "𝑟𝑡=𝜎(𝑊𝑟⋅[ℎ𝑡−1,𝑥𝑡])\n",
        "\n",
        "ℎ~𝑡=tanh⁡(𝑊⋅[𝑟𝑡∗ℎ𝑡−1,𝑥𝑡])\n",
        "\n",
        "ℎ𝑡=(1−𝑧𝑡)∗ℎ𝑡−1+𝑧𝑡∗ℎ~𝑡\n",
        "\n",
        "Intuition\n",
        "The update gate controls the balance between keeping the old state and adding new information.\n",
        "\n",
        "The reset gate controls how much past information to forget.\n",
        "\n",
        "GRUs often train faster and require fewer parameters than LSTMs but can perform just as well on many tasks."
      ],
      "metadata": {
        "id": "CjywsPu5M5F7"
      }
    },
    {
      "cell_type": "markdown",
      "source": [
        "# ***Recognize the advantages of LSTMs and GRUs in capturing long-term dependencies in sequential data.***\n",
        "\n",
        "**Identify the key differences between LSTM and GRU architectures (e.g., number of gates, training efficiency, performance on small datasets).**"
      ],
      "metadata": {
        "id": "dz8QVhovJyEr"
      }
    },
    {
      "cell_type": "markdown",
      "source": [
        "![image.png](data:image/png;base64,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)"
      ],
      "metadata": {
        "id": "1tyDtjR4TTSh"
      }
    },
    {
      "cell_type": "markdown",
      "source": [
        "# ***2. Data Exploration:***\n",
        "Analyze the dataset's structure and characteristics, paying particular attention to the sequential nature of the text data.\n",
        "\n",
        "Explore preprocessing techniques for text data, such as tokenization and sequence generation.\n",
        "\n"
      ],
      "metadata": {
        "id": "3ng7JTMlduxO"
      }
    },
    {
      "cell_type": "code",
      "source": [
        "#Step 2: Load and Preview the Dataset\n",
        "# Import necessary libraries\n",
        "import nltk\n",
        "import pandas as pd\n",
        "import numpy as np\n",
        "import matplotlib.pyplot as plt\n",
        "import seaborn as sns\n",
        "\n",
        "# Load the Pride and Prejudice text file\n",
        "file_path = 'LSTM DATA.txt'\n",
        "\n",
        "# Read the text file\n",
        "with open(file_path, 'r', encoding='utf-8') as file:\n",
        "    text_data = file.read()\n",
        "\n",
        "# Preview the first 1000 characters of the text\n",
        "print(text_data[:1000])\n"
      ],
      "metadata": {
        "colab": {
          "base_uri": "https://localhost:8080/"
        },
        "id": "5E_Hi-TKFZjM",
        "outputId": "cff56adf-b417-4241-9f83-6b0af076edf1"
      },
      "execution_count": 35,
      "outputs": [
        {
          "output_type": "stream",
          "name": "stdout",
          "text": [
            "﻿The Project Gutenberg eBook of Pride and Prejudice\n",
            "    \n",
            "This ebook is for the use of anyone anywhere in the United States and\n",
            "most other parts of the world at no cost and with almost no restrictions\n",
            "whatsoever. You may copy it, give it away or re-use it under the terms\n",
            "of the Project Gutenberg License included with this ebook or online\n",
            "at www.gutenberg.org. If you are not located in the United States,\n",
            "you will have to check the laws of the country where you are located\n",
            "before using this eBook.\n",
            "\n",
            "Title: Pride and Prejudice\n",
            "\n",
            "\n",
            "Author: Jane Austen\n",
            "\n",
            "Release date: June 1, 1998 [eBook #1342]\n",
            "                Most recently updated: April 14, 2023\n",
            "\n",
            "Language: English\n",
            "\n",
            "Credits: Chuck Greif and the Online Distributed Proofreading Team at http://www.pgdp.net (This file was produced from images available at The Internet Archive)\n",
            "\n",
            "\n",
            "*** START OF THE PROJECT GUTENBERG EBOOK PRIDE AND PREJUDICE ***\n",
            "\n",
            "\n",
            "\n",
            "\n",
            "                            [Illustration:\n",
            "\n",
            "                             GEORGE ALLEN\n",
            "                 \n"
          ]
        }
      ]
    },
    {
      "cell_type": "code",
      "source": [
        "!pip install spacy\n",
        "!python -m spacy download en_core_web_sm\n",
        "!pip install -U NLTK"
      ],
      "metadata": {
        "colab": {
          "base_uri": "https://localhost:8080/"
        },
        "id": "dvr_CNvIzxE_",
        "outputId": "52f20977-009d-4f9c-de01-f4b885cbdd1a"
      },
      "execution_count": null,
      "outputs": [
        {
          "output_type": "stream",
          "name": "stdout",
          "text": [
            "Requirement already satisfied: spacy in /usr/local/lib/python3.11/dist-packages (3.8.5)\n",
            "Requirement already satisfied: spacy-legacy<3.1.0,>=3.0.11 in /usr/local/lib/python3.11/dist-packages (from spacy) (3.0.12)\n",
            "Requirement already satisfied: spacy-loggers<2.0.0,>=1.0.0 in /usr/local/lib/python3.11/dist-packages (from spacy) (1.0.5)\n",
            "Requirement already satisfied: murmurhash<1.1.0,>=0.28.0 in /usr/local/lib/python3.11/dist-packages (from spacy) (1.0.12)\n",
            "Requirement already satisfied: cymem<2.1.0,>=2.0.2 in /usr/local/lib/python3.11/dist-packages (from spacy) (2.0.11)\n",
            "Requirement already satisfied: preshed<3.1.0,>=3.0.2 in /usr/local/lib/python3.11/dist-packages (from spacy) (3.0.9)\n",
            "Requirement already satisfied: thinc<8.4.0,>=8.3.4 in /usr/local/lib/python3.11/dist-packages (from spacy) (8.3.6)\n",
            "Requirement already satisfied: wasabi<1.2.0,>=0.9.1 in /usr/local/lib/python3.11/dist-packages (from spacy) (1.1.3)\n",
            "Requirement already satisfied: srsly<3.0.0,>=2.4.3 in /usr/local/lib/python3.11/dist-packages (from spacy) (2.5.1)\n",
            "Requirement already satisfied: catalogue<2.1.0,>=2.0.6 in /usr/local/lib/python3.11/dist-packages (from spacy) (2.0.10)\n",
            "Requirement already satisfied: weasel<0.5.0,>=0.1.0 in /usr/local/lib/python3.11/dist-packages (from spacy) (0.4.1)\n",
            "Requirement already satisfied: typer<1.0.0,>=0.3.0 in /usr/local/lib/python3.11/dist-packages (from spacy) (0.15.3)\n",
            "Requirement already satisfied: tqdm<5.0.0,>=4.38.0 in /usr/local/lib/python3.11/dist-packages (from spacy) (4.67.1)\n",
            "Requirement already satisfied: numpy>=1.19.0 in /usr/local/lib/python3.11/dist-packages (from spacy) (2.0.2)\n",
            "Requirement already satisfied: requests<3.0.0,>=2.13.0 in /usr/local/lib/python3.11/dist-packages (from spacy) (2.32.3)\n",
            "Requirement already satisfied: pydantic!=1.8,!=1.8.1,<3.0.0,>=1.7.4 in /usr/local/lib/python3.11/dist-packages (from spacy) (2.11.4)\n",
            "Requirement already satisfied: jinja2 in /usr/local/lib/python3.11/dist-packages (from spacy) (3.1.6)\n",
            "Requirement already satisfied: setuptools in /usr/local/lib/python3.11/dist-packages (from spacy) (75.2.0)\n",
            "Requirement already satisfied: packaging>=20.0 in /usr/local/lib/python3.11/dist-packages (from spacy) (24.2)\n",
            "Requirement already satisfied: langcodes<4.0.0,>=3.2.0 in /usr/local/lib/python3.11/dist-packages (from spacy) (3.5.0)\n",
            "Requirement already satisfied: language-data>=1.2 in /usr/local/lib/python3.11/dist-packages (from langcodes<4.0.0,>=3.2.0->spacy) (1.3.0)\n",
            "Requirement already satisfied: annotated-types>=0.6.0 in /usr/local/lib/python3.11/dist-packages (from pydantic!=1.8,!=1.8.1,<3.0.0,>=1.7.4->spacy) (0.7.0)\n",
            "Requirement already satisfied: pydantic-core==2.33.2 in /usr/local/lib/python3.11/dist-packages (from pydantic!=1.8,!=1.8.1,<3.0.0,>=1.7.4->spacy) (2.33.2)\n",
            "Requirement already satisfied: typing-extensions>=4.12.2 in /usr/local/lib/python3.11/dist-packages (from pydantic!=1.8,!=1.8.1,<3.0.0,>=1.7.4->spacy) (4.13.2)\n",
            "Requirement already satisfied: typing-inspection>=0.4.0 in /usr/local/lib/python3.11/dist-packages (from pydantic!=1.8,!=1.8.1,<3.0.0,>=1.7.4->spacy) (0.4.0)\n",
            "Requirement already satisfied: charset-normalizer<4,>=2 in /usr/local/lib/python3.11/dist-packages (from requests<3.0.0,>=2.13.0->spacy) (3.4.2)\n",
            "Requirement already satisfied: idna<4,>=2.5 in /usr/local/lib/python3.11/dist-packages (from requests<3.0.0,>=2.13.0->spacy) (3.10)\n",
            "Requirement already satisfied: urllib3<3,>=1.21.1 in /usr/local/lib/python3.11/dist-packages (from requests<3.0.0,>=2.13.0->spacy) (2.4.0)\n",
            "Requirement already satisfied: certifi>=2017.4.17 in /usr/local/lib/python3.11/dist-packages (from requests<3.0.0,>=2.13.0->spacy) (2025.4.26)\n",
            "Requirement already satisfied: blis<1.4.0,>=1.3.0 in /usr/local/lib/python3.11/dist-packages (from thinc<8.4.0,>=8.3.4->spacy) (1.3.0)\n",
            "Requirement already satisfied: confection<1.0.0,>=0.0.1 in /usr/local/lib/python3.11/dist-packages (from thinc<8.4.0,>=8.3.4->spacy) (0.1.5)\n",
            "Requirement already satisfied: click>=8.0.0 in /usr/local/lib/python3.11/dist-packages (from typer<1.0.0,>=0.3.0->spacy) (8.2.0)\n",
            "Requirement already satisfied: shellingham>=1.3.0 in /usr/local/lib/python3.11/dist-packages (from typer<1.0.0,>=0.3.0->spacy) (1.5.4)\n",
            "Requirement already satisfied: rich>=10.11.0 in /usr/local/lib/python3.11/dist-packages (from typer<1.0.0,>=0.3.0->spacy) (13.9.4)\n",
            "Requirement already satisfied: cloudpathlib<1.0.0,>=0.7.0 in /usr/local/lib/python3.11/dist-packages (from weasel<0.5.0,>=0.1.0->spacy) (0.21.0)\n",
            "Requirement already satisfied: smart-open<8.0.0,>=5.2.1 in /usr/local/lib/python3.11/dist-packages (from weasel<0.5.0,>=0.1.0->spacy) (7.1.0)\n",
            "Requirement already satisfied: MarkupSafe>=2.0 in /usr/local/lib/python3.11/dist-packages (from jinja2->spacy) (3.0.2)\n",
            "Requirement already satisfied: marisa-trie>=1.1.0 in /usr/local/lib/python3.11/dist-packages (from language-data>=1.2->langcodes<4.0.0,>=3.2.0->spacy) (1.2.1)\n",
            "Requirement already satisfied: markdown-it-py>=2.2.0 in /usr/local/lib/python3.11/dist-packages (from rich>=10.11.0->typer<1.0.0,>=0.3.0->spacy) (3.0.0)\n",
            "Requirement already satisfied: pygments<3.0.0,>=2.13.0 in /usr/local/lib/python3.11/dist-packages (from rich>=10.11.0->typer<1.0.0,>=0.3.0->spacy) (2.19.1)\n",
            "Requirement already satisfied: wrapt in /usr/local/lib/python3.11/dist-packages (from smart-open<8.0.0,>=5.2.1->weasel<0.5.0,>=0.1.0->spacy) (1.17.2)\n",
            "Requirement already satisfied: mdurl~=0.1 in /usr/local/lib/python3.11/dist-packages (from markdown-it-py>=2.2.0->rich>=10.11.0->typer<1.0.0,>=0.3.0->spacy) (0.1.2)\n",
            "Collecting en-core-web-sm==3.8.0\n",
            "  Downloading https://github.com/explosion/spacy-models/releases/download/en_core_web_sm-3.8.0/en_core_web_sm-3.8.0-py3-none-any.whl (12.8 MB)\n",
            "\u001b[2K     \u001b[90m━━━━━━━━━━━━━━━━━━━━━━━━━━━━━━━━━━━━━━━━\u001b[0m \u001b[32m12.8/12.8 MB\u001b[0m \u001b[31m57.0 MB/s\u001b[0m eta \u001b[36m0:00:00\u001b[0m\n",
            "\u001b[?25h\u001b[38;5;2m✔ Download and installation successful\u001b[0m\n",
            "You can now load the package via spacy.load('en_core_web_sm')\n",
            "\u001b[38;5;3m⚠ Restart to reload dependencies\u001b[0m\n",
            "If you are in a Jupyter or Colab notebook, you may need to restart Python in\n",
            "order to load all the package's dependencies. You can do this by selecting the\n",
            "'Restart kernel' or 'Restart runtime' option.\n",
            "Requirement already satisfied: NLTK in /usr/local/lib/python3.11/dist-packages (3.9.1)\n",
            "Requirement already satisfied: click in /usr/local/lib/python3.11/dist-packages (from NLTK) (8.2.0)\n",
            "Requirement already satisfied: joblib in /usr/local/lib/python3.11/dist-packages (from NLTK) (1.5.0)\n",
            "Requirement already satisfied: regex>=2021.8.3 in /usr/local/lib/python3.11/dist-packages (from NLTK) (2024.11.6)\n",
            "Requirement already satisfied: tqdm in /usr/local/lib/python3.11/dist-packages (from NLTK) (4.67.1)\n"
          ]
        }
      ]
    },
    {
      "cell_type": "code",
      "source": [
        "nltk.download('punkt_tab')"
      ],
      "metadata": {
        "colab": {
          "base_uri": "https://localhost:8080/"
        },
        "id": "LhzwxV3Q0Cw1",
        "outputId": "ab7047db-5ff1-4627-b6f1-8a20f65feaac"
      },
      "execution_count": 37,
      "outputs": [
        {
          "output_type": "stream",
          "name": "stderr",
          "text": [
            "[nltk_data] Downloading package punkt_tab to /root/nltk_data...\n",
            "[nltk_data]   Unzipping tokenizers/punkt_tab.zip.\n"
          ]
        },
        {
          "output_type": "execute_result",
          "data": {
            "text/plain": [
              "True"
            ]
          },
          "metadata": {},
          "execution_count": 37
        }
      ]
    },
    {
      "cell_type": "code",
      "source": [
        "!pip install scipy"
      ],
      "metadata": {
        "colab": {
          "base_uri": "https://localhost:8080/"
        },
        "id": "bncZXn5E0OFn",
        "outputId": "beaa6b37-5029-42ef-e18a-76861090e473"
      },
      "execution_count": 39,
      "outputs": [
        {
          "output_type": "stream",
          "name": "stdout",
          "text": [
            "Requirement already satisfied: scipy in /usr/local/lib/python3.11/dist-packages (1.15.3)\n",
            "Requirement already satisfied: numpy<2.5,>=1.23.5 in /usr/local/lib/python3.11/dist-packages (from scipy) (2.0.2)\n"
          ]
        }
      ]
    },
    {
      "cell_type": "code",
      "source": [
        "#Step 3: Basic Text Analysis\n",
        "# Import nltk\n",
        "nltk.download('punkt')\n",
        "from nltk.tokenize import word_tokenize, sent_tokenize\n",
        "\n",
        "# Tokenize into sentences and words\n",
        "sentences = sent_tokenize(text_data)\n",
        "words = word_tokenize(text_data)\n",
        "\n",
        "# Get some basic text statistics\n",
        "num_characters = len(text_data)\n",
        "num_words = len(words)\n",
        "num_sentences = len(sentences)\n",
        "avg_sentence_length = num_words / num_sentences\n",
        "\n",
        "# Print basic stats\n",
        "print(f\"Number of Characters: {num_characters}\")\n",
        "print(f\"Number of Words: {num_words}\")\n",
        "print(f\"Number of Sentences: {num_sentences}\")\n",
        "print(f\"Average Sentence Length: {avg_sentence_length:.2f} words\")\n"
      ],
      "metadata": {
        "colab": {
          "base_uri": "https://localhost:8080/"
        },
        "id": "DdZqBb7f1nr-",
        "outputId": "40cfaa8a-8653-4a16-e596-900bda4a2700"
      },
      "execution_count": 38,
      "outputs": [
        {
          "output_type": "stream",
          "name": "stderr",
          "text": [
            "[nltk_data] Downloading package punkt to /root/nltk_data...\n",
            "[nltk_data]   Package punkt is already up-to-date!\n"
          ]
        },
        {
          "output_type": "stream",
          "name": "stdout",
          "text": [
            "Number of Characters: 748151\n",
            "Number of Words: 154438\n",
            "Number of Sentences: 4916\n",
            "Average Sentence Length: 31.42 words\n"
          ]
        }
      ]
    },
    {
      "cell_type": "code",
      "source": [
        "#Step 4: Word Frequency Analysis\n",
        "#basic text analysis\n",
        "from collections import Counter\n",
        "\n",
        "# Get word frequency count\n",
        "word_freq = Counter(words)\n",
        "\n",
        "# Get the top 20 most frequent words\n",
        "top_words = word_freq.most_common(20)\n",
        "print(top_words)\n",
        "\n",
        "# Plot word frequency\n",
        "word_list, freq_list = zip(*top_words)\n",
        "plt.figure(figsize=(10,6))\n",
        "sns.barplot(x=list(word_list), y=list(freq_list))\n",
        "plt.title('Top 20 Most Frequent Words')\n",
        "plt.xticks(rotation=90)\n",
        "plt.show()\n",
        "# Import nltk\n",
        "nltk.download('punkt')\n",
        "from nltk.tokenize import word_tokenize, sent_tokenize\n",
        "\n",
        "# Tokenize into sentences and words\n",
        "sentences = sent_tokenize(text_data)\n",
        "words = word_tokenize(text_data)\n",
        "\n",
        "# Get some basic text statistics\n",
        "num_characters = len(text_data)\n",
        "num_words = len(words)\n",
        "num_sentences = len(sentences)\n",
        "avg_sentence_length = num_words / num_sentences\n",
        "\n",
        "# Print basic stats\n",
        "print(f\"Number of Characters: {num_characters}\")\n",
        "print(f\"Number of Words: {num_words}\")\n",
        "print(f\"Number of Sentences: {num_sentences}\")\n",
        "print(f\"Average Sentence Length: {avg_sentence_length:.2f} words\")\n"
      ],
      "metadata": {
        "colab": {
          "base_uri": "https://localhost:8080/",
          "height": 701
        },
        "id": "8vGls5rXGGxP",
        "outputId": "47539f82-3d62-476e-c1cb-e4dbdfe8cbaf"
      },
      "execution_count": 40,
      "outputs": [
        {
          "output_type": "stream",
          "name": "stdout",
          "text": [
            "[(',', 9993), ('the', 4520), ('.', 4366), ('to', 4316), ('of', 3933), ('and', 3665), ('her', 2163), ('I', 2097), ('a', 2036), ('in', 1944), ('“', 1930), ('”', 1898), ('was', 1868), (';', 1704), ('not', 1597), ('that', 1575), ('she', 1408), ('it', 1317), ('be', 1274), ('his', 1205)]\n"
          ]
        },
        {
          "output_type": "display_data",
          "data": {
            "text/plain": [
              "<Figure size 1000x600 with 1 Axes>"
            ],
            "image/png": "[encoded data removed]"
          },
          "metadata": {}
        },
        {
          "output_type": "stream",
          "name": "stderr",
          "text": [
            "[nltk_data] Downloading package punkt to /root/nltk_data...\n",
            "[nltk_data]   Package punkt is already up-to-date!\n"
          ]
        },
        {
          "output_type": "stream",
          "name": "stdout",
          "text": [
            "Number of Characters: 748151\n",
            "Number of Words: 154438\n",
            "Number of Sentences: 4916\n",
            "Average Sentence Length: 31.42 words\n"
          ]
        }
      ]
    },
    {
      "cell_type": "code",
      "source": [
        "#Step 5: Sentence Length Distribution\n",
        "# Calculate sentence lengths (in terms of words)\n",
        "sentence_lengths = [len(word_tokenize(sentence)) for sentence in sentences]\n",
        "\n",
        "# Plot the sentence length distribution\n",
        "plt.figure(figsize=(10,6))\n",
        "sns.histplot(sentence_lengths, bins=50, kde=True)\n",
        "plt.title('Sentence Length Distribution')\n",
        "plt.xlabel('Sentence Length (Words)')\n",
        "plt.ylabel('Frequency')\n",
        "plt.show()\n",
        "\n",
        "# Summary statistics\n",
        "print(f\"Average Sentence Length: {np.mean(sentence_lengths):.2f} words\")\n",
        "print(f\"Sentence Length Standard Deviation: {np.std(sentence_lengths):.2f}\")\n"
      ],
      "metadata": {
        "colab": {
          "base_uri": "https://localhost:8080/",
          "height": 599
        },
        "id": "XvPhGTWmGGv4",
        "outputId": "06cf11ca-ed41-475d-f16a-91d18434d286"
      },
      "execution_count": null,
      "outputs": [
        {
          "output_type": "display_data",
          "data": {
            "text/plain": [
              "<Figure size 1000x600 with 1 Axes>"
            ],
            "image/png": "[encoded data removed]"
          },
          "metadata": {}
        },
        {
          "output_type": "stream",
          "name": "stdout",
          "text": [
            "Average Sentence Length: 31.42 words\n",
            "Sentence Length Standard Deviation: 24.10\n"
          ]
        }
      ]
    },
    {
      "cell_type": "code",
      "source": [
        "#Step 6: Text Preprocessing for Sequential Models\n",
        "from nltk.corpus import stopwords\n",
        "nltk.download('stopwords')\n",
        "import re\n",
        "\n",
        "# Remove stopwords\n",
        "stop_words = set(stopwords.words('english'))\n",
        "\n",
        "# Function to clean and tokenize text\n",
        "def clean_text(text):\n",
        "    # Lowercase the text\n",
        "    text = text.lower()\n",
        "\n",
        "    # Remove non-alphabetic characters (keeping only letters and spaces)\n",
        "    text = re.sub(r'[^a-z\\s]', '', text)\n",
        "\n",
        "    # Tokenize and remove stopwords\n",
        "    tokens = word_tokenize(text)\n",
        "    tokens = [word for word in tokens if word not in stop_words]\n",
        "\n",
        "    return tokens\n",
        "\n",
        "# Clean and tokenize the entire text\n",
        "cleaned_text = clean_text(text_data)\n",
        "\n",
        "# Preview the first 20 cleaned tokens\n",
        "print(cleaned_text[:20])\n"
      ],
      "metadata": {
        "colab": {
          "base_uri": "https://localhost:8080/"
        },
        "id": "9vayWc8F2A5i",
        "outputId": "9d7ad289-6c02-4dc7-fe72-d0997a6a0471"
      },
      "execution_count": 41,
      "outputs": [
        {
          "output_type": "stream",
          "name": "stderr",
          "text": [
            "[nltk_data] Downloading package stopwords to /root/nltk_data...\n",
            "[nltk_data]   Unzipping corpora/stopwords.zip.\n"
          ]
        },
        {
          "output_type": "stream",
          "name": "stdout",
          "text": [
            "['project', 'gutenberg', 'ebook', 'pride', 'prejudice', 'ebook', 'use', 'anyone', 'anywhere', 'united', 'states', 'parts', 'world', 'cost', 'almost', 'restrictions', 'whatsoever', 'may', 'copy', 'give']\n"
          ]
        }
      ]
    },
    {
      "cell_type": "code",
      "source": [
        "#Step 7: Sequential Nature of Text\n",
        "from sklearn.feature_extraction.text import CountVectorizer\n",
        "\n",
        "# Extract bigrams\n",
        "vectorizer = CountVectorizer(ngram_range=(2, 2), max_features=10)\n",
        "X = vectorizer.fit_transform([' '.join(cleaned_text)])\n",
        "\n",
        "# Get top 10 bigrams\n",
        "top_bigrams = vectorizer.get_feature_names_out()\n",
        "print(\"Top Bigrams:\", top_bigrams)\n",
        "\n",
        "# Extract trigrams\n",
        "vectorizer3 = CountVectorizer(ngram_range=(3, 3), max_features=10)\n",
        "X3 = vectorizer3.fit_transform([' '.join(cleaned_text)])\n",
        "\n",
        "# Get top 10 trigrams\n",
        "top_trigrams = vectorizer3.get_feature_names_out()\n",
        "print(\"Top Trigrams:\", top_trigrams)\n"
      ],
      "metadata": {
        "colab": {
          "base_uri": "https://localhost:8080/"
        },
        "id": "rCBqVMDq3N3C",
        "outputId": "e170215a-adef-4460-ac0f-4ec019fad4a7"
      },
      "execution_count": null,
      "outputs": [
        {
          "output_type": "stream",
          "name": "stdout",
          "text": [
            "Top Bigrams: ['lady catherine' 'miss bennet' 'miss bingley' 'mr bennet' 'mr bingley'\n",
            " 'mr collins' 'mr darcy' 'mr wickham' 'mrs bennet' 'project gutenberg']\n",
            "Top Trigrams: ['catherine de bourgh' 'copyright george allen' 'george allen chapter'\n",
            " 'gutenberg literary archive' 'lady catherine de'\n",
            " 'literary archive foundation' 'miss de bourgh'\n",
            " 'project gutenberg electronic' 'project gutenberg literary'\n",
            " 'said mrs bennet']\n"
          ]
        }
      ]
    },
    {
      "cell_type": "code",
      "source": [
        "#Step 8: Text Sample and Sequential Relationships\n",
        "# Get a sample of consecutive sentences\n",
        "for i in range(5, 10):\n",
        "    print(f\"Sentence {i}: {sentences[i-1]}\")\n",
        "    print(f\"Sentence {i+1}: {sentences[i]}\")\n",
        "    print(\"------\")\n"
      ],
      "metadata": {
        "colab": {
          "base_uri": "https://localhost:8080/"
        },
        "id": "IkAfQDEJ3w2z",
        "outputId": "11685086-084a-44da-c270-02ec44182f09"
      },
      "execution_count": null,
      "outputs": [
        {
          "output_type": "stream",
          "name": "stdout",
          "text": [
            "Sentence 5: and\n",
            "                               PREJUDICE\n",
            "\n",
            "                                  by\n",
            "                             Jane Austen,\n",
            "\n",
            "                           with a Preface by\n",
            "                           George Saintsbury\n",
            "                                  and\n",
            "                           Illustrations by\n",
            "                             Hugh Thomson\n",
            "\n",
            "                         [Illustration: 1894]\n",
            "\n",
            "                       Ruskin       156.\n",
            "Sentence 6: Charing\n",
            "                       House.\n",
            "------\n",
            "Sentence 6: Charing\n",
            "                       House.\n",
            "Sentence 7: Cross Road.\n",
            "------\n",
            "Sentence 7: Cross Road.\n",
            "Sentence 8: London\n",
            "                             George Allen.\n",
            "------\n",
            "Sentence 8: London\n",
            "                             George Allen.\n",
            "Sentence 9: CHISWICK PRESS:--CHARLES WHITTINGHAM AND CO.\n",
            "                  TOOKS COURT, CHANCERY LANE, LONDON.\n",
            "------\n",
            "Sentence 9: CHISWICK PRESS:--CHARLES WHITTINGHAM AND CO.\n",
            "                  TOOKS COURT, CHANCERY LANE, LONDON.\n",
            "Sentence 10: [Illustration:\n",
            "\n",
            "                          _To J. Comyns Carr\n",
            "                      in acknowledgment of all I\n",
            "                       owe to his friendship and\n",
            "                    advice, these illustrations are\n",
            "                         gratefully inscribed_\n",
            "\n",
            "                            _Hugh Thomson_\n",
            "                                   ]\n",
            "\n",
            "\n",
            "\n",
            "\n",
            "PREFACE.\n",
            "------\n"
          ]
        }
      ]
    },
    {
      "cell_type": "markdown",
      "source": [
        "# ***3. Preprocessing and Feature Engineering:***\n",
        "Preprocess the textual data by converting it into sequences of fixed length suitable for input to RNN models.\n",
        "\n",
        "\n",
        "Tokenize the text data and generate input sequences with corresponding output labels (next words).\n"
      ],
      "metadata": {
        "id": "9j-z6SiL73ny"
      }
    },
    {
      "cell_type": "code",
      "source": [
        "#Step 1: Load the Text and Clean It\n",
        "import urllib.request\n",
        "\n",
        "# Load the Pride and Prejudice text file\n",
        "file_path = 'LSTM DATA.txt'\n",
        "\n",
        "# Read the text file\n",
        "with open(file_path, 'r', encoding='utf-8') as file:\n",
        "    text_data = file.read()\n",
        "\n",
        "# Preview the first 1000 characters of the text\n",
        "#print(text_data[:1000])\n",
        "\n",
        "# Clean up the text by removing metadata (Project Gutenberg header/footer)\n",
        "start_index = text_data.find(\"START OF THE PROJECT GUTENBERG EBOOK PRIDE AND PREJUDICE\")\n",
        "end_index = text_data.find(\"END OF THE PROJECT GUTENBERG EBOOK PRIDE AND PREJUDICE\")\n",
        "print(end_index)\n",
        "# Extract the main text content\n",
        "cleaned_text = text_data[start_index:end_index].strip()\n",
        "\n",
        "# Preview the cleaned text\n",
        "print(cleaned_text[:1000])  # Preview the first 1000 characters of the text\n",
        "#print(text)\n"
      ],
      "metadata": {
        "colab": {
          "base_uri": "https://localhost:8080/"
        },
        "id": "GJSwIUfQ6NhD",
        "outputId": "86c3f4d3-0011-44eb-dd27-cfb2c6dcc353"
      },
      "execution_count": 42,
      "outputs": [
        {
          "output_type": "stream",
          "name": "stdout",
          "text": [
            "729661\n",
            "START OF THE PROJECT GUTENBERG EBOOK PRIDE AND PREJUDICE ***\n",
            "\n",
            "\n",
            "\n",
            "\n",
            "                            [Illustration:\n",
            "\n",
            "                             GEORGE ALLEN\n",
            "                               PUBLISHER\n",
            "\n",
            "                        156 CHARING CROSS ROAD\n",
            "                                LONDON\n",
            "\n",
            "                             RUSKIN HOUSE\n",
            "                                   ]\n",
            "\n",
            "                            [Illustration:\n",
            "\n",
            "               _Reading Jane’s Letters._      _Chap 34._\n",
            "                                   ]\n",
            "\n",
            "\n",
            "\n",
            "\n",
            "                                PRIDE.\n",
            "                                  and\n",
            "                               PREJUDICE\n",
            "\n",
            "                                  by\n",
            "                             Jane Austen,\n",
            "\n",
            "                           with a Preface by\n",
            "                           George Saintsbury\n",
            "                                  and\n",
            "                           Illustrations by\n",
            "                             Hugh Thomson\n",
            "\n",
            "                         [Illustration: 1894]\n",
            "\n",
            "                       Ruskin       1\n"
          ]
        }
      ]
    },
    {
      "cell_type": "code",
      "source": [
        "#Step 2: Tokenization\n",
        "from nltk.tokenize import word_tokenize\n",
        "import nltk\n",
        "\n",
        "# Download necessary NLTK resources\n",
        "nltk.download('punkt')\n",
        "\n",
        "# Tokenize the text into words\n",
        "tokens = word_tokenize(cleaned_text)\n",
        "\n",
        "# Preview the first 20 tokens\n",
        "print(tokens[:20])\n"
      ],
      "metadata": {
        "colab": {
          "base_uri": "https://localhost:8080/"
        },
        "id": "_Kog4mm2-Q1D",
        "outputId": "89350b92-7b3d-4d8d-d7d9-e148b9eb3b85"
      },
      "execution_count": 43,
      "outputs": [
        {
          "output_type": "stream",
          "name": "stderr",
          "text": [
            "[nltk_data] Downloading package punkt to /root/nltk_data...\n",
            "[nltk_data]   Package punkt is already up-to-date!\n"
          ]
        },
        {
          "output_type": "stream",
          "name": "stdout",
          "text": [
            "['START', 'OF', 'THE', 'PROJECT', 'GUTENBERG', 'EBOOK', 'PRIDE', 'AND', 'PREJUDICE', '*', '*', '*', '[', 'Illustration', ':', 'GEORGE', 'ALLEN', 'PUBLISHER', '156', 'CHARING']\n"
          ]
        }
      ]
    },
    {
      "cell_type": "code",
      "source": [
        "#Step 3: Remove Stopwords (Optional)\n",
        "from nltk.corpus import stopwords\n",
        "\n",
        "# Download the stopwords list from NLTK\n",
        "nltk.download('stopwords')\n",
        "\n",
        "# Get the set of English stopwords\n",
        "stop_words = set(stopwords.words('english'))\n",
        "\n",
        "# Filter out stopwords from the tokens\n",
        "filtered_tokens = [word for word in tokens if word.lower() not in stop_words]\n",
        "\n",
        "# Preview the first 20 filtered tokens\n",
        "print(filtered_tokens[:20])\n"
      ],
      "metadata": {
        "colab": {
          "base_uri": "https://localhost:8080/"
        },
        "id": "WiBk1uRM-Y8U",
        "outputId": "db6482a4-d2c1-413b-d474-a3f08132001d"
      },
      "execution_count": null,
      "outputs": [
        {
          "output_type": "stream",
          "name": "stdout",
          "text": [
            "['START', 'PROJECT', 'GUTENBERG', 'EBOOK', 'PRIDE', 'PREJUDICE', '*', '*', '*', '[', 'Illustration', ':', 'GEORGE', 'ALLEN', 'PUBLISHER', '156', 'CHARING', 'CROSS', 'ROAD', 'LONDON']\n"
          ]
        },
        {
          "output_type": "stream",
          "name": "stderr",
          "text": [
            "[nltk_data] Downloading package stopwords to /root/nltk_data...\n",
            "[nltk_data]   Package stopwords is already up-to-date!\n"
          ]
        }
      ]
    },
    {
      "cell_type": "code",
      "source": [
        "#Step 4: Convert Tokens to Lowercase\n",
        "# Convert all tokens to lowercase\n",
        "lowercase_tokens = [word.lower() for word in filtered_tokens]\n",
        "\n",
        "# Preview the first 20 tokens after lowercasing\n",
        "print(lowercase_tokens[:20])\n"
      ],
      "metadata": {
        "colab": {
          "base_uri": "https://localhost:8080/"
        },
        "id": "gZj4tTh5-gTn",
        "outputId": "28a8c4a8-c2ca-4f48-813a-ba9d1a5bd65e"
      },
      "execution_count": null,
      "outputs": [
        {
          "output_type": "stream",
          "name": "stdout",
          "text": [
            "['start', 'project', 'gutenberg', 'ebook', 'pride', 'prejudice', '*', '*', '*', '[', 'illustration', ':', 'george', 'allen', 'publisher', '156', 'charing', 'cross', 'road', 'london']\n"
          ]
        }
      ]
    },
    {
      "cell_type": "code",
      "source": [
        "#Step 5: Sequence Generation\n",
        "# Define the length of the sequence (how many tokens in each sequence)\n",
        "sequence_length = 5\n",
        "\n",
        "# Create sequences of tokens (X) and their corresponding labels (y)\n",
        "sequences = []\n",
        "for i in range(len(lowercase_tokens) - sequence_length):\n",
        "    sequence = lowercase_tokens[i:i + sequence_length]  # Input sequence\n",
        "    next_word = lowercase_tokens[i + sequence_length]  # Target word (next word)\n",
        "    sequences.append((sequence, next_word))\n",
        "\n",
        "# Preview the first 5 sequences\n",
        "for seq in sequences[:5]:\n",
        "    print(f\"Input sequence: {seq[0]} => Target: {seq[1]}\")\n"
      ],
      "metadata": {
        "colab": {
          "base_uri": "https://localhost:8080/"
        },
        "id": "uNO8DU-p-rVf",
        "outputId": "c6977368-6508-43eb-e034-e857e7a5fc94"
      },
      "execution_count": null,
      "outputs": [
        {
          "output_type": "stream",
          "name": "stdout",
          "text": [
            "Input sequence: ['start', 'project', 'gutenberg', 'ebook', 'pride'] => Target: prejudice\n",
            "Input sequence: ['project', 'gutenberg', 'ebook', 'pride', 'prejudice'] => Target: *\n",
            "Input sequence: ['gutenberg', 'ebook', 'pride', 'prejudice', '*'] => Target: *\n",
            "Input sequence: ['ebook', 'pride', 'prejudice', '*', '*'] => Target: *\n",
            "Input sequence: ['pride', 'prejudice', '*', '*', '*'] => Target: [\n"
          ]
        }
      ]
    },
    {
      "cell_type": "code",
      "source": [
        "#Step 6: Convert Sequences to Integer Representation\n",
        "# Create a dictionary that maps words to integers (word index)\n",
        "word_to_index = {word: idx + 1 for idx, word in enumerate(set(lowercase_tokens))}  # +1 to reserve 0 for padding\n",
        "\n",
        "# Convert the sequences and target words to integers\n",
        "X = [[word_to_index[word] for word in sequence] for sequence, _ in sequences]\n",
        "y = [word_to_index[next_word] for _, next_word in sequences]\n",
        "\n",
        "# Preview the first 5 sequences and their labels\n",
        "for i in range(5):\n",
        "    print(f\"Input: {X[i]} => Target: {y[i]}\")\n"
      ],
      "metadata": {
        "colab": {
          "base_uri": "https://localhost:8080/"
        },
        "id": "-Jpqaexd_AjM",
        "outputId": "3ea607a3-b461-45ff-ed65-5204da018218"
      },
      "execution_count": null,
      "outputs": [
        {
          "output_type": "stream",
          "name": "stdout",
          "text": [
            "Input: [3104, 7585, 1979, 3012, 7141] => Target: 827\n",
            "Input: [7585, 1979, 3012, 7141, 827] => Target: 4213\n",
            "Input: [1979, 3012, 7141, 827, 4213] => Target: 4213\n",
            "Input: [3012, 7141, 827, 4213, 4213] => Target: 4213\n",
            "Input: [7141, 827, 4213, 4213, 4213] => Target: 6878\n"
          ]
        }
      ]
    },
    {
      "cell_type": "code",
      "source": [
        "#Step 7: Padding Sequences (Optional)\n",
        "from tensorflow.keras.preprocessing.sequence import pad_sequences\n",
        "\n",
        "# Pad sequences to ensure all sequences have the same length\n",
        "X_padded = pad_sequences(X, padding='post')\n",
        "\n",
        "# Preview padded sequences\n",
        "print(X_padded[:5])\n"
      ],
      "metadata": {
        "colab": {
          "base_uri": "https://localhost:8080/"
        },
        "id": "EA8GFYfu_QlN",
        "outputId": "3971174f-518a-4af2-9f5e-1e3432e17af9"
      },
      "execution_count": null,
      "outputs": [
        {
          "output_type": "stream",
          "name": "stdout",
          "text": [
            "[[3104 7585 1979 3012 7141]\n",
            " [7585 1979 3012 7141  827]\n",
            " [1979 3012 7141  827 4213]\n",
            " [3012 7141  827 4213 4213]\n",
            " [7141  827 4213 4213 4213]]\n"
          ]
        }
      ]
    },
    {
      "cell_type": "markdown",
      "source": [
        "***Summary of Steps***\n",
        "\n",
        "Load and clean the text by removing unwanted metadata.\n",
        "\n",
        "Tokenize the text into individual words.\n",
        "\n",
        "Remove stopwords (optional).\n",
        "\n",
        "Convert tokens to lowercase for consistency.\n",
        "\n",
        "Generate sequences by sliding over the tokenized text to create sequences of fixed length.\n",
        "\n",
        "Map each word to an integer (word index) for RNN compatibility.\n",
        "\n",
        "Pad sequences if necessary (though it may not be needed for fixed-length sequences)."
      ],
      "metadata": {
        "id": "MArKwRyQ_f9o"
      }
    },
    {
      "cell_type": "markdown",
      "source": [
        "# ***4. Model Architecture (LSTM & GRU):***\n",
        "Define the architecture of both LSTM and GRU models, including the number of recurrent layers, hidden units, and embedding dimensions.\n",
        "\n",
        "\n",
        "Compare the network complexity, training time, and performance between LSTM and GRU.\n"
      ],
      "metadata": {
        "id": "gSGz5QEuULPi"
      }
    },
    {
      "cell_type": "markdown",
      "source": [
        "***1. LSTM Model Architecture***\n",
        "\n",
        "LSTM (Long Short-Term Memory) is designed to capture long-term dependencies in sequential data by maintaining memory over time. It uses three gates (input gate, forget gate, and output gate) to control the flow of information.\n",
        "\n",
        "**LSTM Model Structure:**\n",
        "\n",
        "**Embedding Layer:** Converts the input words (or tokens) into dense vectors. The embedding layer learns the representations for words in a continuous vector space.\n",
        "\n",
        "**LSTM Layers:** One or more LSTM layers, each with a number of hidden units, to process the sequential data and learn dependencies.\n",
        "\n",
        "**Dense Layer:** A fully connected layer to map the output from the LSTM layers to the prediction space (e.g., predicting the next word or sequence).\n",
        "\n",
        "**Output Layer:** Usually a softmax activation function for multi-class classification tasks, like text generation."
      ],
      "metadata": {
        "id": "5TajSQNKVQ20"
      }
    },
    {
      "cell_type": "markdown",
      "source": [
        "# ***2. GRU Model Architecture***\n",
        "\n",
        "GRU (Gated Recurrent Unit) is a simpler alternative to LSTM. It combines the forget and input gates into a single update gate and uses a reset gate. It has fewer parameters compared to LSTM, making it faster to train while still capturing relevant sequential dependencies.\n",
        "\n",
        "**GRU Model Structure:**\n",
        "\n",
        "**Embedding Layer:** Like LSTM, the embedding layer converts input tokens to dense vectors.\n",
        "\n",
        "**GRU Layers:** One or more GRU layers with a number of hidden units to capture sequential patterns.\n",
        "\n",
        "**Dense Layer:** A fully connected layer to map the output to the prediction space.\n",
        "\n",
        "**Output Layer:** Typically a softmax activation function for generating the output sequence or making predictions."
      ],
      "metadata": {
        "id": "OlUrVexqVbON"
      }
    },
    {
      "cell_type": "code",
      "source": [
        "import numpy as np\n",
        "from tensorflow.keras.preprocessing.text import Tokenizer\n",
        "from tensorflow.keras.utils import to_categorical\n",
        "from tensorflow.keras.preprocessing.sequence import pad_sequences\n",
        "\n",
        "# Simple dataset with sentences\n",
        "sentences = [\n",
        "    \"I love machine learning\",\n",
        "    \"Deep learning is amazing\",\n",
        "    \"I love deep learning\",\n",
        "    \"Machine learning is great\",\n",
        "    \"Deep learning is the future\"\n",
        "]\n",
        "\n",
        "# Initialize the tokenizer\n",
        "tokenizer = Tokenizer()\n",
        "\n",
        "# Fit the tokenizer on the sentences (this will tokenize the text)\n",
        "tokenizer.fit_on_texts(sentences)\n",
        "\n",
        "# Convert text to sequences of integers (word indices)\n",
        "sequences = tokenizer.texts_to_sequences(sentences)\n",
        "\n",
        "# Print the tokenized sequences\n",
        "print(\"Tokenized sequences:\", sequences)\n",
        "\n",
        "# Define the vocabulary size (number of unique words)\n",
        "vocab_size = len(tokenizer.word_index) + 1  # +1 for padding\n",
        "\n",
        "# Create input-output pairs (sequences and next word)\n",
        "X = []\n",
        "y = []\n",
        "\n",
        "# Loop through sequences and create input-output pairs\n",
        "for seq in sequences:\n",
        "    for i in range(1, len(seq)):\n",
        "        X.append(seq[:i])  # Input sequence (all words before the target word)\n",
        "        y.append(seq[i])  # Next word (target word)\n",
        "\n",
        "# Pad sequences to make them the same length\n",
        "X = pad_sequences(X, padding='pre')\n",
        "\n",
        "# One-hot encode the target variable (y)\n",
        "y = to_categorical(y, num_classes=vocab_size)\n",
        "\n",
        "# Convert X to numpy arrays\n",
        "X = np.array(X)\n",
        "y = np.array(y)\n",
        "\n",
        "# Print shapes of input and output\n",
        "print(f\"Shape of X: {X.shape}, Shape of y: {y.shape}\")\n"
      ],
      "metadata": {
        "colab": {
          "base_uri": "https://localhost:8080/"
        },
        "id": "2sx_DQuxTXy7",
        "outputId": "7d7cd2fd-ecce-45a1-c000-1a2b723ee678"
      },
      "execution_count": null,
      "outputs": [
        {
          "output_type": "stream",
          "name": "stdout",
          "text": [
            "Tokenized sequences: [[4, 5, 6, 1], [2, 1, 3, 7], [4, 5, 2, 1], [6, 1, 3, 8], [2, 1, 3, 9, 10]]\n",
            "Shape of X: (16, 4), Shape of y: (16, 11)\n"
          ]
        }
      ]
    },
    {
      "cell_type": "code",
      "source": [
        "from tensorflow.keras.models import Sequential\n",
        "from tensorflow.keras.layers import Embedding, LSTM, Dense\n",
        "\n",
        "# Define the LSTM model\n",
        "model_lstm = Sequential()\n",
        "\n",
        "# Embedding layer\n",
        "model_lstm.add(Embedding(input_dim=vocab_size, output_dim=10, input_length=X.shape[1]))\n",
        "\n",
        "# LSTM layer with 50 hidden units\n",
        "model_lstm.add(LSTM(50))\n",
        "\n",
        "# Dense layer for next word prediction\n",
        "model_lstm.add(Dense(vocab_size, activation='softmax'))\n",
        "\n",
        "# Compile the model\n",
        "model_lstm.compile(loss='categorical_crossentropy', optimizer='adam', metrics=['accuracy'])\n",
        "\n",
        "# Model summary\n",
        "model_lstm.summary()\n"
      ],
      "metadata": {
        "colab": {
          "base_uri": "https://localhost:8080/",
          "height": 273
        },
        "id": "8NCqdGmdTjt1",
        "outputId": "bd35e045-613a-4ead-effd-7e3a17b025f9"
      },
      "execution_count": null,
      "outputs": [
        {
          "output_type": "stream",
          "name": "stderr",
          "text": [
            "/usr/local/lib/python3.11/dist-packages/keras/src/layers/core/embedding.py:90: UserWarning: Argument `input_length` is deprecated. Just remove it.\n",
            "  warnings.warn(\n"
          ]
        },
        {
          "output_type": "display_data",
          "data": {
            "text/plain": [
              "\u001b[1mModel: \"sequential\"\u001b[0m\n"
            ],
            "text/html": [
              "<pre style=\"white-space:pre;overflow-x:auto;line-height:normal;font-family:Menlo,'DejaVu Sans Mono',consolas,'Courier New',monospace\"><span style=\"font-weight: bold\">Model: \"sequential\"</span>\n",
              "</pre>\n"
            ]
          },
          "metadata": {}
        },
        {
          "output_type": "display_data",
          "data": {
            "text/plain": [
              "┏━━━━━━━━━━━━━━━━━━━━━━━━━━━━━━━━━┳━━━━━━━━━━━━━━━━━━━━━━━━┳━━━━━━━━━━━━━━━┓\n",
              "┃\u001b[1m \u001b[0m\u001b[1mLayer (type)                   \u001b[0m\u001b[1m \u001b[0m┃\u001b[1m \u001b[0m\u001b[1mOutput Shape          \u001b[0m\u001b[1m \u001b[0m┃\u001b[1m \u001b[0m\u001b[1m      Param #\u001b[0m\u001b[1m \u001b[0m┃\n",
              "┡━━━━━━━━━━━━━━━━━━━━━━━━━━━━━━━━━╇━━━━━━━━━━━━━━━━━━━━━━━━╇━━━━━━━━━━━━━━━┩\n",
              "│ embedding (\u001b[38;5;33mEmbedding\u001b[0m)           │ ?                      │   \u001b[38;5;34m0\u001b[0m (unbuilt) │\n",
              "├─────────────────────────────────┼────────────────────────┼───────────────┤\n",
              "│ lstm (\u001b[38;5;33mLSTM\u001b[0m)                     │ ?                      │   \u001b[38;5;34m0\u001b[0m (unbuilt) │\n",
              "├─────────────────────────────────┼────────────────────────┼───────────────┤\n",
              "│ dense (\u001b[38;5;33mDense\u001b[0m)                   │ ?                      │   \u001b[38;5;34m0\u001b[0m (unbuilt) │\n",
              "└─────────────────────────────────┴────────────────────────┴───────────────┘\n"
            ],
            "text/html": [
              "<pre style=\"white-space:pre;overflow-x:auto;line-height:normal;font-family:Menlo,'DejaVu Sans Mono',consolas,'Courier New',monospace\">┏━━━━━━━━━━━━━━━━━━━━━━━━━━━━━━━━━┳━━━━━━━━━━━━━━━━━━━━━━━━┳━━━━━━━━━━━━━━━┓\n",
              "┃<span style=\"font-weight: bold\"> Layer (type)                    </span>┃<span style=\"font-weight: bold\"> Output Shape           </span>┃<span style=\"font-weight: bold\">       Param # </span>┃\n",
              "┡━━━━━━━━━━━━━━━━━━━━━━━━━━━━━━━━━╇━━━━━━━━━━━━━━━━━━━━━━━━╇━━━━━━━━━━━━━━━┩\n",
              "│ embedding (<span style=\"color: #0087ff; text-decoration-color: #0087ff\">Embedding</span>)           │ ?                      │   <span style=\"color: #00af00; text-decoration-color: #00af00\">0</span> (unbuilt) │\n",
              "├─────────────────────────────────┼────────────────────────┼───────────────┤\n",
              "│ lstm (<span style=\"color: #0087ff; text-decoration-color: #0087ff\">LSTM</span>)                     │ ?                      │   <span style=\"color: #00af00; text-decoration-color: #00af00\">0</span> (unbuilt) │\n",
              "├─────────────────────────────────┼────────────────────────┼───────────────┤\n",
              "│ dense (<span style=\"color: #0087ff; text-decoration-color: #0087ff\">Dense</span>)                   │ ?                      │   <span style=\"color: #00af00; text-decoration-color: #00af00\">0</span> (unbuilt) │\n",
              "└─────────────────────────────────┴────────────────────────┴───────────────┘\n",
              "</pre>\n"
            ]
          },
          "metadata": {}
        },
        {
          "output_type": "display_data",
          "data": {
            "text/plain": [
              "\u001b[1m Total params: \u001b[0m\u001b[38;5;34m0\u001b[0m (0.00 B)\n"
            ],
            "text/html": [
              "<pre style=\"white-space:pre;overflow-x:auto;line-height:normal;font-family:Menlo,'DejaVu Sans Mono',consolas,'Courier New',monospace\"><span style=\"font-weight: bold\"> Total params: </span><span style=\"color: #00af00; text-decoration-color: #00af00\">0</span> (0.00 B)\n",
              "</pre>\n"
            ]
          },
          "metadata": {}
        },
        {
          "output_type": "display_data",
          "data": {
            "text/plain": [
              "\u001b[1m Trainable params: \u001b[0m\u001b[38;5;34m0\u001b[0m (0.00 B)\n"
            ],
            "text/html": [
              "<pre style=\"white-space:pre;overflow-x:auto;line-height:normal;font-family:Menlo,'DejaVu Sans Mono',consolas,'Courier New',monospace\"><span style=\"font-weight: bold\"> Trainable params: </span><span style=\"color: #00af00; text-decoration-color: #00af00\">0</span> (0.00 B)\n",
              "</pre>\n"
            ]
          },
          "metadata": {}
        },
        {
          "output_type": "display_data",
          "data": {
            "text/plain": [
              "\u001b[1m Non-trainable params: \u001b[0m\u001b[38;5;34m0\u001b[0m (0.00 B)\n"
            ],
            "text/html": [
              "<pre style=\"white-space:pre;overflow-x:auto;line-height:normal;font-family:Menlo,'DejaVu Sans Mono',consolas,'Courier New',monospace\"><span style=\"font-weight: bold\"> Non-trainable params: </span><span style=\"color: #00af00; text-decoration-color: #00af00\">0</span> (0.00 B)\n",
              "</pre>\n"
            ]
          },
          "metadata": {}
        }
      ]
    },
    {
      "cell_type": "code",
      "source": [
        "from tensorflow.keras.layers import GRU\n",
        "\n",
        "# Define the GRU model\n",
        "model_gru = Sequential()\n",
        "\n",
        "# Embedding layer\n",
        "model_gru.add(Embedding(input_dim=vocab_size, output_dim=10, input_length=X.shape[1]))\n",
        "\n",
        "# GRU layer with 50 hidden units\n",
        "model_gru.add(GRU(50))\n",
        "\n",
        "# Dense layer for next word prediction\n",
        "model_gru.add(Dense(vocab_size, activation='softmax'))\n",
        "\n",
        "# Compile the model\n",
        "model_gru.compile(loss='categorical_crossentropy', optimizer='adam', metrics=['accuracy'])\n",
        "\n",
        "# Model summary\n",
        "model_gru.summary()\n"
      ],
      "metadata": {
        "colab": {
          "base_uri": "https://localhost:8080/",
          "height": 238
        },
        "id": "VkDKkYPSToAl",
        "outputId": "467ee520-dee8-4294-ca23-5828d6d882c0"
      },
      "execution_count": null,
      "outputs": [
        {
          "output_type": "display_data",
          "data": {
            "text/plain": [
              "\u001b[1mModel: \"sequential_1\"\u001b[0m\n"
            ],
            "text/html": [
              "<pre style=\"white-space:pre;overflow-x:auto;line-height:normal;font-family:Menlo,'DejaVu Sans Mono',consolas,'Courier New',monospace\"><span style=\"font-weight: bold\">Model: \"sequential_1\"</span>\n",
              "</pre>\n"
            ]
          },
          "metadata": {}
        },
        {
          "output_type": "display_data",
          "data": {
            "text/plain": [
              "┏━━━━━━━━━━━━━━━━━━━━━━━━━━━━━━━━━┳━━━━━━━━━━━━━━━━━━━━━━━━┳━━━━━━━━━━━━━━━┓\n",
              "┃\u001b[1m \u001b[0m\u001b[1mLayer (type)                   \u001b[0m\u001b[1m \u001b[0m┃\u001b[1m \u001b[0m\u001b[1mOutput Shape          \u001b[0m\u001b[1m \u001b[0m┃\u001b[1m \u001b[0m\u001b[1m      Param #\u001b[0m\u001b[1m \u001b[0m┃\n",
              "┡━━━━━━━━━━━━━━━━━━━━━━━━━━━━━━━━━╇━━━━━━━━━━━━━━━━━━━━━━━━╇━━━━━━━━━━━━━━━┩\n",
              "│ embedding_1 (\u001b[38;5;33mEmbedding\u001b[0m)         │ ?                      │   \u001b[38;5;34m0\u001b[0m (unbuilt) │\n",
              "├─────────────────────────────────┼────────────────────────┼───────────────┤\n",
              "│ gru (\u001b[38;5;33mGRU\u001b[0m)                       │ ?                      │   \u001b[38;5;34m0\u001b[0m (unbuilt) │\n",
              "├─────────────────────────────────┼────────────────────────┼───────────────┤\n",
              "│ dense_1 (\u001b[38;5;33mDense\u001b[0m)                 │ ?                      │   \u001b[38;5;34m0\u001b[0m (unbuilt) │\n",
              "└─────────────────────────────────┴────────────────────────┴───────────────┘\n"
            ],
            "text/html": [
              "<pre style=\"white-space:pre;overflow-x:auto;line-height:normal;font-family:Menlo,'DejaVu Sans Mono',consolas,'Courier New',monospace\">┏━━━━━━━━━━━━━━━━━━━━━━━━━━━━━━━━━┳━━━━━━━━━━━━━━━━━━━━━━━━┳━━━━━━━━━━━━━━━┓\n",
              "┃<span style=\"font-weight: bold\"> Layer (type)                    </span>┃<span style=\"font-weight: bold\"> Output Shape           </span>┃<span style=\"font-weight: bold\">       Param # </span>┃\n",
              "┡━━━━━━━━━━━━━━━━━━━━━━━━━━━━━━━━━╇━━━━━━━━━━━━━━━━━━━━━━━━╇━━━━━━━━━━━━━━━┩\n",
              "│ embedding_1 (<span style=\"color: #0087ff; text-decoration-color: #0087ff\">Embedding</span>)         │ ?                      │   <span style=\"color: #00af00; text-decoration-color: #00af00\">0</span> (unbuilt) │\n",
              "├─────────────────────────────────┼────────────────────────┼───────────────┤\n",
              "│ gru (<span style=\"color: #0087ff; text-decoration-color: #0087ff\">GRU</span>)                       │ ?                      │   <span style=\"color: #00af00; text-decoration-color: #00af00\">0</span> (unbuilt) │\n",
              "├─────────────────────────────────┼────────────────────────┼───────────────┤\n",
              "│ dense_1 (<span style=\"color: #0087ff; text-decoration-color: #0087ff\">Dense</span>)                 │ ?                      │   <span style=\"color: #00af00; text-decoration-color: #00af00\">0</span> (unbuilt) │\n",
              "└─────────────────────────────────┴────────────────────────┴───────────────┘\n",
              "</pre>\n"
            ]
          },
          "metadata": {}
        },
        {
          "output_type": "display_data",
          "data": {
            "text/plain": [
              "\u001b[1m Total params: \u001b[0m\u001b[38;5;34m0\u001b[0m (0.00 B)\n"
            ],
            "text/html": [
              "<pre style=\"white-space:pre;overflow-x:auto;line-height:normal;font-family:Menlo,'DejaVu Sans Mono',consolas,'Courier New',monospace\"><span style=\"font-weight: bold\"> Total params: </span><span style=\"color: #00af00; text-decoration-color: #00af00\">0</span> (0.00 B)\n",
              "</pre>\n"
            ]
          },
          "metadata": {}
        },
        {
          "output_type": "display_data",
          "data": {
            "text/plain": [
              "\u001b[1m Trainable params: \u001b[0m\u001b[38;5;34m0\u001b[0m (0.00 B)\n"
            ],
            "text/html": [
              "<pre style=\"white-space:pre;overflow-x:auto;line-height:normal;font-family:Menlo,'DejaVu Sans Mono',consolas,'Courier New',monospace\"><span style=\"font-weight: bold\"> Trainable params: </span><span style=\"color: #00af00; text-decoration-color: #00af00\">0</span> (0.00 B)\n",
              "</pre>\n"
            ]
          },
          "metadata": {}
        },
        {
          "output_type": "display_data",
          "data": {
            "text/plain": [
              "\u001b[1m Non-trainable params: \u001b[0m\u001b[38;5;34m0\u001b[0m (0.00 B)\n"
            ],
            "text/html": [
              "<pre style=\"white-space:pre;overflow-x:auto;line-height:normal;font-family:Menlo,'DejaVu Sans Mono',consolas,'Courier New',monospace\"><span style=\"font-weight: bold\"> Non-trainable params: </span><span style=\"color: #00af00; text-decoration-color: #00af00\">0</span> (0.00 B)\n",
              "</pre>\n"
            ]
          },
          "metadata": {}
        }
      ]
    },
    {
      "cell_type": "code",
      "source": [
        "# Train the LSTM model\n",
        "history_lstm = model_lstm.fit(X, y, epochs=50, batch_size=4, verbose=1)\n",
        "\n",
        "# Train the GRU model\n",
        "history_gru = model_gru.fit(X, y, epochs=50, batch_size=4, verbose=1)\n"
      ],
      "metadata": {
        "colab": {
          "base_uri": "https://localhost:8080/"
        },
        "id": "aVzw8s68TsF3",
        "outputId": "26322017-5210-44e0-8d36-b4cbbc6ebc89"
      },
      "execution_count": null,
      "outputs": [
        {
          "output_type": "stream",
          "name": "stdout",
          "text": [
            "Epoch 1/50\n",
            "\u001b[1m4/4\u001b[0m \u001b[32m━━━━━━━━━━━━━━━━━━━━\u001b[0m\u001b[37m\u001b[0m \u001b[1m3s\u001b[0m 12ms/step - accuracy: 0.2083 - loss: 2.3956\n",
            "Epoch 2/50\n",
            "\u001b[1m4/4\u001b[0m \u001b[32m━━━━━━━━━━━━━━━━━━━━\u001b[0m\u001b[37m\u001b[0m \u001b[1m0s\u001b[0m 9ms/step - accuracy: 0.4750 - loss: 2.3854 \n",
            "Epoch 3/50\n",
            "\u001b[1m4/4\u001b[0m \u001b[32m━━━━━━━━━━━━━━━━━━━━\u001b[0m\u001b[37m\u001b[0m \u001b[1m0s\u001b[0m 10ms/step - accuracy: 0.2250 - loss: 2.3800    \n",
            "Epoch 4/50\n",
            "\u001b[1m4/4\u001b[0m \u001b[32m━━━━━━━━━━━━━━━━━━━━\u001b[0m\u001b[37m\u001b[0m \u001b[1m0s\u001b[0m 10ms/step - accuracy: 0.3500 - loss: 2.3691\n",
            "Epoch 5/50\n",
            "\u001b[1m4/4\u001b[0m \u001b[32m━━━━━━━━━━━━━━━━━━━━\u001b[0m\u001b[37m\u001b[0m \u001b[1m0s\u001b[0m 9ms/step - accuracy: 0.4000 - loss: 2.3537 \n",
            "Epoch 6/50\n",
            "\u001b[1m4/4\u001b[0m \u001b[32m━━━━━━━━━━━━━━━━━━━━\u001b[0m\u001b[37m\u001b[0m \u001b[1m0s\u001b[0m 10ms/step - accuracy: 0.3917 - loss: 2.3447\n",
            "Epoch 7/50\n",
            "\u001b[1m4/4\u001b[0m \u001b[32m━━━━━━━━━━━━━━━━━━━━\u001b[0m\u001b[37m\u001b[0m \u001b[1m0s\u001b[0m 10ms/step - accuracy: 0.4333 - loss: 2.3181\n",
            "Epoch 8/50\n",
            "\u001b[1m4/4\u001b[0m \u001b[32m━━━━━━━━━━━━━━━━━━━━\u001b[0m\u001b[37m\u001b[0m \u001b[1m0s\u001b[0m 9ms/step - accuracy: 0.2250 - loss: 2.3173     \n",
            "Epoch 9/50\n",
            "\u001b[1m4/4\u001b[0m \u001b[32m━━━━━━━━━━━━━━━━━━━━\u001b[0m\u001b[37m\u001b[0m \u001b[1m0s\u001b[0m 10ms/step - accuracy: 0.3667 - loss: 2.2880\n",
            "Epoch 10/50\n",
            "\u001b[1m4/4\u001b[0m \u001b[32m━━━━━━━━━━━━━━━━━━━━\u001b[0m\u001b[37m\u001b[0m \u001b[1m0s\u001b[0m 14ms/step - accuracy: 0.2500 - loss: 2.2927    \n",
            "Epoch 11/50\n",
            "\u001b[1m4/4\u001b[0m \u001b[32m━━━━━━━━━━━━━━━━━━━━\u001b[0m\u001b[37m\u001b[0m \u001b[1m0s\u001b[0m 9ms/step - accuracy: 0.2667 - loss: 2.2427     \n",
            "Epoch 12/50\n",
            "\u001b[1m4/4\u001b[0m \u001b[32m━━━━━━━━━━━━━━━━━━━━\u001b[0m\u001b[37m\u001b[0m \u001b[1m0s\u001b[0m 10ms/step - accuracy: 0.3167 - loss: 2.1922\n",
            "Epoch 13/50\n",
            "\u001b[1m4/4\u001b[0m \u001b[32m━━━━━━━━━━━━━━━━━━━━\u001b[0m\u001b[37m\u001b[0m \u001b[1m0s\u001b[0m 10ms/step - accuracy: 0.4167 - loss: 2.0899\n",
            "Epoch 14/50\n",
            "\u001b[1m4/4\u001b[0m \u001b[32m━━━━━━━━━━━━━━━━━━━━\u001b[0m\u001b[37m\u001b[0m \u001b[1m0s\u001b[0m 10ms/step - accuracy: 0.3500 - loss: 2.0822\n",
            "Epoch 15/50\n",
            "\u001b[1m4/4\u001b[0m \u001b[32m━━━━━━━━━━━━━━━━━━━━\u001b[0m\u001b[37m\u001b[0m \u001b[1m0s\u001b[0m 10ms/step - accuracy: 0.3833 - loss: 1.9643\n",
            "Epoch 16/50\n",
            "\u001b[1m4/4\u001b[0m \u001b[32m━━━━━━━━━━━━━━━━━━━━\u001b[0m\u001b[37m\u001b[0m \u001b[1m0s\u001b[0m 10ms/step - accuracy: 0.2583 - loss: 2.0743\n",
            "Epoch 17/50\n",
            "\u001b[1m4/4\u001b[0m \u001b[32m━━━━━━━━━━━━━━━━━━━━\u001b[0m\u001b[37m\u001b[0m \u001b[1m0s\u001b[0m 10ms/step - accuracy: 0.3250 - loss: 1.8524\n",
            "Epoch 18/50\n",
            "\u001b[1m4/4\u001b[0m \u001b[32m━━━━━━━━━━━━━━━━━━━━\u001b[0m\u001b[37m\u001b[0m \u001b[1m0s\u001b[0m 10ms/step - accuracy: 0.2583 - loss: 1.9049\n",
            "Epoch 19/50\n",
            "\u001b[1m4/4\u001b[0m \u001b[32m━━━━━━━━━━━━━━━━━━━━\u001b[0m\u001b[37m\u001b[0m \u001b[1m0s\u001b[0m 10ms/step - accuracy: 0.2250 - loss: 2.1833    \n",
            "Epoch 20/50\n",
            "\u001b[1m4/4\u001b[0m \u001b[32m━━━━━━━━━━━━━━━━━━━━\u001b[0m\u001b[37m\u001b[0m \u001b[1m0s\u001b[0m 10ms/step - accuracy: 0.2750 - loss: 2.0442\n",
            "Epoch 21/50\n",
            "\u001b[1m4/4\u001b[0m \u001b[32m━━━━━━━━━━━━━━━━━━━━\u001b[0m\u001b[37m\u001b[0m \u001b[1m0s\u001b[0m 11ms/step - accuracy: 0.3167 - loss: 1.8920\n",
            "Epoch 22/50\n",
            "\u001b[1m4/4\u001b[0m \u001b[32m━━━━━━━━━━━━━━━━━━━━\u001b[0m\u001b[37m\u001b[0m \u001b[1m0s\u001b[0m 10ms/step - accuracy: 0.3500 - loss: 1.8323\n",
            "Epoch 23/50\n",
            "\u001b[1m4/4\u001b[0m \u001b[32m━━━━━━━━━━━━━━━━━━━━\u001b[0m\u001b[37m\u001b[0m \u001b[1m0s\u001b[0m 10ms/step - accuracy: 0.1833 - loss: 1.9543    \n",
            "Epoch 24/50\n",
            "\u001b[1m4/4\u001b[0m \u001b[32m━━━━━━━━━━━━━━━━━━━━\u001b[0m\u001b[37m\u001b[0m \u001b[1m0s\u001b[0m 9ms/step - accuracy: 0.1833 - loss: 1.9535     \n",
            "Epoch 25/50\n",
            "\u001b[1m4/4\u001b[0m \u001b[32m━━━━━━━━━━━━━━━━━━━━\u001b[0m\u001b[37m\u001b[0m \u001b[1m0s\u001b[0m 10ms/step - accuracy: 0.2333 - loss: 1.9245\n",
            "Epoch 26/50\n",
            "\u001b[1m4/4\u001b[0m \u001b[32m━━━━━━━━━━━━━━━━━━━━\u001b[0m\u001b[37m\u001b[0m \u001b[1m0s\u001b[0m 9ms/step - accuracy: 0.3417 - loss: 1.6846 \n",
            "Epoch 27/50\n",
            "\u001b[1m4/4\u001b[0m \u001b[32m━━━━━━━━━━━━━━━━━━━━\u001b[0m\u001b[37m\u001b[0m \u001b[1m0s\u001b[0m 13ms/step - accuracy: 0.3833 - loss: 1.6290\n",
            "Epoch 28/50\n",
            "\u001b[1m4/4\u001b[0m \u001b[32m━━━━━━━━━━━━━━━━━━━━\u001b[0m\u001b[37m\u001b[0m \u001b[1m0s\u001b[0m 9ms/step - accuracy: 0.3167 - loss: 1.7085 \n",
            "Epoch 29/50\n",
            "\u001b[1m4/4\u001b[0m \u001b[32m━━━━━━━━━━━━━━━━━━━━\u001b[0m\u001b[37m\u001b[0m \u001b[1m0s\u001b[0m 10ms/step - accuracy: 0.3167 - loss: 1.8230\n",
            "Epoch 30/50\n",
            "\u001b[1m4/4\u001b[0m \u001b[32m━━━━━━━━━━━━━━━━━━━━\u001b[0m\u001b[37m\u001b[0m \u001b[1m0s\u001b[0m 10ms/step - accuracy: 0.3083 - loss: 1.7530    \n",
            "Epoch 31/50\n",
            "\u001b[1m4/4\u001b[0m \u001b[32m━━━━━━━━━━━━━━━━━━━━\u001b[0m\u001b[37m\u001b[0m \u001b[1m0s\u001b[0m 10ms/step - accuracy: 0.3583 - loss: 1.7167\n",
            "Epoch 32/50\n",
            "\u001b[1m4/4\u001b[0m \u001b[32m━━━━━━━━━━━━━━━━━━━━\u001b[0m\u001b[37m\u001b[0m \u001b[1m0s\u001b[0m 10ms/step - accuracy: 0.3917 - loss: 1.5995\n",
            "Epoch 33/50\n",
            "\u001b[1m4/4\u001b[0m \u001b[32m━━━━━━━━━━━━━━━━━━━━\u001b[0m\u001b[37m\u001b[0m \u001b[1m0s\u001b[0m 9ms/step - accuracy: 0.5250 - loss: 1.4769 \n",
            "Epoch 34/50\n",
            "\u001b[1m4/4\u001b[0m \u001b[32m━━━━━━━━━━━━━━━━━━━━\u001b[0m\u001b[37m\u001b[0m \u001b[1m0s\u001b[0m 10ms/step - accuracy: 0.4083 - loss: 1.4508\n",
            "Epoch 35/50\n",
            "\u001b[1m4/4\u001b[0m \u001b[32m━━━━━━━━━━━━━━━━━━━━\u001b[0m\u001b[37m\u001b[0m \u001b[1m0s\u001b[0m 10ms/step - accuracy: 0.3417 - loss: 1.5906\n",
            "Epoch 36/50\n",
            "\u001b[1m4/4\u001b[0m \u001b[32m━━━━━━━━━━━━━━━━━━━━\u001b[0m\u001b[37m\u001b[0m \u001b[1m0s\u001b[0m 10ms/step - accuracy: 0.4750 - loss: 1.5080\n",
            "Epoch 37/50\n",
            "\u001b[1m4/4\u001b[0m \u001b[32m━━━━━━━━━━━━━━━━━━━━\u001b[0m\u001b[37m\u001b[0m \u001b[1m0s\u001b[0m 10ms/step - accuracy: 0.5333 - loss: 1.6528\n",
            "Epoch 38/50\n",
            "\u001b[1m4/4\u001b[0m \u001b[32m━━━━━━━━━━━━━━━━━━━━\u001b[0m\u001b[37m\u001b[0m \u001b[1m0s\u001b[0m 9ms/step - accuracy: 0.6333 - loss: 1.4271 \n",
            "Epoch 39/50\n",
            "\u001b[1m4/4\u001b[0m \u001b[32m━━━━━━━━━━━━━━━━━━━━\u001b[0m\u001b[37m\u001b[0m \u001b[1m0s\u001b[0m 10ms/step - accuracy: 0.6583 - loss: 1.3159\n",
            "Epoch 40/50\n",
            "\u001b[1m4/4\u001b[0m \u001b[32m━━━━━━━━━━━━━━━━━━━━\u001b[0m\u001b[37m\u001b[0m \u001b[1m0s\u001b[0m 10ms/step - accuracy: 0.4250 - loss: 1.5439\n",
            "Epoch 41/50\n",
            "\u001b[1m4/4\u001b[0m \u001b[32m━━━━━━━━━━━━━━━━━━━━\u001b[0m\u001b[37m\u001b[0m \u001b[1m0s\u001b[0m 10ms/step - accuracy: 0.5917 - loss: 1.3395\n",
            "Epoch 42/50\n",
            "\u001b[1m4/4\u001b[0m \u001b[32m━━━━━━━━━━━━━━━━━━━━\u001b[0m\u001b[37m\u001b[0m \u001b[1m0s\u001b[0m 10ms/step - accuracy: 0.5250 - loss: 1.4114\n",
            "Epoch 43/50\n",
            "\u001b[1m4/4\u001b[0m \u001b[32m━━━━━━━━━━━━━━━━━━━━\u001b[0m\u001b[37m\u001b[0m \u001b[1m0s\u001b[0m 10ms/step - accuracy: 0.5167 - loss: 1.5214\n",
            "Epoch 44/50\n",
            "\u001b[1m4/4\u001b[0m \u001b[32m━━━━━━━━━━━━━━━━━━━━\u001b[0m\u001b[37m\u001b[0m \u001b[1m0s\u001b[0m 14ms/step - accuracy: 0.4917 - loss: 1.3682\n",
            "Epoch 45/50\n",
            "\u001b[1m4/4\u001b[0m \u001b[32m━━━━━━━━━━━━━━━━━━━━\u001b[0m\u001b[37m\u001b[0m \u001b[1m0s\u001b[0m 10ms/step - accuracy: 0.5167 - loss: 1.3342\n",
            "Epoch 46/50\n",
            "\u001b[1m4/4\u001b[0m \u001b[32m━━━━━━━━━━━━━━━━━━━━\u001b[0m\u001b[37m\u001b[0m \u001b[1m0s\u001b[0m 10ms/step - accuracy: 0.5917 - loss: 1.0305\n",
            "Epoch 47/50\n",
            "\u001b[1m4/4\u001b[0m \u001b[32m━━━━━━━━━━━━━━━━━━━━\u001b[0m\u001b[37m\u001b[0m \u001b[1m0s\u001b[0m 9ms/step - accuracy: 0.5667 - loss: 1.1395 \n",
            "Epoch 48/50\n",
            "\u001b[1m4/4\u001b[0m \u001b[32m━━━━━━━━━━━━━━━━━━━━\u001b[0m\u001b[37m\u001b[0m \u001b[1m0s\u001b[0m 9ms/step - accuracy: 0.5750 - loss: 1.2126 \n",
            "Epoch 49/50\n",
            "\u001b[1m4/4\u001b[0m \u001b[32m━━━━━━━━━━━━━━━━━━━━\u001b[0m\u001b[37m\u001b[0m \u001b[1m0s\u001b[0m 10ms/step - accuracy: 0.5417 - loss: 1.0741\n",
            "Epoch 50/50\n",
            "\u001b[1m4/4\u001b[0m \u001b[32m━━━━━━━━━━━━━━━━━━━━\u001b[0m\u001b[37m\u001b[0m \u001b[1m0s\u001b[0m 10ms/step - accuracy: 0.6583 - loss: 1.2504\n",
            "Epoch 1/50\n",
            "\u001b[1m4/4\u001b[0m \u001b[32m━━━━━━━━━━━━━━━━━━━━\u001b[0m\u001b[37m\u001b[0m \u001b[1m3s\u001b[0m 16ms/step - accuracy: 0.1333 - loss: 2.3991  \n",
            "Epoch 2/50\n",
            "\u001b[1m4/4\u001b[0m \u001b[32m━━━━━━━━━━━━━━━━━━━━\u001b[0m\u001b[37m\u001b[0m \u001b[1m0s\u001b[0m 10ms/step - accuracy: 0.2917 - loss: 2.3855\n",
            "Epoch 3/50\n",
            "\u001b[1m4/4\u001b[0m \u001b[32m━━━━━━━━━━━━━━━━━━━━\u001b[0m\u001b[37m\u001b[0m \u001b[1m0s\u001b[0m 10ms/step - accuracy: 0.3167 - loss: 2.3704\n",
            "Epoch 4/50\n",
            "\u001b[1m4/4\u001b[0m \u001b[32m━━━━━━━━━━━━━━━━━━━━\u001b[0m\u001b[37m\u001b[0m \u001b[1m0s\u001b[0m 10ms/step - accuracy: 0.2250 - loss: 2.3620    \n",
            "Epoch 5/50\n",
            "\u001b[1m4/4\u001b[0m \u001b[32m━━━━━━━━━━━━━━━━━━━━\u001b[0m\u001b[37m\u001b[0m \u001b[1m0s\u001b[0m 10ms/step - accuracy: 0.2750 - loss: 2.3399\n",
            "Epoch 6/50\n",
            "\u001b[1m4/4\u001b[0m \u001b[32m━━━━━━━━━━━━━━━━━━━━\u001b[0m\u001b[37m\u001b[0m \u001b[1m0s\u001b[0m 18ms/step - accuracy: 0.2500 - loss: 2.3275\n",
            "Epoch 7/50\n",
            "\u001b[1m4/4\u001b[0m \u001b[32m━━━━━━━━━━━━━━━━━━━━\u001b[0m\u001b[37m\u001b[0m \u001b[1m0s\u001b[0m 10ms/step - accuracy: 0.2500 - loss: 2.3000\n",
            "Epoch 8/50\n",
            "\u001b[1m4/4\u001b[0m \u001b[32m━━━━━━━━━━━━━━━━━━━━\u001b[0m\u001b[37m\u001b[0m \u001b[1m0s\u001b[0m 10ms/step - accuracy: 0.3167 - loss: 2.2736\n",
            "Epoch 9/50\n",
            "\u001b[1m4/4\u001b[0m \u001b[32m━━━━━━━━━━━━━━━━━━━━\u001b[0m\u001b[37m\u001b[0m \u001b[1m0s\u001b[0m 13ms/step - accuracy: 0.2917 - loss: 2.2488\n",
            "Epoch 10/50\n",
            "\u001b[1m4/4\u001b[0m \u001b[32m━━━━━━━━━━━━━━━━━━━━\u001b[0m\u001b[37m\u001b[0m \u001b[1m0s\u001b[0m 11ms/step - accuracy: 0.2750 - loss: 2.2299\n",
            "Epoch 11/50\n",
            "\u001b[1m4/4\u001b[0m \u001b[32m━━━━━━━━━━━━━━━━━━━━\u001b[0m\u001b[37m\u001b[0m \u001b[1m0s\u001b[0m 10ms/step - accuracy: 0.3583 - loss: 2.1205\n",
            "Epoch 12/50\n",
            "\u001b[1m4/4\u001b[0m \u001b[32m━━━━━━━━━━━━━━━━━━━━\u001b[0m\u001b[37m\u001b[0m \u001b[1m0s\u001b[0m 10ms/step - accuracy: 0.4833 - loss: 2.0264\n",
            "Epoch 13/50\n",
            "\u001b[1m4/4\u001b[0m \u001b[32m━━━━━━━━━━━━━━━━━━━━\u001b[0m\u001b[37m\u001b[0m \u001b[1m0s\u001b[0m 9ms/step - accuracy: 0.2583 - loss: 2.0573     \n",
            "Epoch 14/50\n",
            "\u001b[1m4/4\u001b[0m \u001b[32m━━━━━━━━━━━━━━━━━━━━\u001b[0m\u001b[37m\u001b[0m \u001b[1m0s\u001b[0m 10ms/step - accuracy: 0.3167 - loss: 2.0200\n",
            "Epoch 15/50\n",
            "\u001b[1m4/4\u001b[0m \u001b[32m━━━━━━━━━━━━━━━━━━━━\u001b[0m\u001b[37m\u001b[0m \u001b[1m0s\u001b[0m 10ms/step - accuracy: 0.2917 - loss: 1.8940\n",
            "Epoch 16/50\n",
            "\u001b[1m4/4\u001b[0m \u001b[32m━━━━━━━━━━━━━━━━━━━━\u001b[0m\u001b[37m\u001b[0m \u001b[1m0s\u001b[0m 10ms/step - accuracy: 0.3500 - loss: 1.9362\n",
            "Epoch 17/50\n",
            "\u001b[1m4/4\u001b[0m \u001b[32m━━━━━━━━━━━━━━━━━━━━\u001b[0m\u001b[37m\u001b[0m \u001b[1m0s\u001b[0m 10ms/step - accuracy: 0.4417 - loss: 1.6921\n",
            "Epoch 18/50\n",
            "\u001b[1m4/4\u001b[0m \u001b[32m━━━━━━━━━━━━━━━━━━━━\u001b[0m\u001b[37m\u001b[0m \u001b[1m0s\u001b[0m 10ms/step - accuracy: 0.3417 - loss: 1.8383\n",
            "Epoch 19/50\n",
            "\u001b[1m4/4\u001b[0m \u001b[32m━━━━━━━━━━━━━━━━━━━━\u001b[0m\u001b[37m\u001b[0m \u001b[1m0s\u001b[0m 11ms/step - accuracy: 0.4583 - loss: 1.5773\n",
            "Epoch 20/50\n",
            "\u001b[1m4/4\u001b[0m \u001b[32m━━━━━━━━━━━━━━━━━━━━\u001b[0m\u001b[37m\u001b[0m \u001b[1m0s\u001b[0m 10ms/step - accuracy: 0.2667 - loss: 1.8931    \n",
            "Epoch 21/50\n",
            "\u001b[1m4/4\u001b[0m \u001b[32m━━━━━━━━━━━━━━━━━━━━\u001b[0m\u001b[37m\u001b[0m \u001b[1m0s\u001b[0m 10ms/step - accuracy: 0.3167 - loss: 1.8775\n",
            "Epoch 22/50\n",
            "\u001b[1m4/4\u001b[0m \u001b[32m━━━━━━━━━━━━━━━━━━━━\u001b[0m\u001b[37m\u001b[0m \u001b[1m0s\u001b[0m 10ms/step - accuracy: 0.2000 - loss: 1.9523    \n",
            "Epoch 23/50\n",
            "\u001b[1m4/4\u001b[0m \u001b[32m━━━━━━━━━━━━━━━━━━━━\u001b[0m\u001b[37m\u001b[0m \u001b[1m0s\u001b[0m 11ms/step - accuracy: 0.2667 - loss: 1.7532\n",
            "Epoch 24/50\n",
            "\u001b[1m4/4\u001b[0m \u001b[32m━━━━━━━━━━━━━━━━━━━━\u001b[0m\u001b[37m\u001b[0m \u001b[1m0s\u001b[0m 10ms/step - accuracy: 0.2750 - loss: 1.9332\n",
            "Epoch 25/50\n",
            "\u001b[1m4/4\u001b[0m \u001b[32m━━━━━━━━━━━━━━━━━━━━\u001b[0m\u001b[37m\u001b[0m \u001b[1m0s\u001b[0m 10ms/step - accuracy: 0.2750 - loss: 1.6158\n",
            "Epoch 26/50\n",
            "\u001b[1m4/4\u001b[0m \u001b[32m━━━━━━━━━━━━━━━━━━━━\u001b[0m\u001b[37m\u001b[0m \u001b[1m0s\u001b[0m 11ms/step - accuracy: 0.3250 - loss: 1.7833 \n",
            "Epoch 27/50\n",
            "\u001b[1m4/4\u001b[0m \u001b[32m━━━━━━━━━━━━━━━━━━━━\u001b[0m\u001b[37m\u001b[0m \u001b[1m0s\u001b[0m 11ms/step - accuracy: 0.5250 - loss: 1.5126\n",
            "Epoch 28/50\n",
            "\u001b[1m4/4\u001b[0m \u001b[32m━━━━━━━━━━━━━━━━━━━━\u001b[0m\u001b[37m\u001b[0m \u001b[1m0s\u001b[0m 10ms/step - accuracy: 0.5417 - loss: 1.5145 \n",
            "Epoch 29/50\n",
            "\u001b[1m4/4\u001b[0m \u001b[32m━━━━━━━━━━━━━━━━━━━━\u001b[0m\u001b[37m\u001b[0m \u001b[1m0s\u001b[0m 10ms/step - accuracy: 0.4583 - loss: 1.6490\n",
            "Epoch 30/50\n",
            "\u001b[1m4/4\u001b[0m \u001b[32m━━━━━━━━━━━━━━━━━━━━\u001b[0m\u001b[37m\u001b[0m \u001b[1m0s\u001b[0m 10ms/step - accuracy: 0.5250 - loss: 1.6419\n",
            "Epoch 31/50\n",
            "\u001b[1m4/4\u001b[0m \u001b[32m━━━━━━━━━━━━━━━━━━━━\u001b[0m\u001b[37m\u001b[0m \u001b[1m0s\u001b[0m 10ms/step - accuracy: 0.5083 - loss: 1.5615\n",
            "Epoch 32/50\n",
            "\u001b[1m4/4\u001b[0m \u001b[32m━━━━━━━━━━━━━━━━━━━━\u001b[0m\u001b[37m\u001b[0m \u001b[1m0s\u001b[0m 10ms/step - accuracy: 0.6583 - loss: 1.2489\n",
            "Epoch 33/50\n",
            "\u001b[1m4/4\u001b[0m \u001b[32m━━━━━━━━━━━━━━━━━━━━\u001b[0m\u001b[37m\u001b[0m \u001b[1m0s\u001b[0m 10ms/step - accuracy: 0.6417 - loss: 1.4185\n",
            "Epoch 34/50\n",
            "\u001b[1m4/4\u001b[0m \u001b[32m━━━━━━━━━━━━━━━━━━━━\u001b[0m\u001b[37m\u001b[0m \u001b[1m0s\u001b[0m 10ms/step - accuracy: 0.5250 - loss: 1.5016\n",
            "Epoch 35/50\n",
            "\u001b[1m4/4\u001b[0m \u001b[32m━━━━━━━━━━━━━━━━━━━━\u001b[0m\u001b[37m\u001b[0m \u001b[1m0s\u001b[0m 10ms/step - accuracy: 0.4500 - loss: 1.5065\n",
            "Epoch 36/50\n",
            "\u001b[1m4/4\u001b[0m \u001b[32m━━━━━━━━━━━━━━━━━━━━\u001b[0m\u001b[37m\u001b[0m \u001b[1m0s\u001b[0m 10ms/step - accuracy: 0.6417 - loss: 1.1123\n",
            "Epoch 37/50\n",
            "\u001b[1m4/4\u001b[0m \u001b[32m━━━━━━━━━━━━━━━━━━━━\u001b[0m\u001b[37m\u001b[0m \u001b[1m0s\u001b[0m 10ms/step - accuracy: 0.5833 - loss: 1.2741\n",
            "Epoch 38/50\n",
            "\u001b[1m4/4\u001b[0m \u001b[32m━━━━━━━━━━━━━━━━━━━━\u001b[0m\u001b[37m\u001b[0m \u001b[1m0s\u001b[0m 12ms/step - accuracy: 0.4917 - loss: 1.3041\n",
            "Epoch 39/50\n",
            "\u001b[1m4/4\u001b[0m \u001b[32m━━━━━━━━━━━━━━━━━━━━\u001b[0m\u001b[37m\u001b[0m \u001b[1m0s\u001b[0m 11ms/step - accuracy: 0.5833 - loss: 1.0995\n",
            "Epoch 40/50\n",
            "\u001b[1m4/4\u001b[0m \u001b[32m━━━━━━━━━━━━━━━━━━━━\u001b[0m\u001b[37m\u001b[0m \u001b[1m0s\u001b[0m 10ms/step - accuracy: 0.6750 - loss: 1.1585 \n",
            "Epoch 41/50\n",
            "\u001b[1m4/4\u001b[0m \u001b[32m━━━━━━━━━━━━━━━━━━━━\u001b[0m\u001b[37m\u001b[0m \u001b[1m0s\u001b[0m 11ms/step - accuracy: 0.6833 - loss: 1.0167\n",
            "Epoch 42/50\n",
            "\u001b[1m4/4\u001b[0m \u001b[32m━━━━━━━━━━━━━━━━━━━━\u001b[0m\u001b[37m\u001b[0m \u001b[1m0s\u001b[0m 10ms/step - accuracy: 0.6833 - loss: 1.1238\n",
            "Epoch 43/50\n",
            "\u001b[1m4/4\u001b[0m \u001b[32m━━━━━━━━━━━━━━━━━━━━\u001b[0m\u001b[37m\u001b[0m \u001b[1m0s\u001b[0m 10ms/step - accuracy: 0.7167 - loss: 0.9615\n",
            "Epoch 44/50\n",
            "\u001b[1m4/4\u001b[0m \u001b[32m━━━━━━━━━━━━━━━━━━━━\u001b[0m\u001b[37m\u001b[0m \u001b[1m0s\u001b[0m 10ms/step - accuracy: 0.6583 - loss: 0.9568\n",
            "Epoch 45/50\n",
            "\u001b[1m4/4\u001b[0m \u001b[32m━━━━━━━━━━━━━━━━━━━━\u001b[0m\u001b[37m\u001b[0m \u001b[1m0s\u001b[0m 10ms/step - accuracy: 0.7083 - loss: 0.8971\n",
            "Epoch 46/50\n",
            "\u001b[1m4/4\u001b[0m \u001b[32m━━━━━━━━━━━━━━━━━━━━\u001b[0m\u001b[37m\u001b[0m \u001b[1m0s\u001b[0m 10ms/step - accuracy: 0.7250 - loss: 0.9684\n",
            "Epoch 47/50\n",
            "\u001b[1m4/4\u001b[0m \u001b[32m━━━━━━━━━━━━━━━━━━━━\u001b[0m\u001b[37m\u001b[0m \u001b[1m0s\u001b[0m 10ms/step - accuracy: 0.7917 - loss: 0.8020\n",
            "Epoch 48/50\n",
            "\u001b[1m4/4\u001b[0m \u001b[32m━━━━━━━━━━━━━━━━━━━━\u001b[0m\u001b[37m\u001b[0m \u001b[1m0s\u001b[0m 10ms/step - accuracy: 0.8500 - loss: 0.6594\n",
            "Epoch 49/50\n",
            "\u001b[1m4/4\u001b[0m \u001b[32m━━━━━━━━━━━━━━━━━━━━\u001b[0m\u001b[37m\u001b[0m \u001b[1m0s\u001b[0m 10ms/step - accuracy: 0.6750 - loss: 1.0004\n",
            "Epoch 50/50\n",
            "\u001b[1m4/4\u001b[0m \u001b[32m━━━━━━━━━━━━━━━━━━━━\u001b[0m\u001b[37m\u001b[0m \u001b[1m0s\u001b[0m 10ms/step - accuracy: 0.9083 - loss: 0.5875\n"
          ]
        }
      ]
    },
    {
      "cell_type": "code",
      "source": [
        "import time\n",
        "\n",
        "# Record the training time for LSTM\n",
        "start_time = time.time()\n",
        "history_lstm = model_lstm.fit(X, y, epochs=50, batch_size=4, verbose=0)\n",
        "lstm_training_time = time.time() - start_time\n",
        "\n",
        "# Record the training time for GRU\n",
        "start_time = time.time()\n",
        "history_gru = model_gru.fit(X, y, epochs=50, batch_size=4, verbose=0)\n",
        "gru_training_time = time.time() - start_time\n",
        "\n",
        "print(f\"LSTM Training Time: {lstm_training_time:.2f} seconds\")\n",
        "print(f\"GRU Training Time: {gru_training_time:.2f} seconds\")\n"
      ],
      "metadata": {
        "colab": {
          "base_uri": "https://localhost:8080/"
        },
        "id": "0ZGWOlfaTw13",
        "outputId": "49b65a0f-d4f9-4a6b-d1c5-5fa1dbfc1a0d"
      },
      "execution_count": null,
      "outputs": [
        {
          "output_type": "stream",
          "name": "stdout",
          "text": [
            "LSTM Training Time: 3.73 seconds\n",
            "GRU Training Time: 3.41 seconds\n"
          ]
        }
      ]
    },
    {
      "cell_type": "code",
      "source": [
        "import matplotlib.pyplot as plt\n",
        "\n",
        "# Plot accuracy comparison\n",
        "plt.figure(figsize=(10, 6))\n",
        "\n",
        "# LSTM Accuracy Plot\n",
        "plt.subplot(1, 2, 1)\n",
        "plt.plot(history_lstm.history['accuracy'], label='LSTM Train Accuracy')\n",
        "plt.title('LSTM Training Accuracy')\n",
        "plt.xlabel('Epochs')\n",
        "plt.ylabel('Accuracy')\n",
        "plt.legend()\n",
        "\n",
        "# GRU Accuracy Plot\n",
        "plt.subplot(1, 2, 2)\n",
        "plt.plot(history_gru.history['accuracy'], label='GRU Train Accuracy')\n",
        "plt.title('GRU Training Accuracy')\n",
        "plt.xlabel('Epochs')\n",
        "plt.ylabel('Accuracy')\n",
        "plt.legend()\n",
        "\n",
        "plt.tight_layout()\n",
        "plt.show()\n"
      ],
      "metadata": {
        "colab": {
          "base_uri": "https://localhost:8080/",
          "height": 607
        },
        "id": "QuF38xodT4AU",
        "outputId": "987c569d-d338-45f9-8cc3-846cad1961aa"
      },
      "execution_count": null,
      "outputs": [
        {
          "output_type": "display_data",
          "data": {
            "text/plain": [
              "<Figure size 1000x600 with 2 Axes>"
            ],
            "image/png": "[encoded data removed]"
          },
          "metadata": {}
        }
      ]
    },
    {
      "cell_type": "markdown",
      "source": [
        "# ***5. Building the Models:***\n",
        "Build both models using TensorFlow/Keras layers:\n",
        "\n",
        "\n",
        "Use Embedding layers for input representations.\n",
        "\n",
        "\n",
        "**For LSTM:** Use LSTM() layers.\n",
        "\n",
        "\n",
        "**For GRU:** Use GRU() layers.\n",
        "\n",
        "\n",
        "Compile the models with appropriate loss functions (e.g., categorical crossentropy) and optimizers (e.g., Adam).\n"
      ],
      "metadata": {
        "id": "3bgGljSrcg5H"
      }
    },
    {
      "cell_type": "code",
      "source": [
        "# Simple dataset with sentences\n",
        "sentences = [\n",
        "    \"I love machine learning\",\n",
        "    \"Deep learning is amazing\",\n",
        "    \"I love deep learning\",\n",
        "    \"Machine learning is great\",\n",
        "    \"Deep learning is the future\"\n",
        "]\n",
        "\n",
        "from tensorflow.keras.preprocessing.text import Tokenizer\n",
        "from tensorflow.keras.utils import to_categorical\n",
        "from tensorflow.keras.preprocessing.sequence import pad_sequences\n",
        "import numpy as np\n",
        "\n",
        "# Initialize the tokenizer\n",
        "tokenizer = Tokenizer()\n",
        "tokenizer.fit_on_texts(sentences)\n",
        "\n",
        "# Convert text to sequences of integers (word indices)\n",
        "sequences = tokenizer.texts_to_sequences(sentences)\n",
        "\n",
        "# Define the vocabulary size (number of unique words)\n",
        "vocab_size = len(tokenizer.word_index) + 1  # +1 for padding\n",
        "\n",
        "# Create input-output pairs (sequences and next word)\n",
        "X = []\n",
        "y = []\n",
        "\n",
        "# Loop through sequences and create input-output pairs\n",
        "for seq in sequences:\n",
        "    for i in range(1, len(seq)):\n",
        "        X.append(seq[:i])  # Input sequence (all words before the target word)\n",
        "        y.append(seq[i])  # Next word (target word)\n",
        "\n",
        "# Pad sequences to make them the same length\n",
        "X = pad_sequences(X, padding='pre')\n",
        "\n",
        "# One-hot encode the target variable (y)\n",
        "y = to_categorical(y, num_classes=vocab_size)\n",
        "\n",
        "# Convert X to numpy arrays\n",
        "X = np.array(X)\n",
        "y = np.array(y)\n",
        "\n",
        "# Print shapes of input and output\n",
        "print(f\"Shape of X: {X.shape}, Shape of y: {y.shape}\")\n"
      ],
      "metadata": {
        "colab": {
          "base_uri": "https://localhost:8080/"
        },
        "id": "SBdTSTDzcx1b",
        "outputId": "cd4d0034-72de-410c-d15e-691d13d87b3b"
      },
      "execution_count": 44,
      "outputs": [
        {
          "output_type": "stream",
          "name": "stdout",
          "text": [
            "Shape of X: (16, 4), Shape of y: (16, 11)\n"
          ]
        }
      ]
    },
    {
      "cell_type": "code",
      "source": [
        "from tensorflow.keras.models import Sequential\n",
        "from tensorflow.keras.layers import Embedding, LSTM, Dense\n",
        "\n",
        "# Define the LSTM model\n",
        "model_lstm = Sequential()\n",
        "\n",
        "# Embedding layer: vocab_size = size of the vocabulary, 50 is the embedding dimension\n",
        "model_lstm.add(Embedding(input_dim=vocab_size, output_dim=50, input_length=X.shape[1]))\n",
        "\n",
        "# LSTM layer with 128 hidden units\n",
        "model_lstm.add(LSTM(128))\n",
        "\n",
        "# Dense layer for next word prediction (output size = vocab_size)\n",
        "model_lstm.add(Dense(vocab_size, activation='softmax'))\n",
        "\n",
        "# Compile the model\n",
        "model_lstm.compile(loss='categorical_crossentropy', optimizer='adam', metrics=['accuracy'])\n",
        "\n",
        "# Model summary\n",
        "model_lstm.summary()\n"
      ],
      "metadata": {
        "colab": {
          "base_uri": "https://localhost:8080/",
          "height": 273
        },
        "id": "nGz686m3efeA",
        "outputId": "6338fcf4-e8dc-419e-c5cb-92da1cbe4241"
      },
      "execution_count": 45,
      "outputs": [
        {
          "output_type": "stream",
          "name": "stderr",
          "text": [
            "/usr/local/lib/python3.11/dist-packages/keras/src/layers/core/embedding.py:90: UserWarning: Argument `input_length` is deprecated. Just remove it.\n",
            "  warnings.warn(\n"
          ]
        },
        {
          "output_type": "display_data",
          "data": {
            "text/plain": [
              "\u001b[1mModel: \"sequential\"\u001b[0m\n"
            ],
            "text/html": [
              "<pre style=\"white-space:pre;overflow-x:auto;line-height:normal;font-family:Menlo,'DejaVu Sans Mono',consolas,'Courier New',monospace\"><span style=\"font-weight: bold\">Model: \"sequential\"</span>\n",
              "</pre>\n"
            ]
          },
          "metadata": {}
        },
        {
          "output_type": "display_data",
          "data": {
            "text/plain": [
              "┏━━━━━━━━━━━━━━━━━━━━━━━━━━━━━━━━━┳━━━━━━━━━━━━━━━━━━━━━━━━┳━━━━━━━━━━━━━━━┓\n",
              "┃\u001b[1m \u001b[0m\u001b[1mLayer (type)                   \u001b[0m\u001b[1m \u001b[0m┃\u001b[1m \u001b[0m\u001b[1mOutput Shape          \u001b[0m\u001b[1m \u001b[0m┃\u001b[1m \u001b[0m\u001b[1m      Param #\u001b[0m\u001b[1m \u001b[0m┃\n",
              "┡━━━━━━━━━━━━━━━━━━━━━━━━━━━━━━━━━╇━━━━━━━━━━━━━━━━━━━━━━━━╇━━━━━━━━━━━━━━━┩\n",
              "│ embedding (\u001b[38;5;33mEmbedding\u001b[0m)           │ ?                      │   \u001b[38;5;34m0\u001b[0m (unbuilt) │\n",
              "├─────────────────────────────────┼────────────────────────┼───────────────┤\n",
              "│ lstm (\u001b[38;5;33mLSTM\u001b[0m)                     │ ?                      │   \u001b[38;5;34m0\u001b[0m (unbuilt) │\n",
              "├─────────────────────────────────┼────────────────────────┼───────────────┤\n",
              "│ dense (\u001b[38;5;33mDense\u001b[0m)                   │ ?                      │   \u001b[38;5;34m0\u001b[0m (unbuilt) │\n",
              "└─────────────────────────────────┴────────────────────────┴───────────────┘\n"
            ],
            "text/html": [
              "<pre style=\"white-space:pre;overflow-x:auto;line-height:normal;font-family:Menlo,'DejaVu Sans Mono',consolas,'Courier New',monospace\">┏━━━━━━━━━━━━━━━━━━━━━━━━━━━━━━━━━┳━━━━━━━━━━━━━━━━━━━━━━━━┳━━━━━━━━━━━━━━━┓\n",
              "┃<span style=\"font-weight: bold\"> Layer (type)                    </span>┃<span style=\"font-weight: bold\"> Output Shape           </span>┃<span style=\"font-weight: bold\">       Param # </span>┃\n",
              "┡━━━━━━━━━━━━━━━━━━━━━━━━━━━━━━━━━╇━━━━━━━━━━━━━━━━━━━━━━━━╇━━━━━━━━━━━━━━━┩\n",
              "│ embedding (<span style=\"color: #0087ff; text-decoration-color: #0087ff\">Embedding</span>)           │ ?                      │   <span style=\"color: #00af00; text-decoration-color: #00af00\">0</span> (unbuilt) │\n",
              "├─────────────────────────────────┼────────────────────────┼───────────────┤\n",
              "│ lstm (<span style=\"color: #0087ff; text-decoration-color: #0087ff\">LSTM</span>)                     │ ?                      │   <span style=\"color: #00af00; text-decoration-color: #00af00\">0</span> (unbuilt) │\n",
              "├─────────────────────────────────┼────────────────────────┼───────────────┤\n",
              "│ dense (<span style=\"color: #0087ff; text-decoration-color: #0087ff\">Dense</span>)                   │ ?                      │   <span style=\"color: #00af00; text-decoration-color: #00af00\">0</span> (unbuilt) │\n",
              "└─────────────────────────────────┴────────────────────────┴───────────────┘\n",
              "</pre>\n"
            ]
          },
          "metadata": {}
        },
        {
          "output_type": "display_data",
          "data": {
            "text/plain": [
              "\u001b[1m Total params: \u001b[0m\u001b[38;5;34m0\u001b[0m (0.00 B)\n"
            ],
            "text/html": [
              "<pre style=\"white-space:pre;overflow-x:auto;line-height:normal;font-family:Menlo,'DejaVu Sans Mono',consolas,'Courier New',monospace\"><span style=\"font-weight: bold\"> Total params: </span><span style=\"color: #00af00; text-decoration-color: #00af00\">0</span> (0.00 B)\n",
              "</pre>\n"
            ]
          },
          "metadata": {}
        },
        {
          "output_type": "display_data",
          "data": {
            "text/plain": [
              "\u001b[1m Trainable params: \u001b[0m\u001b[38;5;34m0\u001b[0m (0.00 B)\n"
            ],
            "text/html": [
              "<pre style=\"white-space:pre;overflow-x:auto;line-height:normal;font-family:Menlo,'DejaVu Sans Mono',consolas,'Courier New',monospace\"><span style=\"font-weight: bold\"> Trainable params: </span><span style=\"color: #00af00; text-decoration-color: #00af00\">0</span> (0.00 B)\n",
              "</pre>\n"
            ]
          },
          "metadata": {}
        },
        {
          "output_type": "display_data",
          "data": {
            "text/plain": [
              "\u001b[1m Non-trainable params: \u001b[0m\u001b[38;5;34m0\u001b[0m (0.00 B)\n"
            ],
            "text/html": [
              "<pre style=\"white-space:pre;overflow-x:auto;line-height:normal;font-family:Menlo,'DejaVu Sans Mono',consolas,'Courier New',monospace\"><span style=\"font-weight: bold\"> Non-trainable params: </span><span style=\"color: #00af00; text-decoration-color: #00af00\">0</span> (0.00 B)\n",
              "</pre>\n"
            ]
          },
          "metadata": {}
        }
      ]
    },
    {
      "cell_type": "code",
      "source": [
        "from tensorflow.keras.models import Sequential\n",
        "from tensorflow.keras.layers import Embedding, GRU, Dense\n",
        "\n",
        "# Define the GRU model\n",
        "model_gru = Sequential()\n",
        "\n",
        "# Embedding layer\n",
        "model_gru.add(Embedding(input_dim=vocab_size, output_dim=50, input_length=X.shape[1]))\n",
        "\n",
        "# GRU layer with 128 hidden units\n",
        "model_gru.add(GRU(128))\n",
        "\n",
        "# Dense layer for next word prediction\n",
        "model_gru.add(Dense(vocab_size, activation='softmax'))\n",
        "\n",
        "# Compile the model\n",
        "model_gru.compile(loss='categorical_crossentropy', optimizer='adam', metrics=['accuracy'])\n",
        "\n",
        "# Model summary\n",
        "model_gru.summary()\n"
      ],
      "metadata": {
        "colab": {
          "base_uri": "https://localhost:8080/",
          "height": 238
        },
        "id": "BYClSP39elF3",
        "outputId": "588c9f63-6567-43f3-8d02-12bf9510556f"
      },
      "execution_count": 46,
      "outputs": [
        {
          "output_type": "display_data",
          "data": {
            "text/plain": [
              "\u001b[1mModel: \"sequential_1\"\u001b[0m\n"
            ],
            "text/html": [
              "<pre style=\"white-space:pre;overflow-x:auto;line-height:normal;font-family:Menlo,'DejaVu Sans Mono',consolas,'Courier New',monospace\"><span style=\"font-weight: bold\">Model: \"sequential_1\"</span>\n",
              "</pre>\n"
            ]
          },
          "metadata": {}
        },
        {
          "output_type": "display_data",
          "data": {
            "text/plain": [
              "┏━━━━━━━━━━━━━━━━━━━━━━━━━━━━━━━━━┳━━━━━━━━━━━━━━━━━━━━━━━━┳━━━━━━━━━━━━━━━┓\n",
              "┃\u001b[1m \u001b[0m\u001b[1mLayer (type)                   \u001b[0m\u001b[1m \u001b[0m┃\u001b[1m \u001b[0m\u001b[1mOutput Shape          \u001b[0m\u001b[1m \u001b[0m┃\u001b[1m \u001b[0m\u001b[1m      Param #\u001b[0m\u001b[1m \u001b[0m┃\n",
              "┡━━━━━━━━━━━━━━━━━━━━━━━━━━━━━━━━━╇━━━━━━━━━━━━━━━━━━━━━━━━╇━━━━━━━━━━━━━━━┩\n",
              "│ embedding_1 (\u001b[38;5;33mEmbedding\u001b[0m)         │ ?                      │   \u001b[38;5;34m0\u001b[0m (unbuilt) │\n",
              "├─────────────────────────────────┼────────────────────────┼───────────────┤\n",
              "│ gru (\u001b[38;5;33mGRU\u001b[0m)                       │ ?                      │   \u001b[38;5;34m0\u001b[0m (unbuilt) │\n",
              "├─────────────────────────────────┼────────────────────────┼───────────────┤\n",
              "│ dense_1 (\u001b[38;5;33mDense\u001b[0m)                 │ ?                      │   \u001b[38;5;34m0\u001b[0m (unbuilt) │\n",
              "└─────────────────────────────────┴────────────────────────┴───────────────┘\n"
            ],
            "text/html": [
              "<pre style=\"white-space:pre;overflow-x:auto;line-height:normal;font-family:Menlo,'DejaVu Sans Mono',consolas,'Courier New',monospace\">┏━━━━━━━━━━━━━━━━━━━━━━━━━━━━━━━━━┳━━━━━━━━━━━━━━━━━━━━━━━━┳━━━━━━━━━━━━━━━┓\n",
              "┃<span style=\"font-weight: bold\"> Layer (type)                    </span>┃<span style=\"font-weight: bold\"> Output Shape           </span>┃<span style=\"font-weight: bold\">       Param # </span>┃\n",
              "┡━━━━━━━━━━━━━━━━━━━━━━━━━━━━━━━━━╇━━━━━━━━━━━━━━━━━━━━━━━━╇━━━━━━━━━━━━━━━┩\n",
              "│ embedding_1 (<span style=\"color: #0087ff; text-decoration-color: #0087ff\">Embedding</span>)         │ ?                      │   <span style=\"color: #00af00; text-decoration-color: #00af00\">0</span> (unbuilt) │\n",
              "├─────────────────────────────────┼────────────────────────┼───────────────┤\n",
              "│ gru (<span style=\"color: #0087ff; text-decoration-color: #0087ff\">GRU</span>)                       │ ?                      │   <span style=\"color: #00af00; text-decoration-color: #00af00\">0</span> (unbuilt) │\n",
              "├─────────────────────────────────┼────────────────────────┼───────────────┤\n",
              "│ dense_1 (<span style=\"color: #0087ff; text-decoration-color: #0087ff\">Dense</span>)                 │ ?                      │   <span style=\"color: #00af00; text-decoration-color: #00af00\">0</span> (unbuilt) │\n",
              "└─────────────────────────────────┴────────────────────────┴───────────────┘\n",
              "</pre>\n"
            ]
          },
          "metadata": {}
        },
        {
          "output_type": "display_data",
          "data": {
            "text/plain": [
              "\u001b[1m Total params: \u001b[0m\u001b[38;5;34m0\u001b[0m (0.00 B)\n"
            ],
            "text/html": [
              "<pre style=\"white-space:pre;overflow-x:auto;line-height:normal;font-family:Menlo,'DejaVu Sans Mono',consolas,'Courier New',monospace\"><span style=\"font-weight: bold\"> Total params: </span><span style=\"color: #00af00; text-decoration-color: #00af00\">0</span> (0.00 B)\n",
              "</pre>\n"
            ]
          },
          "metadata": {}
        },
        {
          "output_type": "display_data",
          "data": {
            "text/plain": [
              "\u001b[1m Trainable params: \u001b[0m\u001b[38;5;34m0\u001b[0m (0.00 B)\n"
            ],
            "text/html": [
              "<pre style=\"white-space:pre;overflow-x:auto;line-height:normal;font-family:Menlo,'DejaVu Sans Mono',consolas,'Courier New',monospace\"><span style=\"font-weight: bold\"> Trainable params: </span><span style=\"color: #00af00; text-decoration-color: #00af00\">0</span> (0.00 B)\n",
              "</pre>\n"
            ]
          },
          "metadata": {}
        },
        {
          "output_type": "display_data",
          "data": {
            "text/plain": [
              "\u001b[1m Non-trainable params: \u001b[0m\u001b[38;5;34m0\u001b[0m (0.00 B)\n"
            ],
            "text/html": [
              "<pre style=\"white-space:pre;overflow-x:auto;line-height:normal;font-family:Menlo,'DejaVu Sans Mono',consolas,'Courier New',monospace\"><span style=\"font-weight: bold\"> Non-trainable params: </span><span style=\"color: #00af00; text-decoration-color: #00af00\">0</span> (0.00 B)\n",
              "</pre>\n"
            ]
          },
          "metadata": {}
        }
      ]
    },
    {
      "cell_type": "code",
      "source": [
        "# Train the LSTM model\n",
        "history_lstm = model_lstm.fit(X, y, epochs=50, batch_size=4, verbose=1)\n",
        "\n",
        "# Train the GRU model\n",
        "history_gru = model_gru.fit(X, y, epochs=50, batch_size=4, verbose=1)\n"
      ],
      "metadata": {
        "colab": {
          "base_uri": "https://localhost:8080/"
        },
        "id": "tYg-_KSheoHy",
        "outputId": "65341db3-8e71-4935-95e9-e13fb78d3b9f"
      },
      "execution_count": 47,
      "outputs": [
        {
          "output_type": "stream",
          "name": "stdout",
          "text": [
            "Epoch 1/50\n",
            "\u001b[1m4/4\u001b[0m \u001b[32m━━━━━━━━━━━━━━━━━━━━\u001b[0m\u001b[37m\u001b[0m \u001b[1m3s\u001b[0m 13ms/step - accuracy: 0.0250 - loss: 2.3942  \n",
            "Epoch 2/50\n",
            "\u001b[1m4/4\u001b[0m \u001b[32m━━━━━━━━━━━━━━━━━━━━\u001b[0m\u001b[37m\u001b[0m \u001b[1m0s\u001b[0m 11ms/step - accuracy: 0.2333 - loss: 2.3703 \n",
            "Epoch 3/50\n",
            "\u001b[1m4/4\u001b[0m \u001b[32m━━━━━━━━━━━━━━━━━━━━\u001b[0m\u001b[37m\u001b[0m \u001b[1m0s\u001b[0m 11ms/step - accuracy: 0.3583 - loss: 2.3305 \n",
            "Epoch 4/50\n",
            "\u001b[1m4/4\u001b[0m \u001b[32m━━━━━━━━━━━━━━━━━━━━\u001b[0m\u001b[37m\u001b[0m \u001b[1m0s\u001b[0m 11ms/step - accuracy: 0.2417 - loss: 2.3131    \n",
            "Epoch 5/50\n",
            "\u001b[1m4/4\u001b[0m \u001b[32m━━━━━━━━━━━━━━━━━━━━\u001b[0m\u001b[37m\u001b[0m \u001b[1m0s\u001b[0m 11ms/step - accuracy: 0.2917 - loss: 2.2269\n",
            "Epoch 6/50\n",
            "\u001b[1m4/4\u001b[0m \u001b[32m━━━━━━━━━━━━━━━━━━━━\u001b[0m\u001b[37m\u001b[0m \u001b[1m0s\u001b[0m 11ms/step - accuracy: 0.2667 - loss: 2.1995\n",
            "Epoch 7/50\n",
            "\u001b[1m4/4\u001b[0m \u001b[32m━━━━━━━━━━━━━━━━━━━━\u001b[0m\u001b[37m\u001b[0m \u001b[1m0s\u001b[0m 11ms/step - accuracy: 0.2500 - loss: 2.0821\n",
            "Epoch 8/50\n",
            "\u001b[1m4/4\u001b[0m \u001b[32m━━━━━━━━━━━━━━━━━━━━\u001b[0m\u001b[37m\u001b[0m \u001b[1m0s\u001b[0m 11ms/step - accuracy: 0.3833 - loss: 1.8614\n",
            "Epoch 9/50\n",
            "\u001b[1m4/4\u001b[0m \u001b[32m━━━━━━━━━━━━━━━━━━━━\u001b[0m\u001b[37m\u001b[0m \u001b[1m0s\u001b[0m 11ms/step - accuracy: 0.2667 - loss: 1.9970\n",
            "Epoch 10/50\n",
            "\u001b[1m4/4\u001b[0m \u001b[32m━━━━━━━━━━━━━━━━━━━━\u001b[0m\u001b[37m\u001b[0m \u001b[1m0s\u001b[0m 11ms/step - accuracy: 0.3667 - loss: 1.7391 \n",
            "Epoch 11/50\n",
            "\u001b[1m4/4\u001b[0m \u001b[32m━━━━━━━━━━━━━━━━━━━━\u001b[0m\u001b[37m\u001b[0m \u001b[1m0s\u001b[0m 11ms/step - accuracy: 0.3167 - loss: 1.7729\n",
            "Epoch 12/50\n",
            "\u001b[1m4/4\u001b[0m \u001b[32m━━━━━━━━━━━━━━━━━━━━\u001b[0m\u001b[37m\u001b[0m \u001b[1m0s\u001b[0m 12ms/step - accuracy: 0.2750 - loss: 1.9444 \n",
            "Epoch 13/50\n",
            "\u001b[1m4/4\u001b[0m \u001b[32m━━━━━━━━━━━━━━━━━━━━\u001b[0m\u001b[37m\u001b[0m \u001b[1m0s\u001b[0m 11ms/step - accuracy: 0.4333 - loss: 1.7797\n",
            "Epoch 14/50\n",
            "\u001b[1m4/4\u001b[0m \u001b[32m━━━━━━━━━━━━━━━━━━━━\u001b[0m\u001b[37m\u001b[0m \u001b[1m0s\u001b[0m 12ms/step - accuracy: 0.5250 - loss: 1.7233\n",
            "Epoch 15/50\n",
            "\u001b[1m4/4\u001b[0m \u001b[32m━━━━━━━━━━━━━━━━━━━━\u001b[0m\u001b[37m\u001b[0m \u001b[1m0s\u001b[0m 12ms/step - accuracy: 0.5250 - loss: 1.7744\n",
            "Epoch 16/50\n",
            "\u001b[1m4/4\u001b[0m \u001b[32m━━━━━━━━━━━━━━━━━━━━\u001b[0m\u001b[37m\u001b[0m \u001b[1m0s\u001b[0m 12ms/step - accuracy: 0.4250 - loss: 1.6315\n",
            "Epoch 17/50\n",
            "\u001b[1m4/4\u001b[0m \u001b[32m━━━━━━━━━━━━━━━━━━━━\u001b[0m\u001b[37m\u001b[0m \u001b[1m0s\u001b[0m 11ms/step - accuracy: 0.7083 - loss: 1.3020\n",
            "Epoch 18/50\n",
            "\u001b[1m4/4\u001b[0m \u001b[32m━━━━━━━━━━━━━━━━━━━━\u001b[0m\u001b[37m\u001b[0m \u001b[1m0s\u001b[0m 11ms/step - accuracy: 0.4750 - loss: 1.5797\n",
            "Epoch 19/50\n",
            "\u001b[1m4/4\u001b[0m \u001b[32m━━━━━━━━━━━━━━━━━━━━\u001b[0m\u001b[37m\u001b[0m \u001b[1m0s\u001b[0m 11ms/step - accuracy: 0.5417 - loss: 1.5707\n",
            "Epoch 20/50\n",
            "\u001b[1m4/4\u001b[0m \u001b[32m━━━━━━━━━━━━━━━━━━━━\u001b[0m\u001b[37m\u001b[0m \u001b[1m0s\u001b[0m 11ms/step - accuracy: 0.7250 - loss: 1.0963\n",
            "Epoch 21/50\n",
            "\u001b[1m4/4\u001b[0m \u001b[32m━━━━━━━━━━━━━━━━━━━━\u001b[0m\u001b[37m\u001b[0m \u001b[1m0s\u001b[0m 11ms/step - accuracy: 0.5167 - loss: 1.3196\n",
            "Epoch 22/50\n",
            "\u001b[1m4/4\u001b[0m \u001b[32m━━━━━━━━━━━━━━━━━━━━\u001b[0m\u001b[37m\u001b[0m \u001b[1m0s\u001b[0m 11ms/step - accuracy: 0.5417 - loss: 1.1186\n",
            "Epoch 23/50\n",
            "\u001b[1m4/4\u001b[0m \u001b[32m━━━━━━━━━━━━━━━━━━━━\u001b[0m\u001b[37m\u001b[0m \u001b[1m0s\u001b[0m 11ms/step - accuracy: 0.5667 - loss: 0.9595\n",
            "Epoch 24/50\n",
            "\u001b[1m4/4\u001b[0m \u001b[32m━━━━━━━━━━━━━━━━━━━━\u001b[0m\u001b[37m\u001b[0m \u001b[1m0s\u001b[0m 13ms/step - accuracy: 0.6583 - loss: 1.1727\n",
            "Epoch 25/50\n",
            "\u001b[1m4/4\u001b[0m \u001b[32m━━━━━━━━━━━━━━━━━━━━\u001b[0m\u001b[37m\u001b[0m \u001b[1m0s\u001b[0m 11ms/step - accuracy: 0.8417 - loss: 0.7572\n",
            "Epoch 26/50\n",
            "\u001b[1m4/4\u001b[0m \u001b[32m━━━━━━━━━━━━━━━━━━━━\u001b[0m\u001b[37m\u001b[0m \u001b[1m0s\u001b[0m 11ms/step - accuracy: 0.6917 - loss: 0.7911\n",
            "Epoch 27/50\n",
            "\u001b[1m4/4\u001b[0m \u001b[32m━━━━━━━━━━━━━━━━━━━━\u001b[0m\u001b[37m\u001b[0m \u001b[1m0s\u001b[0m 11ms/step - accuracy: 0.5583 - loss: 0.9278\n",
            "Epoch 28/50\n",
            "\u001b[1m4/4\u001b[0m \u001b[32m━━━━━━━━━━━━━━━━━━━━\u001b[0m\u001b[37m\u001b[0m \u001b[1m0s\u001b[0m 13ms/step - accuracy: 0.7667 - loss: 0.7722 \n",
            "Epoch 29/50\n",
            "\u001b[1m4/4\u001b[0m \u001b[32m━━━━━━━━━━━━━━━━━━━━\u001b[0m\u001b[37m\u001b[0m \u001b[1m0s\u001b[0m 12ms/step - accuracy: 0.7917 - loss: 0.7670\n",
            "Epoch 30/50\n",
            "\u001b[1m4/4\u001b[0m \u001b[32m━━━━━━━━━━━━━━━━━━━━\u001b[0m\u001b[37m\u001b[0m \u001b[1m0s\u001b[0m 11ms/step - accuracy: 0.6583 - loss: 0.7528\n",
            "Epoch 31/50\n",
            "\u001b[1m4/4\u001b[0m \u001b[32m━━━━━━━━━━━━━━━━━━━━\u001b[0m\u001b[37m\u001b[0m \u001b[1m0s\u001b[0m 11ms/step - accuracy: 0.6250 - loss: 0.8034 \n",
            "Epoch 32/50\n",
            "\u001b[1m4/4\u001b[0m \u001b[32m━━━━━━━━━━━━━━━━━━━━\u001b[0m\u001b[37m\u001b[0m \u001b[1m0s\u001b[0m 11ms/step - accuracy: 0.5833 - loss: 0.7769\n",
            "Epoch 33/50\n",
            "\u001b[1m4/4\u001b[0m \u001b[32m━━━━━━━━━━━━━━━━━━━━\u001b[0m\u001b[37m\u001b[0m \u001b[1m0s\u001b[0m 11ms/step - accuracy: 0.8250 - loss: 0.5305\n",
            "Epoch 34/50\n",
            "\u001b[1m4/4\u001b[0m \u001b[32m━━━━━━━━━━━━━━━━━━━━\u001b[0m\u001b[37m\u001b[0m \u001b[1m0s\u001b[0m 12ms/step - accuracy: 0.8667 - loss: 0.4348 \n",
            "Epoch 35/50\n",
            "\u001b[1m4/4\u001b[0m \u001b[32m━━━━━━━━━━━━━━━━━━━━\u001b[0m\u001b[37m\u001b[0m \u001b[1m0s\u001b[0m 11ms/step - accuracy: 0.6500 - loss: 0.5784\n",
            "Epoch 36/50\n",
            "\u001b[1m4/4\u001b[0m \u001b[32m━━━━━━━━━━━━━━━━━━━━\u001b[0m\u001b[37m\u001b[0m \u001b[1m0s\u001b[0m 11ms/step - accuracy: 0.8667 - loss: 0.4065\n",
            "Epoch 37/50\n",
            "\u001b[1m4/4\u001b[0m \u001b[32m━━━━━━━━━━━━━━━━━━━━\u001b[0m\u001b[37m\u001b[0m \u001b[1m0s\u001b[0m 11ms/step - accuracy: 0.7083 - loss: 0.5419\n",
            "Epoch 38/50\n",
            "\u001b[1m4/4\u001b[0m \u001b[32m━━━━━━━━━━━━━━━━━━━━\u001b[0m\u001b[37m\u001b[0m \u001b[1m0s\u001b[0m 12ms/step - accuracy: 0.9333 - loss: 0.4565\n",
            "Epoch 39/50\n",
            "\u001b[1m4/4\u001b[0m \u001b[32m━━━━━━━━━━━━━━━━━━━━\u001b[0m\u001b[37m\u001b[0m \u001b[1m0s\u001b[0m 14ms/step - accuracy: 0.7750 - loss: 0.5370\n",
            "Epoch 40/50\n",
            "\u001b[1m4/4\u001b[0m \u001b[32m━━━━━━━━━━━━━━━━━━━━\u001b[0m\u001b[37m\u001b[0m \u001b[1m0s\u001b[0m 11ms/step - accuracy: 0.8417 - loss: 0.4480\n",
            "Epoch 41/50\n",
            "\u001b[1m4/4\u001b[0m \u001b[32m━━━━━━━━━━━━━━━━━━━━\u001b[0m\u001b[37m\u001b[0m \u001b[1m0s\u001b[0m 12ms/step - accuracy: 0.9500 - loss: 0.4357\n",
            "Epoch 42/50\n",
            "\u001b[1m4/4\u001b[0m \u001b[32m━━━━━━━━━━━━━━━━━━━━\u001b[0m\u001b[37m\u001b[0m \u001b[1m0s\u001b[0m 12ms/step - accuracy: 0.9083 - loss: 0.3533\n",
            "Epoch 43/50\n",
            "\u001b[1m4/4\u001b[0m \u001b[32m━━━━━━━━━━━━━━━━━━━━\u001b[0m\u001b[37m\u001b[0m \u001b[1m0s\u001b[0m 11ms/step - accuracy: 0.7500 - loss: 0.4594 \n",
            "Epoch 44/50\n",
            "\u001b[1m4/4\u001b[0m \u001b[32m━━━━━━━━━━━━━━━━━━━━\u001b[0m\u001b[37m\u001b[0m \u001b[1m0s\u001b[0m 12ms/step - accuracy: 0.9333 - loss: 0.3310\n",
            "Epoch 45/50\n",
            "\u001b[1m4/4\u001b[0m \u001b[32m━━━━━━━━━━━━━━━━━━━━\u001b[0m\u001b[37m\u001b[0m \u001b[1m0s\u001b[0m 11ms/step - accuracy: 0.8167 - loss: 0.3028 \n",
            "Epoch 46/50\n",
            "\u001b[1m4/4\u001b[0m \u001b[32m━━━━━━━━━━━━━━━━━━━━\u001b[0m\u001b[37m\u001b[0m \u001b[1m0s\u001b[0m 11ms/step - accuracy: 0.8167 - loss: 0.4189\n",
            "Epoch 47/50\n",
            "\u001b[1m4/4\u001b[0m \u001b[32m━━━━━━━━━━━━━━━━━━━━\u001b[0m\u001b[37m\u001b[0m \u001b[1m0s\u001b[0m 12ms/step - accuracy: 0.8667 - loss: 0.4328\n",
            "Epoch 48/50\n",
            "\u001b[1m4/4\u001b[0m \u001b[32m━━━━━━━━━━━━━━━━━━━━\u001b[0m\u001b[37m\u001b[0m \u001b[1m0s\u001b[0m 12ms/step - accuracy: 0.7000 - loss: 0.4104 \n",
            "Epoch 49/50\n",
            "\u001b[1m4/4\u001b[0m \u001b[32m━━━━━━━━━━━━━━━━━━━━\u001b[0m\u001b[37m\u001b[0m \u001b[1m0s\u001b[0m 12ms/step - accuracy: 0.7500 - loss: 0.3791\n",
            "Epoch 50/50\n",
            "\u001b[1m4/4\u001b[0m \u001b[32m━━━━━━━━━━━━━━━━━━━━\u001b[0m\u001b[37m\u001b[0m \u001b[1m0s\u001b[0m 13ms/step - accuracy: 0.9500 - loss: 0.2745 \n",
            "Epoch 1/50\n",
            "\u001b[1m4/4\u001b[0m \u001b[32m━━━━━━━━━━━━━━━━━━━━\u001b[0m\u001b[37m\u001b[0m \u001b[1m3s\u001b[0m 11ms/step - accuracy: 0.2500 - loss: 2.3928\n",
            "Epoch 2/50\n",
            "\u001b[1m4/4\u001b[0m \u001b[32m━━━━━━━━━━━━━━━━━━━━\u001b[0m\u001b[37m\u001b[0m \u001b[1m0s\u001b[0m 11ms/step - accuracy: 0.3667 - loss: 2.3418\n",
            "Epoch 3/50\n",
            "\u001b[1m4/4\u001b[0m \u001b[32m━━━━━━━━━━━━━━━━━━━━\u001b[0m\u001b[37m\u001b[0m \u001b[1m0s\u001b[0m 11ms/step - accuracy: 0.3250 - loss: 2.3135\n",
            "Epoch 4/50\n",
            "\u001b[1m4/4\u001b[0m \u001b[32m━━━━━━━━━━━━━━━━━━━━\u001b[0m\u001b[37m\u001b[0m \u001b[1m0s\u001b[0m 11ms/step - accuracy: 0.1833 - loss: 2.2823    \n",
            "Epoch 5/50\n",
            "\u001b[1m4/4\u001b[0m \u001b[32m━━━━━━━━━━━━━━━━━━━━\u001b[0m\u001b[37m\u001b[0m \u001b[1m0s\u001b[0m 11ms/step - accuracy: 0.3167 - loss: 2.2000\n",
            "Epoch 6/50\n",
            "\u001b[1m4/4\u001b[0m \u001b[32m━━━━━━━━━━━━━━━━━━━━\u001b[0m\u001b[37m\u001b[0m \u001b[1m0s\u001b[0m 11ms/step - accuracy: 0.3667 - loss: 2.0698\n",
            "Epoch 7/50\n",
            "\u001b[1m4/4\u001b[0m \u001b[32m━━━━━━━━━━━━━━━━━━━━\u001b[0m\u001b[37m\u001b[0m \u001b[1m0s\u001b[0m 11ms/step - accuracy: 0.3167 - loss: 1.9915\n",
            "Epoch 8/50\n",
            "\u001b[1m4/4\u001b[0m \u001b[32m━━━━━━━━━━━━━━━━━━━━\u001b[0m\u001b[37m\u001b[0m \u001b[1m0s\u001b[0m 13ms/step - accuracy: 0.4083 - loss: 1.7757 \n",
            "Epoch 9/50\n",
            "\u001b[1m4/4\u001b[0m \u001b[32m━━━━━━━━━━━━━━━━━━━━\u001b[0m\u001b[37m\u001b[0m \u001b[1m0s\u001b[0m 11ms/step - accuracy: 0.2750 - loss: 1.8115\n",
            "Epoch 10/50\n",
            "\u001b[1m4/4\u001b[0m \u001b[32m━━━━━━━━━━━━━━━━━━━━\u001b[0m\u001b[37m\u001b[0m \u001b[1m0s\u001b[0m 12ms/step - accuracy: 0.3167 - loss: 1.7955\n",
            "Epoch 11/50\n",
            "\u001b[1m4/4\u001b[0m \u001b[32m━━━━━━━━━━━━━━━━━━━━\u001b[0m\u001b[37m\u001b[0m \u001b[1m0s\u001b[0m 11ms/step - accuracy: 0.3000 - loss: 1.8351\n",
            "Epoch 12/50\n",
            "\u001b[1m4/4\u001b[0m \u001b[32m━━━━━━━━━━━━━━━━━━━━\u001b[0m\u001b[37m\u001b[0m \u001b[1m0s\u001b[0m 11ms/step - accuracy: 0.4250 - loss: 1.6702\n",
            "Epoch 13/50\n",
            "\u001b[1m4/4\u001b[0m \u001b[32m━━━━━━━━━━━━━━━━━━━━\u001b[0m\u001b[37m\u001b[0m \u001b[1m0s\u001b[0m 12ms/step - accuracy: 0.5417 - loss: 1.6282\n",
            "Epoch 14/50\n",
            "\u001b[1m4/4\u001b[0m \u001b[32m━━━━━━━━━━━━━━━━━━━━\u001b[0m\u001b[37m\u001b[0m \u001b[1m0s\u001b[0m 11ms/step - accuracy: 0.5250 - loss: 1.4918\n",
            "Epoch 15/50\n",
            "\u001b[1m4/4\u001b[0m \u001b[32m━━━━━━━━━━━━━━━━━━━━\u001b[0m\u001b[37m\u001b[0m \u001b[1m0s\u001b[0m 11ms/step - accuracy: 0.6333 - loss: 1.3385\n",
            "Epoch 16/50\n",
            "\u001b[1m4/4\u001b[0m \u001b[32m━━━━━━━━━━━━━━━━━━━━\u001b[0m\u001b[37m\u001b[0m \u001b[1m0s\u001b[0m 11ms/step - accuracy: 0.7250 - loss: 1.0857\n",
            "Epoch 17/50\n",
            "\u001b[1m4/4\u001b[0m \u001b[32m━━━━━━━━━━━━━━━━━━━━\u001b[0m\u001b[37m\u001b[0m \u001b[1m0s\u001b[0m 11ms/step - accuracy: 0.7250 - loss: 0.9851\n",
            "Epoch 18/50\n",
            "\u001b[1m4/4\u001b[0m \u001b[32m━━━━━━━━━━━━━━━━━━━━\u001b[0m\u001b[37m\u001b[0m \u001b[1m0s\u001b[0m 11ms/step - accuracy: 0.6667 - loss: 1.0383\n",
            "Epoch 19/50\n",
            "\u001b[1m4/4\u001b[0m \u001b[32m━━━━━━━━━━━━━━━━━━━━\u001b[0m\u001b[37m\u001b[0m \u001b[1m0s\u001b[0m 11ms/step - accuracy: 0.5583 - loss: 1.0382\n",
            "Epoch 20/50\n",
            "\u001b[1m4/4\u001b[0m \u001b[32m━━━━━━━━━━━━━━━━━━━━\u001b[0m\u001b[37m\u001b[0m \u001b[1m0s\u001b[0m 13ms/step - accuracy: 0.7500 - loss: 0.7833 \n",
            "Epoch 21/50\n",
            "\u001b[1m4/4\u001b[0m \u001b[32m━━━━━━━━━━━━━━━━━━━━\u001b[0m\u001b[37m\u001b[0m \u001b[1m0s\u001b[0m 16ms/step - accuracy: 0.6750 - loss: 0.7819\n",
            "Epoch 22/50\n",
            "\u001b[1m4/4\u001b[0m \u001b[32m━━━━━━━━━━━━━━━━━━━━\u001b[0m\u001b[37m\u001b[0m \u001b[1m0s\u001b[0m 12ms/step - accuracy: 0.8667 - loss: 0.4922\n",
            "Epoch 23/50\n",
            "\u001b[1m4/4\u001b[0m \u001b[32m━━━━━━━━━━━━━━━━━━━━\u001b[0m\u001b[37m\u001b[0m \u001b[1m0s\u001b[0m 15ms/step - accuracy: 0.8000 - loss: 0.5341 \n",
            "Epoch 24/50\n",
            "\u001b[1m4/4\u001b[0m \u001b[32m━━━━━━━━━━━━━━━━━━━━\u001b[0m\u001b[37m\u001b[0m \u001b[1m0s\u001b[0m 17ms/step - accuracy: 0.8917 - loss: 0.4560\n",
            "Epoch 25/50\n",
            "\u001b[1m4/4\u001b[0m \u001b[32m━━━━━━━━━━━━━━━━━━━━\u001b[0m\u001b[37m\u001b[0m \u001b[1m0s\u001b[0m 17ms/step - accuracy: 0.8417 - loss: 0.4302\n",
            "Epoch 26/50\n",
            "\u001b[1m4/4\u001b[0m \u001b[32m━━━━━━━━━━━━━━━━━━━━\u001b[0m\u001b[37m\u001b[0m \u001b[1m0s\u001b[0m 18ms/step - accuracy: 0.7500 - loss: 0.4995\n",
            "Epoch 27/50\n",
            "\u001b[1m4/4\u001b[0m \u001b[32m━━━━━━━━━━━━━━━━━━━━\u001b[0m\u001b[37m\u001b[0m \u001b[1m0s\u001b[0m 17ms/step - accuracy: 0.7917 - loss: 0.4498\n",
            "Epoch 28/50\n",
            "\u001b[1m4/4\u001b[0m \u001b[32m━━━━━━━━━━━━━━━━━━━━\u001b[0m\u001b[37m\u001b[0m \u001b[1m0s\u001b[0m 16ms/step - accuracy: 0.8250 - loss: 0.3847\n",
            "Epoch 29/50\n",
            "\u001b[1m4/4\u001b[0m \u001b[32m━━━━━━━━━━━━━━━━━━━━\u001b[0m\u001b[37m\u001b[0m \u001b[1m0s\u001b[0m 25ms/step - accuracy: 0.8667 - loss: 0.2784\n",
            "Epoch 30/50\n",
            "\u001b[1m4/4\u001b[0m \u001b[32m━━━━━━━━━━━━━━━━━━━━\u001b[0m\u001b[37m\u001b[0m \u001b[1m0s\u001b[0m 17ms/step - accuracy: 0.9333 - loss: 0.3563\n",
            "Epoch 31/50\n",
            "\u001b[1m4/4\u001b[0m \u001b[32m━━━━━━━━━━━━━━━━━━━━\u001b[0m\u001b[37m\u001b[0m \u001b[1m0s\u001b[0m 16ms/step - accuracy: 0.8583 - loss: 0.2981\n",
            "Epoch 32/50\n",
            "\u001b[1m4/4\u001b[0m \u001b[32m━━━━━━━━━━━━━━━━━━━━\u001b[0m\u001b[37m\u001b[0m \u001b[1m0s\u001b[0m 16ms/step - accuracy: 0.8917 - loss: 0.3392\n",
            "Epoch 33/50\n",
            "\u001b[1m4/4\u001b[0m \u001b[32m━━━━━━━━━━━━━━━━━━━━\u001b[0m\u001b[37m\u001b[0m \u001b[1m0s\u001b[0m 17ms/step - accuracy: 0.8333 - loss: 0.2653\n",
            "Epoch 34/50\n",
            "\u001b[1m4/4\u001b[0m \u001b[32m━━━━━━━━━━━━━━━━━━━━\u001b[0m\u001b[37m\u001b[0m \u001b[1m0s\u001b[0m 16ms/step - accuracy: 0.8417 - loss: 0.2771\n",
            "Epoch 35/50\n",
            "\u001b[1m4/4\u001b[0m \u001b[32m━━━━━━━━━━━━━━━━━━━━\u001b[0m\u001b[37m\u001b[0m \u001b[1m0s\u001b[0m 19ms/step - accuracy: 0.8000 - loss: 0.2337\n",
            "Epoch 36/50\n",
            "\u001b[1m4/4\u001b[0m \u001b[32m━━━━━━━━━━━━━━━━━━━━\u001b[0m\u001b[37m\u001b[0m \u001b[1m0s\u001b[0m 18ms/step - accuracy: 0.7250 - loss: 0.3422\n",
            "Epoch 37/50\n",
            "\u001b[1m4/4\u001b[0m \u001b[32m━━━━━━━━━━━━━━━━━━━━\u001b[0m\u001b[37m\u001b[0m \u001b[1m0s\u001b[0m 15ms/step - accuracy: 0.9333 - loss: 0.2891\n",
            "Epoch 38/50\n",
            "\u001b[1m4/4\u001b[0m \u001b[32m━━━━━━━━━━━━━━━━━━━━\u001b[0m\u001b[37m\u001b[0m \u001b[1m0s\u001b[0m 18ms/step - accuracy: 0.9500 - loss: 0.2466\n",
            "Epoch 39/50\n",
            "\u001b[1m4/4\u001b[0m \u001b[32m━━━━━━━━━━━━━━━━━━━━\u001b[0m\u001b[37m\u001b[0m \u001b[1m0s\u001b[0m 19ms/step - accuracy: 0.8583 - loss: 0.2829\n",
            "Epoch 40/50\n",
            "\u001b[1m4/4\u001b[0m \u001b[32m━━━━━━━━━━━━━━━━━━━━\u001b[0m\u001b[37m\u001b[0m \u001b[1m0s\u001b[0m 16ms/step - accuracy: 0.8167 - loss: 0.3193\n",
            "Epoch 41/50\n",
            "\u001b[1m4/4\u001b[0m \u001b[32m━━━━━━━━━━━━━━━━━━━━\u001b[0m\u001b[37m\u001b[0m \u001b[1m0s\u001b[0m 21ms/step - accuracy: 0.8167 - loss: 0.3086\n",
            "Epoch 42/50\n",
            "\u001b[1m4/4\u001b[0m \u001b[32m━━━━━━━━━━━━━━━━━━━━\u001b[0m\u001b[37m\u001b[0m \u001b[1m0s\u001b[0m 19ms/step - accuracy: 0.9083 - loss: 0.2045\n",
            "Epoch 43/50\n",
            "\u001b[1m4/4\u001b[0m \u001b[32m━━━━━━━━━━━━━━━━━━━━\u001b[0m\u001b[37m\u001b[0m \u001b[1m0s\u001b[0m 11ms/step - accuracy: 0.9333 - loss: 0.1604\n",
            "Epoch 44/50\n",
            "\u001b[1m4/4\u001b[0m \u001b[32m━━━━━━━━━━━━━━━━━━━━\u001b[0m\u001b[37m\u001b[0m \u001b[1m0s\u001b[0m 11ms/step - accuracy: 0.8167 - loss: 0.2507\n",
            "Epoch 45/50\n",
            "\u001b[1m4/4\u001b[0m \u001b[32m━━━━━━━━━━━━━━━━━━━━\u001b[0m\u001b[37m\u001b[0m \u001b[1m0s\u001b[0m 11ms/step - accuracy: 0.7917 - loss: 0.2674 \n",
            "Epoch 46/50\n",
            "\u001b[1m4/4\u001b[0m \u001b[32m━━━━━━━━━━━━━━━━━━━━\u001b[0m\u001b[37m\u001b[0m \u001b[1m0s\u001b[0m 12ms/step - accuracy: 0.8000 - loss: 0.1991\n",
            "Epoch 47/50\n",
            "\u001b[1m4/4\u001b[0m \u001b[32m━━━━━━━━━━━━━━━━━━━━\u001b[0m\u001b[37m\u001b[0m \u001b[1m0s\u001b[0m 14ms/step - accuracy: 0.9333 - loss: 0.2047 \n",
            "Epoch 48/50\n",
            "\u001b[1m4/4\u001b[0m \u001b[32m━━━━━━━━━━━━━━━━━━━━\u001b[0m\u001b[37m\u001b[0m \u001b[1m0s\u001b[0m 12ms/step - accuracy: 0.8167 - loss: 0.2049\n",
            "Epoch 49/50\n",
            "\u001b[1m4/4\u001b[0m \u001b[32m━━━━━━━━━━━━━━━━━━━━\u001b[0m\u001b[37m\u001b[0m \u001b[1m0s\u001b[0m 15ms/step - accuracy: 0.9333 - loss: 0.1305\n",
            "Epoch 50/50\n",
            "\u001b[1m4/4\u001b[0m \u001b[32m━━━━━━━━━━━━━━━━━━━━\u001b[0m\u001b[37m\u001b[0m \u001b[1m0s\u001b[0m 11ms/step - accuracy: 0.8167 - loss: 0.2789\n"
          ]
        }
      ]
    },
    {
      "cell_type": "code",
      "source": [
        "import time\n",
        "\n",
        "# Measure training time for LSTM\n",
        "start_time = time.time()\n",
        "history_lstm = model_lstm.fit(X, y, epochs=10, batch_size=4, verbose=0)\n",
        "lstm_training_time = time.time() - start_time\n",
        "\n",
        "# Measure training time for GRU\n",
        "start_time = time.time()\n",
        "history_gru = model_gru.fit(X, y, epochs=10, batch_size=4, verbose=0)\n",
        "gru_training_time = time.time() - start_time\n",
        "\n",
        "print(f\"LSTM Training Time: {lstm_training_time:.2f} seconds\")\n",
        "print(f\"GRU Training Time: {gru_training_time:.2f} seconds\")\n"
      ],
      "metadata": {
        "colab": {
          "base_uri": "https://localhost:8080/"
        },
        "id": "fo3ohonwetAv",
        "outputId": "6dd1d340-eb2b-42c7-b0aa-9bed17560cce"
      },
      "execution_count": null,
      "outputs": [
        {
          "output_type": "stream",
          "name": "stdout",
          "text": [
            "LSTM Training Time: 1.19 seconds\n",
            "GRU Training Time: 0.60 seconds\n"
          ]
        }
      ]
    },
    {
      "cell_type": "code",
      "source": [
        "import matplotlib.pyplot as plt\n",
        "\n",
        "# Plot training accuracy comparison\n",
        "plt.figure(figsize=(10, 6))\n",
        "\n",
        "# LSTM Training Accuracy\n",
        "plt.subplot(1, 2, 1)\n",
        "plt.plot(history_lstm.history['accuracy'], label='LSTM Train Accuracy')\n",
        "plt.title('LSTM Training Accuracy')\n",
        "plt.xlabel('Epochs')\n",
        "plt.ylabel('Accuracy')\n",
        "plt.legend()\n",
        "\n",
        "# GRU Training Accuracy\n",
        "plt.subplot(1, 2, 2)\n",
        "plt.plot(history_gru.history['accuracy'], label='GRU Train Accuracy')\n",
        "plt.title('GRU Training Accuracy')\n",
        "plt.xlabel('Epochs')\n",
        "plt.ylabel('Accuracy')\n",
        "plt.legend()\n",
        "\n",
        "plt.tight_layout()\n",
        "plt.show()\n",
        "\n"
      ],
      "metadata": {
        "colab": {
          "base_uri": "https://localhost:8080/",
          "height": 607
        },
        "id": "vWoc21Hpextp",
        "outputId": "bbe69f7b-6a67-40af-9c86-60b109075af7"
      },
      "execution_count": null,
      "outputs": [
        {
          "output_type": "display_data",
          "data": {
            "text/plain": [
              "<Figure size 1000x600 with 2 Axes>"
            ],
            "image/png": "[encoded data removed]"
          },
          "metadata": {}
        }
      ]
    },
    {
      "cell_type": "markdown",
      "source": [
        "# **6. Model Training:**\n",
        "Train both LSTM and GRU models on the training data.\n",
        "\n",
        "\n",
        "Specify the number of epochs and batch size.\n",
        "\n",
        "\n",
        "Monitor training progress using loss curves.\n",
        "\n",
        "\n",
        "Implement overfitting prevention techniques like:\n",
        "\n",
        "\n",
        "Dropout\n",
        "\n",
        "\n",
        "EarlyStopping\n"
      ],
      "metadata": {
        "id": "OBERNq6zf2f8"
      }
    },
    {
      "cell_type": "code",
      "source": [
        "from tensorflow.keras.layers import Dropout\n",
        "\n",
        "# Define the LSTM model with Dropout\n",
        "model_lstm = Sequential()\n",
        "\n",
        "# Embedding layer\n",
        "model_lstm.add(Embedding(input_dim=vocab_size, output_dim=50, input_length=X.shape[1]))\n",
        "\n",
        "# LSTM layer with 128 hidden units\n",
        "model_lstm.add(LSTM(128, return_sequences=False))\n",
        "\n",
        "# Dropout to prevent overfitting\n",
        "model_lstm.add(Dropout(0.2))\n",
        "\n",
        "# Dense layer for next word prediction\n",
        "model_lstm.add(Dense(vocab_size, activation='softmax'))\n",
        "\n",
        "# Compile the model\n",
        "model_lstm.compile(loss='categorical_crossentropy', optimizer='adam', metrics=['accuracy'])\n",
        "\n",
        "# Model summary\n",
        "model_lstm.summary()\n"
      ],
      "metadata": {
        "colab": {
          "base_uri": "https://localhost:8080/",
          "height": 272
        },
        "id": "tCb9nkSKf5bj",
        "outputId": "de852ef8-0b35-4119-ca21-454f9e8f0a2f"
      },
      "execution_count": null,
      "outputs": [
        {
          "output_type": "display_data",
          "data": {
            "text/plain": [
              "\u001b[1mModel: \"sequential_4\"\u001b[0m\n"
            ],
            "text/html": [
              "<pre style=\"white-space:pre;overflow-x:auto;line-height:normal;font-family:Menlo,'DejaVu Sans Mono',consolas,'Courier New',monospace\"><span style=\"font-weight: bold\">Model: \"sequential_4\"</span>\n",
              "</pre>\n"
            ]
          },
          "metadata": {}
        },
        {
          "output_type": "display_data",
          "data": {
            "text/plain": [
              "┏━━━━━━━━━━━━━━━━━━━━━━━━━━━━━━━━━┳━━━━━━━━━━━━━━━━━━━━━━━━┳━━━━━━━━━━━━━━━┓\n",
              "┃\u001b[1m \u001b[0m\u001b[1mLayer (type)                   \u001b[0m\u001b[1m \u001b[0m┃\u001b[1m \u001b[0m\u001b[1mOutput Shape          \u001b[0m\u001b[1m \u001b[0m┃\u001b[1m \u001b[0m\u001b[1m      Param #\u001b[0m\u001b[1m \u001b[0m┃\n",
              "┡━━━━━━━━━━━━━━━━━━━━━━━━━━━━━━━━━╇━━━━━━━━━━━━━━━━━━━━━━━━╇━━━━━━━━━━━━━━━┩\n",
              "│ embedding_4 (\u001b[38;5;33mEmbedding\u001b[0m)         │ ?                      │   \u001b[38;5;34m0\u001b[0m (unbuilt) │\n",
              "├─────────────────────────────────┼────────────────────────┼───────────────┤\n",
              "│ lstm_2 (\u001b[38;5;33mLSTM\u001b[0m)                   │ ?                      │   \u001b[38;5;34m0\u001b[0m (unbuilt) │\n",
              "├─────────────────────────────────┼────────────────────────┼───────────────┤\n",
              "│ dropout (\u001b[38;5;33mDropout\u001b[0m)               │ ?                      │             \u001b[38;5;34m0\u001b[0m │\n",
              "├─────────────────────────────────┼────────────────────────┼───────────────┤\n",
              "│ dense_4 (\u001b[38;5;33mDense\u001b[0m)                 │ ?                      │   \u001b[38;5;34m0\u001b[0m (unbuilt) │\n",
              "└─────────────────────────────────┴────────────────────────┴───────────────┘\n"
            ],
            "text/html": [
              "<pre style=\"white-space:pre;overflow-x:auto;line-height:normal;font-family:Menlo,'DejaVu Sans Mono',consolas,'Courier New',monospace\">┏━━━━━━━━━━━━━━━━━━━━━━━━━━━━━━━━━┳━━━━━━━━━━━━━━━━━━━━━━━━┳━━━━━━━━━━━━━━━┓\n",
              "┃<span style=\"font-weight: bold\"> Layer (type)                    </span>┃<span style=\"font-weight: bold\"> Output Shape           </span>┃<span style=\"font-weight: bold\">       Param # </span>┃\n",
              "┡━━━━━━━━━━━━━━━━━━━━━━━━━━━━━━━━━╇━━━━━━━━━━━━━━━━━━━━━━━━╇━━━━━━━━━━━━━━━┩\n",
              "│ embedding_4 (<span style=\"color: #0087ff; text-decoration-color: #0087ff\">Embedding</span>)         │ ?                      │   <span style=\"color: #00af00; text-decoration-color: #00af00\">0</span> (unbuilt) │\n",
              "├─────────────────────────────────┼────────────────────────┼───────────────┤\n",
              "│ lstm_2 (<span style=\"color: #0087ff; text-decoration-color: #0087ff\">LSTM</span>)                   │ ?                      │   <span style=\"color: #00af00; text-decoration-color: #00af00\">0</span> (unbuilt) │\n",
              "├─────────────────────────────────┼────────────────────────┼───────────────┤\n",
              "│ dropout (<span style=\"color: #0087ff; text-decoration-color: #0087ff\">Dropout</span>)               │ ?                      │             <span style=\"color: #00af00; text-decoration-color: #00af00\">0</span> │\n",
              "├─────────────────────────────────┼────────────────────────┼───────────────┤\n",
              "│ dense_4 (<span style=\"color: #0087ff; text-decoration-color: #0087ff\">Dense</span>)                 │ ?                      │   <span style=\"color: #00af00; text-decoration-color: #00af00\">0</span> (unbuilt) │\n",
              "└─────────────────────────────────┴────────────────────────┴───────────────┘\n",
              "</pre>\n"
            ]
          },
          "metadata": {}
        },
        {
          "output_type": "display_data",
          "data": {
            "text/plain": [
              "\u001b[1m Total params: \u001b[0m\u001b[38;5;34m0\u001b[0m (0.00 B)\n"
            ],
            "text/html": [
              "<pre style=\"white-space:pre;overflow-x:auto;line-height:normal;font-family:Menlo,'DejaVu Sans Mono',consolas,'Courier New',monospace\"><span style=\"font-weight: bold\"> Total params: </span><span style=\"color: #00af00; text-decoration-color: #00af00\">0</span> (0.00 B)\n",
              "</pre>\n"
            ]
          },
          "metadata": {}
        },
        {
          "output_type": "display_data",
          "data": {
            "text/plain": [
              "\u001b[1m Trainable params: \u001b[0m\u001b[38;5;34m0\u001b[0m (0.00 B)\n"
            ],
            "text/html": [
              "<pre style=\"white-space:pre;overflow-x:auto;line-height:normal;font-family:Menlo,'DejaVu Sans Mono',consolas,'Courier New',monospace\"><span style=\"font-weight: bold\"> Trainable params: </span><span style=\"color: #00af00; text-decoration-color: #00af00\">0</span> (0.00 B)\n",
              "</pre>\n"
            ]
          },
          "metadata": {}
        },
        {
          "output_type": "display_data",
          "data": {
            "text/plain": [
              "\u001b[1m Non-trainable params: \u001b[0m\u001b[38;5;34m0\u001b[0m (0.00 B)\n"
            ],
            "text/html": [
              "<pre style=\"white-space:pre;overflow-x:auto;line-height:normal;font-family:Menlo,'DejaVu Sans Mono',consolas,'Courier New',monospace\"><span style=\"font-weight: bold\"> Non-trainable params: </span><span style=\"color: #00af00; text-decoration-color: #00af00\">0</span> (0.00 B)\n",
              "</pre>\n"
            ]
          },
          "metadata": {}
        }
      ]
    },
    {
      "cell_type": "code",
      "source": [
        "# Define the GRU model with Dropout\n",
        "model_gru = Sequential()\n",
        "\n",
        "# Embedding layer\n",
        "model_gru.add(Embedding(input_dim=vocab_size, output_dim=50, input_length=X.shape[1]))\n",
        "\n",
        "# GRU layer with 128 hidden units\n",
        "model_gru.add(GRU(128, return_sequences=False))\n",
        "\n",
        "# Dropout to prevent overfitting\n",
        "model_gru.add(Dropout(0.2))\n",
        "\n",
        "# Dense layer for next word prediction\n",
        "model_gru.add(Dense(vocab_size, activation='softmax'))\n",
        "\n",
        "# Compile the model\n",
        "model_gru.compile(loss='categorical_crossentropy', optimizer='adam', metrics=['accuracy'])\n",
        "\n",
        "# Model summary\n",
        "model_gru.summary()\n"
      ],
      "metadata": {
        "colab": {
          "base_uri": "https://localhost:8080/",
          "height": 272
        },
        "id": "heOkqnkOgJXL",
        "outputId": "5c27c914-f0d2-4368-c177-fa157345cea9"
      },
      "execution_count": null,
      "outputs": [
        {
          "output_type": "display_data",
          "data": {
            "text/plain": [
              "\u001b[1mModel: \"sequential_5\"\u001b[0m\n"
            ],
            "text/html": [
              "<pre style=\"white-space:pre;overflow-x:auto;line-height:normal;font-family:Menlo,'DejaVu Sans Mono',consolas,'Courier New',monospace\"><span style=\"font-weight: bold\">Model: \"sequential_5\"</span>\n",
              "</pre>\n"
            ]
          },
          "metadata": {}
        },
        {
          "output_type": "display_data",
          "data": {
            "text/plain": [
              "┏━━━━━━━━━━━━━━━━━━━━━━━━━━━━━━━━━┳━━━━━━━━━━━━━━━━━━━━━━━━┳━━━━━━━━━━━━━━━┓\n",
              "┃\u001b[1m \u001b[0m\u001b[1mLayer (type)                   \u001b[0m\u001b[1m \u001b[0m┃\u001b[1m \u001b[0m\u001b[1mOutput Shape          \u001b[0m\u001b[1m \u001b[0m┃\u001b[1m \u001b[0m\u001b[1m      Param #\u001b[0m\u001b[1m \u001b[0m┃\n",
              "┡━━━━━━━━━━━━━━━━━━━━━━━━━━━━━━━━━╇━━━━━━━━━━━━━━━━━━━━━━━━╇━━━━━━━━━━━━━━━┩\n",
              "│ embedding_5 (\u001b[38;5;33mEmbedding\u001b[0m)         │ ?                      │   \u001b[38;5;34m0\u001b[0m (unbuilt) │\n",
              "├─────────────────────────────────┼────────────────────────┼───────────────┤\n",
              "│ gru_2 (\u001b[38;5;33mGRU\u001b[0m)                     │ ?                      │   \u001b[38;5;34m0\u001b[0m (unbuilt) │\n",
              "├─────────────────────────────────┼────────────────────────┼───────────────┤\n",
              "│ dropout_1 (\u001b[38;5;33mDropout\u001b[0m)             │ ?                      │             \u001b[38;5;34m0\u001b[0m │\n",
              "├─────────────────────────────────┼────────────────────────┼───────────────┤\n",
              "│ dense_5 (\u001b[38;5;33mDense\u001b[0m)                 │ ?                      │   \u001b[38;5;34m0\u001b[0m (unbuilt) │\n",
              "└─────────────────────────────────┴────────────────────────┴───────────────┘\n"
            ],
            "text/html": [
              "<pre style=\"white-space:pre;overflow-x:auto;line-height:normal;font-family:Menlo,'DejaVu Sans Mono',consolas,'Courier New',monospace\">┏━━━━━━━━━━━━━━━━━━━━━━━━━━━━━━━━━┳━━━━━━━━━━━━━━━━━━━━━━━━┳━━━━━━━━━━━━━━━┓\n",
              "┃<span style=\"font-weight: bold\"> Layer (type)                    </span>┃<span style=\"font-weight: bold\"> Output Shape           </span>┃<span style=\"font-weight: bold\">       Param # </span>┃\n",
              "┡━━━━━━━━━━━━━━━━━━━━━━━━━━━━━━━━━╇━━━━━━━━━━━━━━━━━━━━━━━━╇━━━━━━━━━━━━━━━┩\n",
              "│ embedding_5 (<span style=\"color: #0087ff; text-decoration-color: #0087ff\">Embedding</span>)         │ ?                      │   <span style=\"color: #00af00; text-decoration-color: #00af00\">0</span> (unbuilt) │\n",
              "├─────────────────────────────────┼────────────────────────┼───────────────┤\n",
              "│ gru_2 (<span style=\"color: #0087ff; text-decoration-color: #0087ff\">GRU</span>)                     │ ?                      │   <span style=\"color: #00af00; text-decoration-color: #00af00\">0</span> (unbuilt) │\n",
              "├─────────────────────────────────┼────────────────────────┼───────────────┤\n",
              "│ dropout_1 (<span style=\"color: #0087ff; text-decoration-color: #0087ff\">Dropout</span>)             │ ?                      │             <span style=\"color: #00af00; text-decoration-color: #00af00\">0</span> │\n",
              "├─────────────────────────────────┼────────────────────────┼───────────────┤\n",
              "│ dense_5 (<span style=\"color: #0087ff; text-decoration-color: #0087ff\">Dense</span>)                 │ ?                      │   <span style=\"color: #00af00; text-decoration-color: #00af00\">0</span> (unbuilt) │\n",
              "└─────────────────────────────────┴────────────────────────┴───────────────┘\n",
              "</pre>\n"
            ]
          },
          "metadata": {}
        },
        {
          "output_type": "display_data",
          "data": {
            "text/plain": [
              "\u001b[1m Total params: \u001b[0m\u001b[38;5;34m0\u001b[0m (0.00 B)\n"
            ],
            "text/html": [
              "<pre style=\"white-space:pre;overflow-x:auto;line-height:normal;font-family:Menlo,'DejaVu Sans Mono',consolas,'Courier New',monospace\"><span style=\"font-weight: bold\"> Total params: </span><span style=\"color: #00af00; text-decoration-color: #00af00\">0</span> (0.00 B)\n",
              "</pre>\n"
            ]
          },
          "metadata": {}
        },
        {
          "output_type": "display_data",
          "data": {
            "text/plain": [
              "\u001b[1m Trainable params: \u001b[0m\u001b[38;5;34m0\u001b[0m (0.00 B)\n"
            ],
            "text/html": [
              "<pre style=\"white-space:pre;overflow-x:auto;line-height:normal;font-family:Menlo,'DejaVu Sans Mono',consolas,'Courier New',monospace\"><span style=\"font-weight: bold\"> Trainable params: </span><span style=\"color: #00af00; text-decoration-color: #00af00\">0</span> (0.00 B)\n",
              "</pre>\n"
            ]
          },
          "metadata": {}
        },
        {
          "output_type": "display_data",
          "data": {
            "text/plain": [
              "\u001b[1m Non-trainable params: \u001b[0m\u001b[38;5;34m0\u001b[0m (0.00 B)\n"
            ],
            "text/html": [
              "<pre style=\"white-space:pre;overflow-x:auto;line-height:normal;font-family:Menlo,'DejaVu Sans Mono',consolas,'Courier New',monospace\"><span style=\"font-weight: bold\"> Non-trainable params: </span><span style=\"color: #00af00; text-decoration-color: #00af00\">0</span> (0.00 B)\n",
              "</pre>\n"
            ]
          },
          "metadata": {}
        }
      ]
    },
    {
      "cell_type": "code",
      "source": [
        "from tensorflow.keras.models import Sequential\n",
        "from tensorflow.keras.layers import Embedding, LSTM, Dense, Dropout\n",
        "from tensorflow.keras.optimizers import Adam\n",
        "\n",
        "def build_lstm_model(learning_rate=0.001, hidden_units=128, sequence_length=50):\n",
        "    model = Sequential()\n",
        "\n",
        "    # Embedding layer: input_dim is vocab_size, output_dim is the embedding size, input_length is sequence length\n",
        "    model.add(Embedding(input_dim=vocab_size, output_dim=50, input_length=sequence_length))\n",
        "\n",
        "    # LSTM layer with the specified number of hidden units\n",
        "    model.add(LSTM(hidden_units))\n",
        "\n",
        "    # Dropout layer to prevent overfitting\n",
        "    model.add(Dropout(0.2))\n",
        "\n",
        "    # Output layer with softmax activation (predict next word from vocab size)\n",
        "    model.add(Dense(vocab_size, activation='softmax'))\n",
        "\n",
        "    # Compile the model\n",
        "    model.compile(loss='categorical_crossentropy', optimizer=Adam(learning_rate=learning_rate), metrics=['accuracy'])\n",
        "\n",
        "    return model\n",
        "\n",
        "# Build the model with default hyperparameters\n",
        "lstm_model = build_lstm_model()\n",
        "\n",
        "# Model summary\n",
        "lstm_model.summary()\n"
      ],
      "metadata": {
        "colab": {
          "base_uri": "https://localhost:8080/",
          "height": 272
        },
        "id": "-bH-pXhsxSQC",
        "outputId": "a37faaef-0dec-4284-ee84-ddb33e202818"
      },
      "execution_count": null,
      "outputs": [
        {
          "output_type": "display_data",
          "data": {
            "text/plain": [
              "\u001b[1mModel: \"sequential_6\"\u001b[0m\n"
            ],
            "text/html": [
              "<pre style=\"white-space:pre;overflow-x:auto;line-height:normal;font-family:Menlo,'DejaVu Sans Mono',consolas,'Courier New',monospace\"><span style=\"font-weight: bold\">Model: \"sequential_6\"</span>\n",
              "</pre>\n"
            ]
          },
          "metadata": {}
        },
        {
          "output_type": "display_data",
          "data": {
            "text/plain": [
              "┏━━━━━━━━━━━━━━━━━━━━━━━━━━━━━━━━━┳━━━━━━━━━━━━━━━━━━━━━━━━┳━━━━━━━━━━━━━━━┓\n",
              "┃\u001b[1m \u001b[0m\u001b[1mLayer (type)                   \u001b[0m\u001b[1m \u001b[0m┃\u001b[1m \u001b[0m\u001b[1mOutput Shape          \u001b[0m\u001b[1m \u001b[0m┃\u001b[1m \u001b[0m\u001b[1m      Param #\u001b[0m\u001b[1m \u001b[0m┃\n",
              "┡━━━━━━━━━━━━━━━━━━━━━━━━━━━━━━━━━╇━━━━━━━━━━━━━━━━━━━━━━━━╇━━━━━━━━━━━━━━━┩\n",
              "│ embedding_6 (\u001b[38;5;33mEmbedding\u001b[0m)         │ ?                      │   \u001b[38;5;34m0\u001b[0m (unbuilt) │\n",
              "├─────────────────────────────────┼────────────────────────┼───────────────┤\n",
              "│ lstm_3 (\u001b[38;5;33mLSTM\u001b[0m)                   │ ?                      │   \u001b[38;5;34m0\u001b[0m (unbuilt) │\n",
              "├─────────────────────────────────┼────────────────────────┼───────────────┤\n",
              "│ dropout_2 (\u001b[38;5;33mDropout\u001b[0m)             │ ?                      │             \u001b[38;5;34m0\u001b[0m │\n",
              "├─────────────────────────────────┼────────────────────────┼───────────────┤\n",
              "│ dense_6 (\u001b[38;5;33mDense\u001b[0m)                 │ ?                      │   \u001b[38;5;34m0\u001b[0m (unbuilt) │\n",
              "└─────────────────────────────────┴────────────────────────┴───────────────┘\n"
            ],
            "text/html": [
              "<pre style=\"white-space:pre;overflow-x:auto;line-height:normal;font-family:Menlo,'DejaVu Sans Mono',consolas,'Courier New',monospace\">┏━━━━━━━━━━━━━━━━━━━━━━━━━━━━━━━━━┳━━━━━━━━━━━━━━━━━━━━━━━━┳━━━━━━━━━━━━━━━┓\n",
              "┃<span style=\"font-weight: bold\"> Layer (type)                    </span>┃<span style=\"font-weight: bold\"> Output Shape           </span>┃<span style=\"font-weight: bold\">       Param # </span>┃\n",
              "┡━━━━━━━━━━━━━━━━━━━━━━━━━━━━━━━━━╇━━━━━━━━━━━━━━━━━━━━━━━━╇━━━━━━━━━━━━━━━┩\n",
              "│ embedding_6 (<span style=\"color: #0087ff; text-decoration-color: #0087ff\">Embedding</span>)         │ ?                      │   <span style=\"color: #00af00; text-decoration-color: #00af00\">0</span> (unbuilt) │\n",
              "├─────────────────────────────────┼────────────────────────┼───────────────┤\n",
              "│ lstm_3 (<span style=\"color: #0087ff; text-decoration-color: #0087ff\">LSTM</span>)                   │ ?                      │   <span style=\"color: #00af00; text-decoration-color: #00af00\">0</span> (unbuilt) │\n",
              "├─────────────────────────────────┼────────────────────────┼───────────────┤\n",
              "│ dropout_2 (<span style=\"color: #0087ff; text-decoration-color: #0087ff\">Dropout</span>)             │ ?                      │             <span style=\"color: #00af00; text-decoration-color: #00af00\">0</span> │\n",
              "├─────────────────────────────────┼────────────────────────┼───────────────┤\n",
              "│ dense_6 (<span style=\"color: #0087ff; text-decoration-color: #0087ff\">Dense</span>)                 │ ?                      │   <span style=\"color: #00af00; text-decoration-color: #00af00\">0</span> (unbuilt) │\n",
              "└─────────────────────────────────┴────────────────────────┴───────────────┘\n",
              "</pre>\n"
            ]
          },
          "metadata": {}
        },
        {
          "output_type": "display_data",
          "data": {
            "text/plain": [
              "\u001b[1m Total params: \u001b[0m\u001b[38;5;34m0\u001b[0m (0.00 B)\n"
            ],
            "text/html": [
              "<pre style=\"white-space:pre;overflow-x:auto;line-height:normal;font-family:Menlo,'DejaVu Sans Mono',consolas,'Courier New',monospace\"><span style=\"font-weight: bold\"> Total params: </span><span style=\"color: #00af00; text-decoration-color: #00af00\">0</span> (0.00 B)\n",
              "</pre>\n"
            ]
          },
          "metadata": {}
        },
        {
          "output_type": "display_data",
          "data": {
            "text/plain": [
              "\u001b[1m Trainable params: \u001b[0m\u001b[38;5;34m0\u001b[0m (0.00 B)\n"
            ],
            "text/html": [
              "<pre style=\"white-space:pre;overflow-x:auto;line-height:normal;font-family:Menlo,'DejaVu Sans Mono',consolas,'Courier New',monospace\"><span style=\"font-weight: bold\"> Trainable params: </span><span style=\"color: #00af00; text-decoration-color: #00af00\">0</span> (0.00 B)\n",
              "</pre>\n"
            ]
          },
          "metadata": {}
        },
        {
          "output_type": "display_data",
          "data": {
            "text/plain": [
              "\u001b[1m Non-trainable params: \u001b[0m\u001b[38;5;34m0\u001b[0m (0.00 B)\n"
            ],
            "text/html": [
              "<pre style=\"white-space:pre;overflow-x:auto;line-height:normal;font-family:Menlo,'DejaVu Sans Mono',consolas,'Courier New',monospace\"><span style=\"font-weight: bold\"> Non-trainable params: </span><span style=\"color: #00af00; text-decoration-color: #00af00\">0</span> (0.00 B)\n",
              "</pre>\n"
            ]
          },
          "metadata": {}
        }
      ]
    },
    {
      "cell_type": "code",
      "source": [
        "from tensorflow.keras.callbacks import EarlyStopping\n",
        "\n",
        "# Initialize EarlyStopping to monitor validation loss\n",
        "early_stopping = EarlyStopping(monitor='val_loss', patience=3, restore_best_weights=True)\n"
      ],
      "metadata": {
        "id": "aCKgM9k9goqG"
      },
      "execution_count": null,
      "outputs": []
    },
    {
      "cell_type": "code",
      "source": [
        "import matplotlib.pyplot as plt\n",
        "\n",
        "# Train the LSTM model\n",
        "history_lstm = model_lstm.fit(X, y, epochs=50, batch_size=4, validation_split=0.2, verbose=1, callbacks=[early_stopping])\n",
        "\n",
        "# Train the GRU model\n",
        "history_gru = model_gru.fit(X, y, epochs=50, batch_size=4, validation_split=0.2, verbose=1, callbacks=[early_stopping])\n"
      ],
      "metadata": {
        "colab": {
          "base_uri": "https://localhost:8080/"
        },
        "id": "KPM1OqkdgtyT",
        "outputId": "6bdcb940-705e-4a17-ed7b-0422caf83ad5"
      },
      "execution_count": null,
      "outputs": [
        {
          "output_type": "stream",
          "name": "stdout",
          "text": [
            "Epoch 1/50\n",
            "\u001b[1m3/3\u001b[0m \u001b[32m━━━━━━━━━━━━━━━━━━━━\u001b[0m\u001b[37m\u001b[0m \u001b[1m3s\u001b[0m 196ms/step - accuracy: 0.2188 - loss: 2.3939 - val_accuracy: 0.2500 - val_loss: 2.3932\n",
            "Epoch 2/50\n",
            "\u001b[1m3/3\u001b[0m \u001b[32m━━━━━━━━━━━━━━━━━━━━\u001b[0m\u001b[37m\u001b[0m \u001b[1m0s\u001b[0m 33ms/step - accuracy: 0.4583 - loss: 2.3785 - val_accuracy: 0.2500 - val_loss: 2.3843\n",
            "Epoch 3/50\n",
            "\u001b[1m3/3\u001b[0m \u001b[32m━━━━━━━━━━━━━━━━━━━━\u001b[0m\u001b[37m\u001b[0m \u001b[1m0s\u001b[0m 34ms/step - accuracy: 0.2604 - loss: 2.3645 - val_accuracy: 0.2500 - val_loss: 2.3747\n",
            "Epoch 4/50\n",
            "\u001b[1m3/3\u001b[0m \u001b[32m━━━━━━━━━━━━━━━━━━━━\u001b[0m\u001b[37m\u001b[0m \u001b[1m0s\u001b[0m 34ms/step - accuracy: 0.3854 - loss: 2.3375 - val_accuracy: 0.2500 - val_loss: 2.3620\n",
            "Epoch 5/50\n",
            "\u001b[1m3/3\u001b[0m \u001b[32m━━━━━━━━━━━━━━━━━━━━\u001b[0m\u001b[37m\u001b[0m \u001b[1m0s\u001b[0m 33ms/step - accuracy: 0.3854 - loss: 2.3124 - val_accuracy: 0.2500 - val_loss: 2.3460\n",
            "Epoch 6/50\n",
            "\u001b[1m3/3\u001b[0m \u001b[32m━━━━━━━━━━━━━━━━━━━━\u001b[0m\u001b[37m\u001b[0m \u001b[1m0s\u001b[0m 36ms/step - accuracy: 0.3854 - loss: 2.2801 - val_accuracy: 0.2500 - val_loss: 2.3240\n",
            "Epoch 7/50\n",
            "\u001b[1m3/3\u001b[0m \u001b[32m━━━━━━━━━━━━━━━━━━━━\u001b[0m\u001b[37m\u001b[0m \u001b[1m0s\u001b[0m 33ms/step - accuracy: 0.3542 - loss: 2.2336 - val_accuracy: 0.2500 - val_loss: 2.2951\n",
            "Epoch 8/50\n",
            "\u001b[1m3/3\u001b[0m \u001b[32m━━━━━━━━━━━━━━━━━━━━\u001b[0m\u001b[37m\u001b[0m \u001b[1m0s\u001b[0m 35ms/step - accuracy: 0.2604 - loss: 2.2244 - val_accuracy: 0.2500 - val_loss: 2.2634\n",
            "Epoch 9/50\n",
            "\u001b[1m3/3\u001b[0m \u001b[32m━━━━━━━━━━━━━━━━━━━━\u001b[0m\u001b[37m\u001b[0m \u001b[1m0s\u001b[0m 35ms/step - accuracy: 0.3854 - loss: 2.0868 - val_accuracy: 0.2500 - val_loss: 2.2185\n",
            "Epoch 10/50\n",
            "\u001b[1m3/3\u001b[0m \u001b[32m━━━━━━━━━━━━━━━━━━━━\u001b[0m\u001b[37m\u001b[0m \u001b[1m0s\u001b[0m 34ms/step - accuracy: 0.2292 - loss: 2.0463 - val_accuracy: 0.2500 - val_loss: 2.1689\n",
            "Epoch 11/50\n",
            "\u001b[1m3/3\u001b[0m \u001b[32m━━━━━━━━━━━━━━━━━━━━\u001b[0m\u001b[37m\u001b[0m \u001b[1m0s\u001b[0m 35ms/step - accuracy: 0.2604 - loss: 1.9808 - val_accuracy: 0.2500 - val_loss: 2.1372\n",
            "Epoch 12/50\n",
            "\u001b[1m3/3\u001b[0m \u001b[32m━━━━━━━━━━━━━━━━━━━━\u001b[0m\u001b[37m\u001b[0m \u001b[1m0s\u001b[0m 34ms/step - accuracy: 0.3229 - loss: 1.7905 - val_accuracy: 0.2500 - val_loss: 2.1519\n",
            "Epoch 13/50\n",
            "\u001b[1m3/3\u001b[0m \u001b[32m━━━━━━━━━━━━━━━━━━━━\u001b[0m\u001b[37m\u001b[0m \u001b[1m0s\u001b[0m 33ms/step - accuracy: 0.3542 - loss: 1.7810 - val_accuracy: 0.2500 - val_loss: 2.1813\n",
            "Epoch 14/50\n",
            "\u001b[1m3/3\u001b[0m \u001b[32m━━━━━━━━━━━━━━━━━━━━\u001b[0m\u001b[37m\u001b[0m \u001b[1m0s\u001b[0m 35ms/step - accuracy: 0.1979 - loss: 2.1674 - val_accuracy: 0.2500 - val_loss: 2.1718\n",
            "Epoch 1/50\n",
            "\u001b[1m3/3\u001b[0m \u001b[32m━━━━━━━━━━━━━━━━━━━━\u001b[0m\u001b[37m\u001b[0m \u001b[1m3s\u001b[0m 218ms/step - accuracy: 0.1875 - loss: 2.3914 - val_accuracy: 0.2500 - val_loss: 2.3730\n",
            "Epoch 2/50\n",
            "\u001b[1m3/3\u001b[0m \u001b[32m━━━━━━━━━━━━━━━━━━━━\u001b[0m\u001b[37m\u001b[0m \u001b[1m0s\u001b[0m 37ms/step - accuracy: 0.3854 - loss: 2.3576 - val_accuracy: 0.2500 - val_loss: 2.3563\n",
            "Epoch 3/50\n",
            "\u001b[1m3/3\u001b[0m \u001b[32m━━━━━━━━━━━━━━━━━━━━\u001b[0m\u001b[37m\u001b[0m \u001b[1m0s\u001b[0m 39ms/step - accuracy: 0.1979 - loss: 2.3444 - val_accuracy: 0.2500 - val_loss: 2.3384\n",
            "Epoch 4/50\n",
            "\u001b[1m3/3\u001b[0m \u001b[32m━━━━━━━━━━━━━━━━━━━━\u001b[0m\u001b[37m\u001b[0m \u001b[1m0s\u001b[0m 34ms/step - accuracy: 0.3542 - loss: 2.2953 - val_accuracy: 0.2500 - val_loss: 2.3177\n",
            "Epoch 5/50\n",
            "\u001b[1m3/3\u001b[0m \u001b[32m━━━━━━━━━━━━━━━━━━━━\u001b[0m\u001b[37m\u001b[0m \u001b[1m0s\u001b[0m 35ms/step - accuracy: 0.3854 - loss: 2.2392 - val_accuracy: 0.2500 - val_loss: 2.2907\n",
            "Epoch 6/50\n",
            "\u001b[1m3/3\u001b[0m \u001b[32m━━━━━━━━━━━━━━━━━━━━\u001b[0m\u001b[37m\u001b[0m \u001b[1m0s\u001b[0m 35ms/step - accuracy: 0.2917 - loss: 2.2271 - val_accuracy: 0.2500 - val_loss: 2.2612\n",
            "Epoch 7/50\n",
            "\u001b[1m3/3\u001b[0m \u001b[32m━━━━━━━━━━━━━━━━━━━━\u001b[0m\u001b[37m\u001b[0m \u001b[1m0s\u001b[0m 36ms/step - accuracy: 0.3229 - loss: 2.1540 - val_accuracy: 0.2500 - val_loss: 2.2245\n",
            "Epoch 8/50\n",
            "\u001b[1m3/3\u001b[0m \u001b[32m━━━━━━━━━━━━━━━━━━━━\u001b[0m\u001b[37m\u001b[0m \u001b[1m0s\u001b[0m 35ms/step - accuracy: 0.3229 - loss: 2.0322 - val_accuracy: 0.2500 - val_loss: 2.1832\n",
            "Epoch 9/50\n",
            "\u001b[1m3/3\u001b[0m \u001b[32m━━━━━━━━━━━━━━━━━━━━\u001b[0m\u001b[37m\u001b[0m \u001b[1m0s\u001b[0m 37ms/step - accuracy: 0.3542 - loss: 1.9873 - val_accuracy: 0.2500 - val_loss: 2.1545\n",
            "Epoch 10/50\n",
            "\u001b[1m3/3\u001b[0m \u001b[32m━━━━━━━━━━━━━━━━━━━━\u001b[0m\u001b[37m\u001b[0m \u001b[1m0s\u001b[0m 72ms/step - accuracy: 0.2292 - loss: 1.9907 - val_accuracy: 0.2500 - val_loss: 2.1573\n",
            "Epoch 11/50\n",
            "\u001b[1m3/3\u001b[0m \u001b[32m━━━━━━━━━━━━━━━━━━━━\u001b[0m\u001b[37m\u001b[0m \u001b[1m0s\u001b[0m 73ms/step - accuracy: 0.3229 - loss: 1.8047 - val_accuracy: 0.2500 - val_loss: 2.1871\n",
            "Epoch 12/50\n",
            "\u001b[1m3/3\u001b[0m \u001b[32m━━━━━━━━━━━━━━━━━━━━\u001b[0m\u001b[37m\u001b[0m \u001b[1m0s\u001b[0m 64ms/step - accuracy: 0.3229 - loss: 1.8124 - val_accuracy: 0.2500 - val_loss: 2.2334\n"
          ]
        }
      ]
    },
    {
      "cell_type": "code",
      "source": [
        "# Plot training and validation loss for LSTM\n",
        "plt.figure(figsize=(10, 6))\n",
        "\n",
        "# LSTM Loss Plot\n",
        "plt.subplot(1, 2, 1)\n",
        "plt.plot(history_lstm.history['loss'], label='LSTM Train Loss')\n",
        "plt.plot(history_lstm.history['val_loss'], label='LSTM Val Loss')\n",
        "plt.title('LSTM Loss Curve')\n",
        "plt.xlabel('Epochs')\n",
        "plt.ylabel('Loss')\n",
        "plt.legend()\n",
        "\n",
        "# GRU Loss Plot\n",
        "plt.subplot(1, 2, 2)\n",
        "plt.plot(history_gru.history['loss'], label='GRU Train Loss')\n",
        "plt.plot(history_gru.history['val_loss'], label='GRU Val Loss')\n",
        "plt.title('GRU Loss Curve')\n",
        "plt.xlabel('Epochs')\n",
        "plt.ylabel('Loss')\n",
        "plt.legend()\n",
        "\n",
        "plt.tight_layout()\n",
        "plt.show()\n",
        "\n",
        "# Plot training and validation accuracy for LSTM\n",
        "plt.figure(figsize=(10, 6))\n",
        "\n",
        "# LSTM Accuracy Plot\n",
        "plt.subplot(1, 2, 1)\n",
        "plt.plot(history_lstm.history['accuracy'], label='LSTM Train Accuracy')\n",
        "plt.plot(history_lstm.history['val_accuracy'], label='LSTM Val Accuracy')\n",
        "plt.title('LSTM Accuracy Curve')\n",
        "plt.xlabel('Epochs')\n",
        "plt.ylabel('Accuracy')\n",
        "plt.legend()\n",
        "\n",
        "# GRU Accuracy Plot\n",
        "plt.subplot(1, 2, 2)\n",
        "plt.plot(history_gru.history['accuracy'], label='GRU Train Accuracy')\n",
        "plt.plot(history_gru.history['val_accuracy'], label='GRU Val Accuracy')\n",
        "plt.title('GRU Accuracy Curve')\n",
        "plt.xlabel('Epochs')\n",
        "plt.ylabel('Accuracy')\n",
        "plt.legend()\n",
        "\n",
        "plt.tight_layout()\n",
        "plt.show()\n"
      ],
      "metadata": {
        "colab": {
          "base_uri": "https://localhost:8080/",
          "height": 1000
        },
        "id": "Oz3o3B6HhdzQ",
        "outputId": "b23a8fba-0f71-4983-a314-7a04b41ae39a"
      },
      "execution_count": null,
      "outputs": [
        {
          "output_type": "display_data",
          "data": {
            "text/plain": [
              "<Figure size 1000x600 with 2 Axes>"
            ],
            "image/png": "[encoded data removed]"
          },
          "metadata": {}
        },
        {
          "output_type": "display_data",
          "data": {
            "text/plain": [
              "<Figure size 1000x600 with 2 Axes>"
            ],
            "image/png": "[encoded data removed]"
          },
          "metadata": {}
        }
      ]
    },
    {
      "cell_type": "markdown",
      "source": [
        "# ***7. Model Evaluation:***\n",
        "Evaluate both models on the testing/validation data using appropriate evaluation metrics (e.g., accuracy, perplexity).\n",
        "\n",
        "\n",
        "Analyze model predictions for a set of input sequences and interpret output quality.\n",
        "\n",
        "\n",
        "Compare and contrast performance between LSTM and GRU.\n"
      ],
      "metadata": {
        "id": "y7LSawhMl932"
      }
    },
    {
      "cell_type": "code",
      "source": [
        "# Evaluate LSTM model on validation data\n",
        "lstm_eval = model_lstm.evaluate(X, y, verbose=1)\n",
        "\n",
        "# Evaluate GRU model on validation data\n",
        "gru_eval = model_gru.evaluate(X, y, verbose=1)\n",
        "\n",
        "# Print evaluation results\n",
        "print(f\"LSTM Loss: {lstm_eval[0]:.4f}, LSTM Accuracy: {lstm_eval[1]:.4f}\")\n",
        "print(f\"GRU Loss: {gru_eval[0]:.4f}, GRU Accuracy: {gru_eval[1]:.4f}\")\n"
      ],
      "metadata": {
        "colab": {
          "base_uri": "https://localhost:8080/"
        },
        "id": "H6r-cpfxl1hm",
        "outputId": "4ccd69aa-35cf-465e-a9a7-6ff3e70f4e60"
      },
      "execution_count": 48,
      "outputs": [
        {
          "output_type": "stream",
          "name": "stdout",
          "text": [
            "\u001b[1m1/1\u001b[0m \u001b[32m━━━━━━━━━━━━━━━━━━━━\u001b[0m\u001b[37m\u001b[0m \u001b[1m0s\u001b[0m 360ms/step - accuracy: 0.8750 - loss: 0.2876\n",
            "\u001b[1m1/1\u001b[0m \u001b[32m━━━━━━━━━━━━━━━━━━━━\u001b[0m\u001b[37m\u001b[0m \u001b[1m0s\u001b[0m 400ms/step - accuracy: 0.8750 - loss: 0.1948\n",
            "LSTM Loss: 0.2876, LSTM Accuracy: 0.8750\n",
            "GRU Loss: 0.1948, GRU Accuracy: 0.8750\n"
          ]
        }
      ]
    },
    {
      "cell_type": "code",
      "source": [
        "import numpy as np\n",
        "\n",
        "# Calculate perplexity for LSTM\n",
        "lstm_perplexity = np.exp(lstm_eval[0])\n",
        "print(f\"LSTM Perplexity: {lstm_perplexity:.4f}\")\n",
        "\n",
        "# Calculate perplexity for GRU\n",
        "gru_perplexity = np.exp(gru_eval[0])\n",
        "print(f\"GRU Perplexity: {gru_perplexity:.4f}\")\n"
      ],
      "metadata": {
        "colab": {
          "base_uri": "https://localhost:8080/"
        },
        "id": "VQtyiPFFmCGd",
        "outputId": "39a06ffa-5fd3-417d-bcc6-39210a0f7643"
      },
      "execution_count": null,
      "outputs": [
        {
          "output_type": "stream",
          "name": "stdout",
          "text": [
            "LSTM Perplexity: 6.7928\n",
            "GRU Perplexity: 7.0951\n"
          ]
        }
      ]
    },
    {
      "cell_type": "code",
      "source": [
        "# Function to generate the next word from a given sequence\n",
        "def predict_next_word(model, tokenizer, input_sequence, sequence_length):\n",
        "    # Tokenize input sequence and pad\n",
        "    input_sequence = tokenizer.texts_to_sequences([input_sequence])\n",
        "    input_sequence = pad_sequences(input_sequence, maxlen=sequence_length, padding='pre')\n",
        "\n",
        "    # Predict the next word (model outputs probability distribution)\n",
        "    prediction = model.predict(input_sequence, verbose=0)\n",
        "    predicted_word_idx = np.argmax(prediction)\n",
        "\n",
        "    # Get the word corresponding to the predicted index\n",
        "    predicted_word = tokenizer.index_word[predicted_word_idx]\n",
        "    return predicted_word\n",
        "\n",
        "# Test LSTM and GRU with some input sequences\n",
        "input_sequence = \"deep learning is\"\n",
        "lstm_pred = predict_next_word(model_lstm, tokenizer, input_sequence, X.shape[1])\n",
        "gru_pred = predict_next_word(model_gru, tokenizer, input_sequence, X.shape[1])\n",
        "\n",
        "print(f\"Input: '{input_sequence}'\")\n",
        "print(f\"LSTM Predicted Next Word: {lstm_pred}\")\n",
        "print(f\"GRU Predicted Next Word: {gru_pred}\")\n"
      ],
      "metadata": {
        "colab": {
          "base_uri": "https://localhost:8080/"
        },
        "id": "be0W3EfemMqZ",
        "outputId": "db07065b-a5c5-445c-b2f5-c1d9cc0f9196"
      },
      "execution_count": null,
      "outputs": [
        {
          "output_type": "stream",
          "name": "stdout",
          "text": [
            "Input: 'deep learning is'\n",
            "LSTM Predicted Next Word: learning\n",
            "GRU Predicted Next Word: learning\n"
          ]
        }
      ]
    },
    {
      "cell_type": "markdown",
      "source": [
        "# ***8. Hyperparameter Tuning:***\n",
        "Adjust model parameters:\n",
        "\n",
        "\n",
        "Learning rate\n",
        "\n",
        "\n",
        "Number of hidden units\n",
        "\n",
        "\n",
        "Batch size\n",
        "\n",
        "\n",
        "Sequence length\n",
        "\n",
        "\n",
        "Use tools like Grid Search or Random Search if applicable."
      ],
      "metadata": {
        "id": "yTmkUa8WmkWT"
      }
    },
    {
      "cell_type": "code",
      "source": [
        "# Simple dataset with sentences\n",
        "sentences = [\n",
        "    \"I love machine learning\",\n",
        "    \"Deep learning is amazing\",\n",
        "    \"I love deep learning\",\n",
        "    \"Machine learning is great\",\n",
        "    \"Deep learning is the future\"\n",
        "]\n"
      ],
      "metadata": {
        "id": "uKYlYsk974Wq"
      },
      "execution_count": 16,
      "outputs": []
    },
    {
      "cell_type": "code",
      "source": [
        "from tensorflow.keras.preprocessing.text import Tokenizer\n",
        "from tensorflow.keras.utils import to_categorical\n",
        "from tensorflow.keras.preprocessing.sequence import pad_sequences\n",
        "import numpy as np\n",
        "\n",
        "# Initialize the tokenizer\n",
        "tokenizer = Tokenizer()\n",
        "tokenizer.fit_on_texts(sentences)\n",
        "\n",
        "# Convert text to sequences of integers (word indices)\n",
        "sequences = tokenizer.texts_to_sequences(sentences)\n",
        "\n",
        "# Print the tokenized sequences\n",
        "print(\"Tokenized sequences:\", sequences)\n"
      ],
      "metadata": {
        "colab": {
          "base_uri": "https://localhost:8080/"
        },
        "id": "eqNnaJYJ78Z6",
        "outputId": "cdd1e6a2-3383-4137-f46b-9def1d5a63a9"
      },
      "execution_count": 17,
      "outputs": [
        {
          "output_type": "stream",
          "name": "stdout",
          "text": [
            "Tokenized sequences: [[4, 5, 6, 1], [2, 1, 3, 7], [4, 5, 2, 1], [6, 1, 3, 8], [2, 1, 3, 9, 10]]\n"
          ]
        }
      ]
    },
    {
      "cell_type": "code",
      "source": [
        "# Create input-output pairs (sequences and next word)\n",
        "X = []\n",
        "y = []\n",
        "\n",
        "# Loop through sequences and create input-output pairs\n",
        "for seq in sequences:\n",
        "    for i in range(1, len(seq)):\n",
        "        X.append(seq[:i])  # Input sequence (all words before the target word)\n",
        "        y.append(seq[i])  # Next word (target word)\n",
        "\n",
        "# Pad sequences to make them the same length\n",
        "X = pad_sequences(X, padding='pre')\n",
        "\n",
        "# One-hot encode the target variable (y)\n",
        "y = to_categorical(y, num_classes=len(tokenizer.word_index) + 1)\n",
        "\n",
        "# Convert X to numpy arrays\n",
        "X = np.array(X)\n",
        "y = np.array(y)\n",
        "\n",
        "# Print shapes of input and output\n",
        "print(f\"Shape of X: {X.shape}, Shape of y: {y.shape}\")\n"
      ],
      "metadata": {
        "colab": {
          "base_uri": "https://localhost:8080/"
        },
        "id": "FnUCG9jA8D8K",
        "outputId": "a1bc1f7f-e6c5-449b-d00c-4ea9c0468193"
      },
      "execution_count": 7,
      "outputs": [
        {
          "output_type": "stream",
          "name": "stdout",
          "text": [
            "Shape of X: (16, 4), Shape of y: (16, 11)\n"
          ]
        }
      ]
    },
    {
      "cell_type": "code",
      "source": [
        "from tensorflow.keras.models import Sequential\n",
        "from tensorflow.keras.layers import Embedding, LSTM, Dense, Dropout\n",
        "from tensorflow.keras.optimizers import Adam\n",
        "\n",
        "# Define the LSTM model\n",
        "def build_lstm_model(learning_rate=0.001, hidden_units=128, sequence_length=50, vocab_size=6):\n",
        "    model = Sequential()\n",
        "\n",
        "    # Embedding layer: input_dim is vocab_size, output_dim is the embedding size, input_length is sequence length\n",
        "    model.add(Embedding(input_dim=vocab_size, output_dim=50, input_length=sequence_length))\n",
        "\n",
        "    # LSTM layer with the specified number of hidden units\n",
        "    model.add(LSTM(hidden_units))\n",
        "\n",
        "    # Dropout to prevent overfitting\n",
        "    model.add(Dropout(0.2))\n",
        "\n",
        "    # Output layer with softmax activation (predict next word from vocab size)\n",
        "    model.add(Dense(vocab_size, activation='softmax'))\n",
        "\n",
        "    # Compile the model\n",
        "    model.compile(loss='categorical_crossentropy', optimizer=Adam(learning_rate=learning_rate), metrics=['accuracy'])\n",
        "\n",
        "    return model\n"
      ],
      "metadata": {
        "id": "m1IpZ3728Qhm"
      },
      "execution_count": 8,
      "outputs": []
    },
    {
      "cell_type": "code",
      "source": [
        "from tensorflow.keras.wrappers.scikit_learn import KerasClassifier\n",
        "from sklearn.model_selection import RandomizedSearchCV\n",
        "\n",
        "# Wrapping the model function to make it compatible with scikit-learn RandomizedSearchCV\n",
        "lstm_model = KerasClassifier(build_fn=build_lstm_model, epochs=10, verbose=0)\n",
        "gru_model = KerasClassifier(build_fn=build_gru_model, epochs=10, verbose=0)\n",
        "\n",
        "# Define hyperparameter grid for random search\n",
        "param_grid = {\n",
        "    'learning_rate': [0.0001, 0.001, 0.01],                # Learning rate values\n",
        "    'hidden_units': [64, 128, 256],                          # Number of hidden units in LSTM/GRU\n",
        "    'batch_size': [16, 32, 64],                              # Batch sizes to try\n",
        "    'sequence_length': [20, 50, 100]                         # Sequence lengths\n",
        "}\n",
        "\n",
        "# Perform Random Search for LSTM\n",
        "random_search_lstm = RandomizedSearchCV(estimator=lstm_model, param_distributions=param_grid, n_iter=5, cv=3, verbose=1, random_state=42)\n",
        "\n",
        "# Perform Random Search for GRU\n",
        "random_search_gru = RandomizedSearchCV(estimator=gru_model, param_distributions=param_grid, n_iter=5, cv=3, verbose=1, random_state=42)\n",
        "\n",
        "# Fit Random Search for LSTM\n",
        "random_search_lstm.fit(X, y)\n",
        "\n",
        "# Fit Random Search for GRU\n",
        "random_search_gru.fit(X, y)\n",
        "\n",
        "# Print best parameters and score for LSTM\n",
        "print(\"Best parameters for LSTM:\", random_search_lstm.best_params_)\n",
        "print(\"Best score for LSTM:\", random_search_lstm.best_score_)\n",
        "\n",
        "# Print best parameters and score for GRU\n",
        "print(\"Best parameters for GRU:\", random_search_gru.best_params_)\n",
        "print(\"Best score for GRU:\", random_search_gru.best_score_)\n"
      ],
      "metadata": {
        "colab": {
          "base_uri": "https://localhost:8080/",
          "height": 383
        },
        "id": "mPMAFGkS8cfk",
        "outputId": "91b4f769-f2de-43df-d9bf-fe44b30c12cb"
      },
      "execution_count": 49,
      "outputs": [
        {
          "output_type": "error",
          "ename": "ModuleNotFoundError",
          "evalue": "No module named 'tensorflow.keras.wrappers.scikit_learn'",
          "traceback": [
            "\u001b[0;31m---------------------------------------------------------------------------\u001b[0m",
            "\u001b[0;31mModuleNotFoundError\u001b[0m                       Traceback (most recent call last)",
            "\u001b[0;32m<ipython-input-49-a2808683263f>\u001b[0m in \u001b[0;36m<cell line: 0>\u001b[0;34m()\u001b[0m\n\u001b[0;32m----> 1\u001b[0;31m \u001b[0;32mfrom\u001b[0m \u001b[0mtensorflow\u001b[0m\u001b[0;34m.\u001b[0m\u001b[0mkeras\u001b[0m\u001b[0;34m.\u001b[0m\u001b[0mwrappers\u001b[0m\u001b[0;34m.\u001b[0m\u001b[0mscikit_learn\u001b[0m \u001b[0;32mimport\u001b[0m \u001b[0mKerasClassifier\u001b[0m\u001b[0;34m\u001b[0m\u001b[0;34m\u001b[0m\u001b[0m\n\u001b[0m\u001b[1;32m      2\u001b[0m \u001b[0;32mfrom\u001b[0m \u001b[0msklearn\u001b[0m\u001b[0;34m.\u001b[0m\u001b[0mmodel_selection\u001b[0m \u001b[0;32mimport\u001b[0m \u001b[0mRandomizedSearchCV\u001b[0m\u001b[0;34m\u001b[0m\u001b[0;34m\u001b[0m\u001b[0m\n\u001b[1;32m      3\u001b[0m \u001b[0;34m\u001b[0m\u001b[0m\n\u001b[1;32m      4\u001b[0m \u001b[0;31m# Wrapping the model function to make it compatible with scikit-learn RandomizedSearchCV\u001b[0m\u001b[0;34m\u001b[0m\u001b[0;34m\u001b[0m\u001b[0m\n\u001b[1;32m      5\u001b[0m \u001b[0mlstm_model\u001b[0m \u001b[0;34m=\u001b[0m \u001b[0mKerasClassifier\u001b[0m\u001b[0;34m(\u001b[0m\u001b[0mbuild_fn\u001b[0m\u001b[0;34m=\u001b[0m\u001b[0mbuild_lstm_model\u001b[0m\u001b[0;34m,\u001b[0m \u001b[0mepochs\u001b[0m\u001b[0;34m=\u001b[0m\u001b[0;36m10\u001b[0m\u001b[0;34m,\u001b[0m \u001b[0mverbose\u001b[0m\u001b[0;34m=\u001b[0m\u001b[0;36m0\u001b[0m\u001b[0;34m)\u001b[0m\u001b[0;34m\u001b[0m\u001b[0;34m\u001b[0m\u001b[0m\n",
            "\u001b[0;31mModuleNotFoundError\u001b[0m: No module named 'tensorflow.keras.wrappers.scikit_learn'",
            "",
            "\u001b[0;31m---------------------------------------------------------------------------\u001b[0;32m\nNOTE: If your import is failing due to a missing package, you can\nmanually install dependencies using either !pip or !apt.\n\nTo view examples of installing some common dependencies, click the\n\"Open Examples\" button below.\n\u001b[0;31m---------------------------------------------------------------------------\u001b[0m\n"
          ],
          "errorDetails": {
            "actions": [
              {
                "action": "open_url",
                "actionText": "Open Examples",
                "url": "/notebooks/snippets/importing_libraries.ipynb"
              }
            ]
          }
        }
      ]
    },
    {
      "cell_type": "code",
      "source": [
        "# Get the best models from RandomizedSearchCV\n",
        "best_lstm_model = random_search_lstm.best_estimator_\n",
        "best_gru_model = random_search_gru.best_estimator_\n",
        "\n",
        "# Evaluate models on test data or validation data\n",
        "lstm_eval = best_lstm_model.score(X, y)\n",
        "gru_eval = best_gru_model.score(X, y)\n",
        "\n",
        "print(f\"LSTM Evaluation Score: {lstm_eval}\")\n",
        "print(f\"GRU Evaluation Score: {gru_eval}\")\n"
      ],
      "metadata": {
        "colab": {
          "base_uri": "https://localhost:8080/",
          "height": 211
        },
        "id": "VtpKd_Be9ZDL",
        "outputId": "635d1568-e744-4fc4-b16d-8e916b1902b7"
      },
      "execution_count": 50,
      "outputs": [
        {
          "output_type": "error",
          "ename": "AttributeError",
          "evalue": "'RandomizedSearchCV' object has no attribute 'best_estimator_'",
          "traceback": [
            "\u001b[0;31m---------------------------------------------------------------------------\u001b[0m",
            "\u001b[0;31mAttributeError\u001b[0m                            Traceback (most recent call last)",
            "\u001b[0;32m<ipython-input-50-57edd6913787>\u001b[0m in \u001b[0;36m<cell line: 0>\u001b[0;34m()\u001b[0m\n\u001b[1;32m      1\u001b[0m \u001b[0;31m# Get the best models from RandomizedSearchCV\u001b[0m\u001b[0;34m\u001b[0m\u001b[0;34m\u001b[0m\u001b[0m\n\u001b[0;32m----> 2\u001b[0;31m \u001b[0mbest_lstm_model\u001b[0m \u001b[0;34m=\u001b[0m \u001b[0mrandom_search_lstm\u001b[0m\u001b[0;34m.\u001b[0m\u001b[0mbest_estimator_\u001b[0m\u001b[0;34m\u001b[0m\u001b[0;34m\u001b[0m\u001b[0m\n\u001b[0m\u001b[1;32m      3\u001b[0m \u001b[0mbest_gru_model\u001b[0m \u001b[0;34m=\u001b[0m \u001b[0mrandom_search_gru\u001b[0m\u001b[0;34m.\u001b[0m\u001b[0mbest_estimator_\u001b[0m\u001b[0;34m\u001b[0m\u001b[0;34m\u001b[0m\u001b[0m\n\u001b[1;32m      4\u001b[0m \u001b[0;34m\u001b[0m\u001b[0m\n\u001b[1;32m      5\u001b[0m \u001b[0;31m# Evaluate models on test data or validation data\u001b[0m\u001b[0;34m\u001b[0m\u001b[0;34m\u001b[0m\u001b[0m\n",
            "\u001b[0;31mAttributeError\u001b[0m: 'RandomizedSearchCV' object has no attribute 'best_estimator_'"
          ]
        }
      ]
    },
    {
      "cell_type": "markdown",
      "source": [
        "# ***9. Advanced Optimization Techniques:***\n",
        "Apply:\n",
        "\n",
        "\n",
        "Gradient clipping to prevent exploding gradients.\n",
        "\n",
        "\n",
        "Learning rate scheduling for dynamic learning adjustments.\n",
        "\n",
        "\n",
        "Explore other regularization techniques if needed.\n"
      ],
      "metadata": {
        "id": "D1bu4G0h9u5O"
      }
    },
    {
      "cell_type": "code",
      "source": [
        "from tensorflow.keras.optimizers import Adam\n",
        "\n",
        "# Define the optimizer with gradient clipping\n",
        "optimizer = Adam(learning_rate=0.001, clipnorm=1.0)  # clipnorm limits the norm of the gradient\n",
        "\n",
        "# Compile the LSTM or GRU model with this optimizer\n",
        "model_lstm.compile(loss='categorical_crossentropy', optimizer=optimizer, metrics=['accuracy'])\n",
        "model_gru.compile(loss='categorical_crossentropy', optimizer=optimizer, metrics=['accuracy'])\n"
      ],
      "metadata": {
        "id": "i-frHUjh9zta",
        "colab": {
          "base_uri": "https://localhost:8080/",
          "height": 193
        },
        "outputId": "7648e9d9-ef1c-4d76-e06b-00e3ffa74f55"
      },
      "execution_count": 34,
      "outputs": [
        {
          "output_type": "error",
          "ename": "NameError",
          "evalue": "name 'model_lstm' is not defined",
          "traceback": [
            "\u001b[0;31m---------------------------------------------------------------------------\u001b[0m",
            "\u001b[0;31mNameError\u001b[0m                                 Traceback (most recent call last)",
            "\u001b[0;32m<ipython-input-34-e05956708ddb>\u001b[0m in \u001b[0;36m<cell line: 0>\u001b[0;34m()\u001b[0m\n\u001b[1;32m      5\u001b[0m \u001b[0;34m\u001b[0m\u001b[0m\n\u001b[1;32m      6\u001b[0m \u001b[0;31m# Compile the LSTM or GRU model with this optimizer\u001b[0m\u001b[0;34m\u001b[0m\u001b[0;34m\u001b[0m\u001b[0m\n\u001b[0;32m----> 7\u001b[0;31m \u001b[0mmodel_lstm\u001b[0m\u001b[0;34m.\u001b[0m\u001b[0mcompile\u001b[0m\u001b[0;34m(\u001b[0m\u001b[0mloss\u001b[0m\u001b[0;34m=\u001b[0m\u001b[0;34m'categorical_crossentropy'\u001b[0m\u001b[0;34m,\u001b[0m \u001b[0moptimizer\u001b[0m\u001b[0;34m=\u001b[0m\u001b[0moptimizer\u001b[0m\u001b[0;34m,\u001b[0m \u001b[0mmetrics\u001b[0m\u001b[0;34m=\u001b[0m\u001b[0;34m[\u001b[0m\u001b[0;34m'accuracy'\u001b[0m\u001b[0;34m]\u001b[0m\u001b[0;34m)\u001b[0m\u001b[0;34m\u001b[0m\u001b[0;34m\u001b[0m\u001b[0m\n\u001b[0m\u001b[1;32m      8\u001b[0m \u001b[0mmodel_gru\u001b[0m\u001b[0;34m.\u001b[0m\u001b[0mcompile\u001b[0m\u001b[0;34m(\u001b[0m\u001b[0mloss\u001b[0m\u001b[0;34m=\u001b[0m\u001b[0;34m'categorical_crossentropy'\u001b[0m\u001b[0;34m,\u001b[0m \u001b[0moptimizer\u001b[0m\u001b[0;34m=\u001b[0m\u001b[0moptimizer\u001b[0m\u001b[0;34m,\u001b[0m \u001b[0mmetrics\u001b[0m\u001b[0;34m=\u001b[0m\u001b[0;34m[\u001b[0m\u001b[0;34m'accuracy'\u001b[0m\u001b[0;34m]\u001b[0m\u001b[0;34m)\u001b[0m\u001b[0;34m\u001b[0m\u001b[0;34m\u001b[0m\u001b[0m\n",
            "\u001b[0;31mNameError\u001b[0m: name 'model_lstm' is not defined"
          ]
        }
      ]
    },
    {
      "cell_type": "code",
      "source": [
        "from __future__ import absolute_import, division, print_function\n",
        "import tensorflow as tf\n",
        "# eager mode is available in core since 1.7.0\n"
      ],
      "metadata": {
        "id": "ZBnpDplK_EnY"
      },
      "execution_count": null,
      "outputs": []
    },
    {
      "cell_type": "code",
      "source": [
        "import tensorflow as tf\n",
        "\n",
        "# Ensure eager execution is enabled\n",
        "tf.compat.v1.enable_eager_execution()\n",
        "\n",
        "# Your model code here...\n"
      ],
      "metadata": {
        "id": "_0ZSPNsRAdzs",
        "outputId": "66526ac2-3d5f-49b8-efce-d4d177d687f7",
        "colab": {
          "base_uri": "https://localhost:8080/",
          "height": 373
        }
      },
      "execution_count": null,
      "outputs": [
        {
          "output_type": "error",
          "ename": "ValueError",
          "evalue": "tf.enable_eager_execution must be called at program startup.",
          "traceback": [
            "\u001b[0;31m---------------------------------------------------------------------------\u001b[0m",
            "\u001b[0;31mValueError\u001b[0m                                Traceback (most recent call last)",
            "\u001b[0;32m<ipython-input-62-c9e4fed81f29>\u001b[0m in \u001b[0;36m<cell line: 0>\u001b[0;34m()\u001b[0m\n\u001b[1;32m      2\u001b[0m \u001b[0;34m\u001b[0m\u001b[0m\n\u001b[1;32m      3\u001b[0m \u001b[0;31m# Ensure eager execution is enabled\u001b[0m\u001b[0;34m\u001b[0m\u001b[0;34m\u001b[0m\u001b[0m\n\u001b[0;32m----> 4\u001b[0;31m \u001b[0mtf\u001b[0m\u001b[0;34m.\u001b[0m\u001b[0mcompat\u001b[0m\u001b[0;34m.\u001b[0m\u001b[0mv1\u001b[0m\u001b[0;34m.\u001b[0m\u001b[0menable_eager_execution\u001b[0m\u001b[0;34m(\u001b[0m\u001b[0;34m)\u001b[0m\u001b[0;34m\u001b[0m\u001b[0;34m\u001b[0m\u001b[0m\n\u001b[0m\u001b[1;32m      5\u001b[0m \u001b[0;34m\u001b[0m\u001b[0m\n\u001b[1;32m      6\u001b[0m \u001b[0;31m# Your model code here...\u001b[0m\u001b[0;34m\u001b[0m\u001b[0;34m\u001b[0m\u001b[0m\n",
            "\u001b[0;32m/usr/local/lib/python3.11/dist-packages/tensorflow/python/framework/ops.py\u001b[0m in \u001b[0;36menable_eager_execution\u001b[0;34m(config, device_policy, execution_mode)\u001b[0m\n\u001b[1;32m   4961\u001b[0m   \u001b[0mlogging\u001b[0m\u001b[0;34m.\u001b[0m\u001b[0mvlog\u001b[0m\u001b[0;34m(\u001b[0m\u001b[0;36m1\u001b[0m\u001b[0;34m,\u001b[0m \u001b[0;34m\"Enabling eager execution\"\u001b[0m\u001b[0;34m)\u001b[0m\u001b[0;34m\u001b[0m\u001b[0;34m\u001b[0m\u001b[0m\n\u001b[1;32m   4962\u001b[0m   \u001b[0;32mif\u001b[0m \u001b[0mcontext\u001b[0m\u001b[0;34m.\u001b[0m\u001b[0mdefault_execution_mode\u001b[0m \u001b[0;34m!=\u001b[0m \u001b[0mcontext\u001b[0m\u001b[0;34m.\u001b[0m\u001b[0mEAGER_MODE\u001b[0m\u001b[0;34m:\u001b[0m\u001b[0;34m\u001b[0m\u001b[0;34m\u001b[0m\u001b[0m\n\u001b[0;32m-> 4963\u001b[0;31m     return enable_eager_execution_internal(\n\u001b[0m\u001b[1;32m   4964\u001b[0m         \u001b[0mconfig\u001b[0m\u001b[0;34m=\u001b[0m\u001b[0mconfig\u001b[0m\u001b[0;34m,\u001b[0m\u001b[0;34m\u001b[0m\u001b[0;34m\u001b[0m\u001b[0m\n\u001b[1;32m   4965\u001b[0m         \u001b[0mdevice_policy\u001b[0m\u001b[0;34m=\u001b[0m\u001b[0mdevice_policy\u001b[0m\u001b[0;34m,\u001b[0m\u001b[0;34m\u001b[0m\u001b[0;34m\u001b[0m\u001b[0m\n",
            "\u001b[0;32m/usr/local/lib/python3.11/dist-packages/tensorflow/python/framework/ops.py\u001b[0m in \u001b[0;36menable_eager_execution_internal\u001b[0;34m(config, device_policy, execution_mode, server_def)\u001b[0m\n\u001b[1;32m   5025\u001b[0m         _default_graph_stack._global_default_graph is not None)  # pylint: disable=protected-access\n\u001b[1;32m   5026\u001b[0m     \u001b[0;32mif\u001b[0m \u001b[0mgraph_mode_has_been_used\u001b[0m\u001b[0;34m:\u001b[0m\u001b[0;34m\u001b[0m\u001b[0;34m\u001b[0m\u001b[0m\n\u001b[0;32m-> 5027\u001b[0;31m       raise ValueError(\n\u001b[0m\u001b[1;32m   5028\u001b[0m           \"tf.enable_eager_execution must be called at program startup.\")\n\u001b[1;32m   5029\u001b[0m   \u001b[0mcontext\u001b[0m\u001b[0;34m.\u001b[0m\u001b[0mdefault_execution_mode\u001b[0m \u001b[0;34m=\u001b[0m \u001b[0mcontext\u001b[0m\u001b[0;34m.\u001b[0m\u001b[0mEAGER_MODE\u001b[0m\u001b[0;34m\u001b[0m\u001b[0;34m\u001b[0m\u001b[0m\n",
            "\u001b[0;31mValueError\u001b[0m: tf.enable_eager_execution must be called at program startup."
          ]
        }
      ]
    },
    {
      "cell_type": "code",
      "source": [
        "tf.enable_eager_execution()"
      ],
      "metadata": {
        "colab": {
          "base_uri": "https://localhost:8080/",
          "height": 141
        },
        "id": "wl-W__0i_t3W",
        "outputId": "8e5e2f73-1456-47f6-e3b0-89bd70e17d78"
      },
      "execution_count": null,
      "outputs": [
        {
          "output_type": "error",
          "ename": "AttributeError",
          "evalue": "module 'tensorflow' has no attribute 'enable_eager_execution'",
          "traceback": [
            "\u001b[0;31m---------------------------------------------------------------------------\u001b[0m",
            "\u001b[0;31mAttributeError\u001b[0m                            Traceback (most recent call last)",
            "\u001b[0;32m<ipython-input-59-ddf3115bdcc7>\u001b[0m in \u001b[0;36m<cell line: 0>\u001b[0;34m()\u001b[0m\n\u001b[0;32m----> 1\u001b[0;31m \u001b[0mtf\u001b[0m\u001b[0;34m.\u001b[0m\u001b[0menable_eager_execution\u001b[0m\u001b[0;34m(\u001b[0m\u001b[0;34m)\u001b[0m\u001b[0;34m\u001b[0m\u001b[0;34m\u001b[0m\u001b[0m\n\u001b[0m",
            "\u001b[0;31mAttributeError\u001b[0m: module 'tensorflow' has no attribute 'enable_eager_execution'"
          ]
        }
      ]
    },
    {
      "cell_type": "code",
      "source": [
        "tf.executing_eagerly()"
      ],
      "metadata": {
        "colab": {
          "base_uri": "https://localhost:8080/"
        },
        "id": "8086SRhi_2Vj",
        "outputId": "f36e7a5e-f1c8-4494-e4b6-93d7389f70f4"
      },
      "execution_count": null,
      "outputs": [
        {
          "output_type": "execute_result",
          "data": {
            "text/plain": [
              "False"
            ]
          },
          "metadata": {},
          "execution_count": 60
        }
      ]
    },
    {
      "cell_type": "code",
      "source": [
        "from tensorflow.keras.callbacks import LearningRateScheduler\n",
        "import numpy as np\n",
        "\n",
        "# Learning rate scheduler function\n",
        "def lr_schedule(epoch, lr):\n",
        "    # Reduce learning rate by half every 10 epochs\n",
        "    if epoch % 10 == 0 and epoch != 0:\n",
        "        lr = lr * 0.5\n",
        "    return lr\n",
        "\n",
        "# Apply the learning rate scheduler callback\n",
        "lr_scheduler = LearningRateScheduler(lr_schedule)\n",
        "\n",
        "# Compile the model with the optimizer\n",
        "model_lstm.compile(loss='categorical_crossentropy', optimizer=optimizer, metrics=['accuracy'])\n",
        "model_gru.compile(loss='categorical_crossentropy', optimizer=optimizer, metrics=['accuracy'])\n",
        "\n",
        "# Train the model with the learning rate scheduler callback\n",
        "history_lstm = model_lstm.fit(X, y, epochs=50, batch_size=32, validation_split=0.2, callbacks=[lr_scheduler, early_stopping])\n",
        "history_gru = model_gru.fit(X, y, epochs=50, batch_size=32, validation_split=0.2, callbacks=[lr_scheduler, early_stopping])\n"
      ],
      "metadata": {
        "colab": {
          "base_uri": "https://localhost:8080/",
          "height": 211
        },
        "id": "oj-EAYcX-BKa",
        "outputId": "0a0ea9ec-a5de-47f0-8195-5c3d5818b481"
      },
      "execution_count": 4,
      "outputs": [
        {
          "output_type": "error",
          "ename": "NameError",
          "evalue": "name 'model_lstm' is not defined",
          "traceback": [
            "\u001b[0;31m---------------------------------------------------------------------------\u001b[0m",
            "\u001b[0;31mNameError\u001b[0m                                 Traceback (most recent call last)",
            "\u001b[0;32m<ipython-input-4-91d02ab65107>\u001b[0m in \u001b[0;36m<cell line: 0>\u001b[0;34m()\u001b[0m\n\u001b[1;32m     13\u001b[0m \u001b[0;34m\u001b[0m\u001b[0m\n\u001b[1;32m     14\u001b[0m \u001b[0;31m# Compile the model with the optimizer\u001b[0m\u001b[0;34m\u001b[0m\u001b[0;34m\u001b[0m\u001b[0m\n\u001b[0;32m---> 15\u001b[0;31m \u001b[0mmodel_lstm\u001b[0m\u001b[0;34m.\u001b[0m\u001b[0mcompile\u001b[0m\u001b[0;34m(\u001b[0m\u001b[0mloss\u001b[0m\u001b[0;34m=\u001b[0m\u001b[0;34m'categorical_crossentropy'\u001b[0m\u001b[0;34m,\u001b[0m \u001b[0moptimizer\u001b[0m\u001b[0;34m=\u001b[0m\u001b[0moptimizer\u001b[0m\u001b[0;34m,\u001b[0m \u001b[0mmetrics\u001b[0m\u001b[0;34m=\u001b[0m\u001b[0;34m[\u001b[0m\u001b[0;34m'accuracy'\u001b[0m\u001b[0;34m]\u001b[0m\u001b[0;34m)\u001b[0m\u001b[0;34m\u001b[0m\u001b[0;34m\u001b[0m\u001b[0m\n\u001b[0m\u001b[1;32m     16\u001b[0m \u001b[0mmodel_gru\u001b[0m\u001b[0;34m.\u001b[0m\u001b[0mcompile\u001b[0m\u001b[0;34m(\u001b[0m\u001b[0mloss\u001b[0m\u001b[0;34m=\u001b[0m\u001b[0;34m'categorical_crossentropy'\u001b[0m\u001b[0;34m,\u001b[0m \u001b[0moptimizer\u001b[0m\u001b[0;34m=\u001b[0m\u001b[0moptimizer\u001b[0m\u001b[0;34m,\u001b[0m \u001b[0mmetrics\u001b[0m\u001b[0;34m=\u001b[0m\u001b[0;34m[\u001b[0m\u001b[0;34m'accuracy'\u001b[0m\u001b[0;34m]\u001b[0m\u001b[0;34m)\u001b[0m\u001b[0;34m\u001b[0m\u001b[0;34m\u001b[0m\u001b[0m\n\u001b[1;32m     17\u001b[0m \u001b[0;34m\u001b[0m\u001b[0m\n",
            "\u001b[0;31mNameError\u001b[0m: name 'model_lstm' is not defined"
          ]
        }
      ]
    }
  ]
}